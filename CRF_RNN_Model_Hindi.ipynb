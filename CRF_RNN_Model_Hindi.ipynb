{
  "nbformat": 4,
  "nbformat_minor": 0,
  "metadata": {
    "colab": {
      "provenance": []
    },
    "kernelspec": {
      "name": "python3",
      "display_name": "Python 3"
    },
    "language_info": {
      "name": "python"
    },
    "widgets": {
      "application/vnd.jupyter.widget-state+json": {
        "02d58937cb0a40afbd983f433cac273f": {
          "model_module": "@jupyter-widgets/controls",
          "model_name": "HBoxModel",
          "model_module_version": "1.5.0",
          "state": {
            "_dom_classes": [],
            "_model_module": "@jupyter-widgets/controls",
            "_model_module_version": "1.5.0",
            "_model_name": "HBoxModel",
            "_view_count": null,
            "_view_module": "@jupyter-widgets/controls",
            "_view_module_version": "1.5.0",
            "_view_name": "HBoxView",
            "box_style": "",
            "children": [
              "IPY_MODEL_17b831aaad02409aa23c2acb3819798a",
              "IPY_MODEL_273fb8b9e407430389be87da21006a7c",
              "IPY_MODEL_073f92cc83e641c080ed1a1f8d1e40c6"
            ],
            "layout": "IPY_MODEL_e7910c95ab114952b6b2c483fedce107"
          }
        },
        "17b831aaad02409aa23c2acb3819798a": {
          "model_module": "@jupyter-widgets/controls",
          "model_name": "HTMLModel",
          "model_module_version": "1.5.0",
          "state": {
            "_dom_classes": [],
            "_model_module": "@jupyter-widgets/controls",
            "_model_module_version": "1.5.0",
            "_model_name": "HTMLModel",
            "_view_count": null,
            "_view_module": "@jupyter-widgets/controls",
            "_view_module_version": "1.5.0",
            "_view_name": "HTMLView",
            "description": "",
            "description_tooltip": null,
            "layout": "IPY_MODEL_9614456104d7454c87349dab7443accd",
            "placeholder": "​",
            "style": "IPY_MODEL_b8c6434530e74f44a558e99cace52438",
            "value": "tokenizer_config.json: 100%"
          }
        },
        "273fb8b9e407430389be87da21006a7c": {
          "model_module": "@jupyter-widgets/controls",
          "model_name": "FloatProgressModel",
          "model_module_version": "1.5.0",
          "state": {
            "_dom_classes": [],
            "_model_module": "@jupyter-widgets/controls",
            "_model_module_version": "1.5.0",
            "_model_name": "FloatProgressModel",
            "_view_count": null,
            "_view_module": "@jupyter-widgets/controls",
            "_view_module_version": "1.5.0",
            "_view_name": "ProgressView",
            "bar_style": "success",
            "description": "",
            "description_tooltip": null,
            "layout": "IPY_MODEL_7517b149772840ae8c68699d1646e34a",
            "max": 206,
            "min": 0,
            "orientation": "horizontal",
            "style": "IPY_MODEL_5ffaca2a3ab8418d988e221bc52a81ee",
            "value": 206
          }
        },
        "073f92cc83e641c080ed1a1f8d1e40c6": {
          "model_module": "@jupyter-widgets/controls",
          "model_name": "HTMLModel",
          "model_module_version": "1.5.0",
          "state": {
            "_dom_classes": [],
            "_model_module": "@jupyter-widgets/controls",
            "_model_module_version": "1.5.0",
            "_model_name": "HTMLModel",
            "_view_count": null,
            "_view_module": "@jupyter-widgets/controls",
            "_view_module_version": "1.5.0",
            "_view_name": "HTMLView",
            "description": "",
            "description_tooltip": null,
            "layout": "IPY_MODEL_f11ea6e2bb0344b382282338e46384c2",
            "placeholder": "​",
            "style": "IPY_MODEL_83bada0eb47c4be89bc7893c0ec50532",
            "value": " 206/206 [00:00&lt;00:00, 10.2kB/s]"
          }
        },
        "e7910c95ab114952b6b2c483fedce107": {
          "model_module": "@jupyter-widgets/base",
          "model_name": "LayoutModel",
          "model_module_version": "1.2.0",
          "state": {
            "_model_module": "@jupyter-widgets/base",
            "_model_module_version": "1.2.0",
            "_model_name": "LayoutModel",
            "_view_count": null,
            "_view_module": "@jupyter-widgets/base",
            "_view_module_version": "1.2.0",
            "_view_name": "LayoutView",
            "align_content": null,
            "align_items": null,
            "align_self": null,
            "border": null,
            "bottom": null,
            "display": null,
            "flex": null,
            "flex_flow": null,
            "grid_area": null,
            "grid_auto_columns": null,
            "grid_auto_flow": null,
            "grid_auto_rows": null,
            "grid_column": null,
            "grid_gap": null,
            "grid_row": null,
            "grid_template_areas": null,
            "grid_template_columns": null,
            "grid_template_rows": null,
            "height": null,
            "justify_content": null,
            "justify_items": null,
            "left": null,
            "margin": null,
            "max_height": null,
            "max_width": null,
            "min_height": null,
            "min_width": null,
            "object_fit": null,
            "object_position": null,
            "order": null,
            "overflow": null,
            "overflow_x": null,
            "overflow_y": null,
            "padding": null,
            "right": null,
            "top": null,
            "visibility": null,
            "width": null
          }
        },
        "9614456104d7454c87349dab7443accd": {
          "model_module": "@jupyter-widgets/base",
          "model_name": "LayoutModel",
          "model_module_version": "1.2.0",
          "state": {
            "_model_module": "@jupyter-widgets/base",
            "_model_module_version": "1.2.0",
            "_model_name": "LayoutModel",
            "_view_count": null,
            "_view_module": "@jupyter-widgets/base",
            "_view_module_version": "1.2.0",
            "_view_name": "LayoutView",
            "align_content": null,
            "align_items": null,
            "align_self": null,
            "border": null,
            "bottom": null,
            "display": null,
            "flex": null,
            "flex_flow": null,
            "grid_area": null,
            "grid_auto_columns": null,
            "grid_auto_flow": null,
            "grid_auto_rows": null,
            "grid_column": null,
            "grid_gap": null,
            "grid_row": null,
            "grid_template_areas": null,
            "grid_template_columns": null,
            "grid_template_rows": null,
            "height": null,
            "justify_content": null,
            "justify_items": null,
            "left": null,
            "margin": null,
            "max_height": null,
            "max_width": null,
            "min_height": null,
            "min_width": null,
            "object_fit": null,
            "object_position": null,
            "order": null,
            "overflow": null,
            "overflow_x": null,
            "overflow_y": null,
            "padding": null,
            "right": null,
            "top": null,
            "visibility": null,
            "width": null
          }
        },
        "b8c6434530e74f44a558e99cace52438": {
          "model_module": "@jupyter-widgets/controls",
          "model_name": "DescriptionStyleModel",
          "model_module_version": "1.5.0",
          "state": {
            "_model_module": "@jupyter-widgets/controls",
            "_model_module_version": "1.5.0",
            "_model_name": "DescriptionStyleModel",
            "_view_count": null,
            "_view_module": "@jupyter-widgets/base",
            "_view_module_version": "1.2.0",
            "_view_name": "StyleView",
            "description_width": ""
          }
        },
        "7517b149772840ae8c68699d1646e34a": {
          "model_module": "@jupyter-widgets/base",
          "model_name": "LayoutModel",
          "model_module_version": "1.2.0",
          "state": {
            "_model_module": "@jupyter-widgets/base",
            "_model_module_version": "1.2.0",
            "_model_name": "LayoutModel",
            "_view_count": null,
            "_view_module": "@jupyter-widgets/base",
            "_view_module_version": "1.2.0",
            "_view_name": "LayoutView",
            "align_content": null,
            "align_items": null,
            "align_self": null,
            "border": null,
            "bottom": null,
            "display": null,
            "flex": null,
            "flex_flow": null,
            "grid_area": null,
            "grid_auto_columns": null,
            "grid_auto_flow": null,
            "grid_auto_rows": null,
            "grid_column": null,
            "grid_gap": null,
            "grid_row": null,
            "grid_template_areas": null,
            "grid_template_columns": null,
            "grid_template_rows": null,
            "height": null,
            "justify_content": null,
            "justify_items": null,
            "left": null,
            "margin": null,
            "max_height": null,
            "max_width": null,
            "min_height": null,
            "min_width": null,
            "object_fit": null,
            "object_position": null,
            "order": null,
            "overflow": null,
            "overflow_x": null,
            "overflow_y": null,
            "padding": null,
            "right": null,
            "top": null,
            "visibility": null,
            "width": null
          }
        },
        "5ffaca2a3ab8418d988e221bc52a81ee": {
          "model_module": "@jupyter-widgets/controls",
          "model_name": "ProgressStyleModel",
          "model_module_version": "1.5.0",
          "state": {
            "_model_module": "@jupyter-widgets/controls",
            "_model_module_version": "1.5.0",
            "_model_name": "ProgressStyleModel",
            "_view_count": null,
            "_view_module": "@jupyter-widgets/base",
            "_view_module_version": "1.2.0",
            "_view_name": "StyleView",
            "bar_color": null,
            "description_width": ""
          }
        },
        "f11ea6e2bb0344b382282338e46384c2": {
          "model_module": "@jupyter-widgets/base",
          "model_name": "LayoutModel",
          "model_module_version": "1.2.0",
          "state": {
            "_model_module": "@jupyter-widgets/base",
            "_model_module_version": "1.2.0",
            "_model_name": "LayoutModel",
            "_view_count": null,
            "_view_module": "@jupyter-widgets/base",
            "_view_module_version": "1.2.0",
            "_view_name": "LayoutView",
            "align_content": null,
            "align_items": null,
            "align_self": null,
            "border": null,
            "bottom": null,
            "display": null,
            "flex": null,
            "flex_flow": null,
            "grid_area": null,
            "grid_auto_columns": null,
            "grid_auto_flow": null,
            "grid_auto_rows": null,
            "grid_column": null,
            "grid_gap": null,
            "grid_row": null,
            "grid_template_areas": null,
            "grid_template_columns": null,
            "grid_template_rows": null,
            "height": null,
            "justify_content": null,
            "justify_items": null,
            "left": null,
            "margin": null,
            "max_height": null,
            "max_width": null,
            "min_height": null,
            "min_width": null,
            "object_fit": null,
            "object_position": null,
            "order": null,
            "overflow": null,
            "overflow_x": null,
            "overflow_y": null,
            "padding": null,
            "right": null,
            "top": null,
            "visibility": null,
            "width": null
          }
        },
        "83bada0eb47c4be89bc7893c0ec50532": {
          "model_module": "@jupyter-widgets/controls",
          "model_name": "DescriptionStyleModel",
          "model_module_version": "1.5.0",
          "state": {
            "_model_module": "@jupyter-widgets/controls",
            "_model_module_version": "1.5.0",
            "_model_name": "DescriptionStyleModel",
            "_view_count": null,
            "_view_module": "@jupyter-widgets/base",
            "_view_module_version": "1.2.0",
            "_view_name": "StyleView",
            "description_width": ""
          }
        },
        "f9134b7887d5421c82a7e985a34bc629": {
          "model_module": "@jupyter-widgets/controls",
          "model_name": "HBoxModel",
          "model_module_version": "1.5.0",
          "state": {
            "_dom_classes": [],
            "_model_module": "@jupyter-widgets/controls",
            "_model_module_version": "1.5.0",
            "_model_name": "HBoxModel",
            "_view_count": null,
            "_view_module": "@jupyter-widgets/controls",
            "_view_module_version": "1.5.0",
            "_view_name": "HBoxView",
            "box_style": "",
            "children": [
              "IPY_MODEL_d2cf80a96b14472bb68ab1b7523b8d32",
              "IPY_MODEL_074250b2f9c048e3a08dcffabc4f7935",
              "IPY_MODEL_1b5a726da65c41b5b2397c674e0e9dca"
            ],
            "layout": "IPY_MODEL_e79785df95ba41889c3e9a0c8bd09cab"
          }
        },
        "d2cf80a96b14472bb68ab1b7523b8d32": {
          "model_module": "@jupyter-widgets/controls",
          "model_name": "HTMLModel",
          "model_module_version": "1.5.0",
          "state": {
            "_dom_classes": [],
            "_model_module": "@jupyter-widgets/controls",
            "_model_module_version": "1.5.0",
            "_model_name": "HTMLModel",
            "_view_count": null,
            "_view_module": "@jupyter-widgets/controls",
            "_view_module_version": "1.5.0",
            "_view_name": "HTMLView",
            "description": "",
            "description_tooltip": null,
            "layout": "IPY_MODEL_11c56d7b84284f68b278dfa7176adb9b",
            "placeholder": "​",
            "style": "IPY_MODEL_1e53dd8600a64f3e813d0987b9a61d84",
            "value": "config.json: 100%"
          }
        },
        "074250b2f9c048e3a08dcffabc4f7935": {
          "model_module": "@jupyter-widgets/controls",
          "model_name": "FloatProgressModel",
          "model_module_version": "1.5.0",
          "state": {
            "_dom_classes": [],
            "_model_module": "@jupyter-widgets/controls",
            "_model_module_version": "1.5.0",
            "_model_name": "FloatProgressModel",
            "_view_count": null,
            "_view_module": "@jupyter-widgets/controls",
            "_view_module_version": "1.5.0",
            "_view_name": "ProgressView",
            "bar_style": "success",
            "description": "",
            "description_tooltip": null,
            "layout": "IPY_MODEL_dfd25e9d297a420d87efd87965fa26ed",
            "max": 411,
            "min": 0,
            "orientation": "horizontal",
            "style": "IPY_MODEL_c48ab33062b64c3092c0c1c9153cae1e",
            "value": 411
          }
        },
        "1b5a726da65c41b5b2397c674e0e9dca": {
          "model_module": "@jupyter-widgets/controls",
          "model_name": "HTMLModel",
          "model_module_version": "1.5.0",
          "state": {
            "_dom_classes": [],
            "_model_module": "@jupyter-widgets/controls",
            "_model_module_version": "1.5.0",
            "_model_name": "HTMLModel",
            "_view_count": null,
            "_view_module": "@jupyter-widgets/controls",
            "_view_module_version": "1.5.0",
            "_view_name": "HTMLView",
            "description": "",
            "description_tooltip": null,
            "layout": "IPY_MODEL_ff443aded6fe4a729f025f822a7b4f53",
            "placeholder": "​",
            "style": "IPY_MODEL_9613d91455fd4c49b3c25355c2b142a8",
            "value": " 411/411 [00:00&lt;00:00, 23.6kB/s]"
          }
        },
        "e79785df95ba41889c3e9a0c8bd09cab": {
          "model_module": "@jupyter-widgets/base",
          "model_name": "LayoutModel",
          "model_module_version": "1.2.0",
          "state": {
            "_model_module": "@jupyter-widgets/base",
            "_model_module_version": "1.2.0",
            "_model_name": "LayoutModel",
            "_view_count": null,
            "_view_module": "@jupyter-widgets/base",
            "_view_module_version": "1.2.0",
            "_view_name": "LayoutView",
            "align_content": null,
            "align_items": null,
            "align_self": null,
            "border": null,
            "bottom": null,
            "display": null,
            "flex": null,
            "flex_flow": null,
            "grid_area": null,
            "grid_auto_columns": null,
            "grid_auto_flow": null,
            "grid_auto_rows": null,
            "grid_column": null,
            "grid_gap": null,
            "grid_row": null,
            "grid_template_areas": null,
            "grid_template_columns": null,
            "grid_template_rows": null,
            "height": null,
            "justify_content": null,
            "justify_items": null,
            "left": null,
            "margin": null,
            "max_height": null,
            "max_width": null,
            "min_height": null,
            "min_width": null,
            "object_fit": null,
            "object_position": null,
            "order": null,
            "overflow": null,
            "overflow_x": null,
            "overflow_y": null,
            "padding": null,
            "right": null,
            "top": null,
            "visibility": null,
            "width": null
          }
        },
        "11c56d7b84284f68b278dfa7176adb9b": {
          "model_module": "@jupyter-widgets/base",
          "model_name": "LayoutModel",
          "model_module_version": "1.2.0",
          "state": {
            "_model_module": "@jupyter-widgets/base",
            "_model_module_version": "1.2.0",
            "_model_name": "LayoutModel",
            "_view_count": null,
            "_view_module": "@jupyter-widgets/base",
            "_view_module_version": "1.2.0",
            "_view_name": "LayoutView",
            "align_content": null,
            "align_items": null,
            "align_self": null,
            "border": null,
            "bottom": null,
            "display": null,
            "flex": null,
            "flex_flow": null,
            "grid_area": null,
            "grid_auto_columns": null,
            "grid_auto_flow": null,
            "grid_auto_rows": null,
            "grid_column": null,
            "grid_gap": null,
            "grid_row": null,
            "grid_template_areas": null,
            "grid_template_columns": null,
            "grid_template_rows": null,
            "height": null,
            "justify_content": null,
            "justify_items": null,
            "left": null,
            "margin": null,
            "max_height": null,
            "max_width": null,
            "min_height": null,
            "min_width": null,
            "object_fit": null,
            "object_position": null,
            "order": null,
            "overflow": null,
            "overflow_x": null,
            "overflow_y": null,
            "padding": null,
            "right": null,
            "top": null,
            "visibility": null,
            "width": null
          }
        },
        "1e53dd8600a64f3e813d0987b9a61d84": {
          "model_module": "@jupyter-widgets/controls",
          "model_name": "DescriptionStyleModel",
          "model_module_version": "1.5.0",
          "state": {
            "_model_module": "@jupyter-widgets/controls",
            "_model_module_version": "1.5.0",
            "_model_name": "DescriptionStyleModel",
            "_view_count": null,
            "_view_module": "@jupyter-widgets/base",
            "_view_module_version": "1.2.0",
            "_view_name": "StyleView",
            "description_width": ""
          }
        },
        "dfd25e9d297a420d87efd87965fa26ed": {
          "model_module": "@jupyter-widgets/base",
          "model_name": "LayoutModel",
          "model_module_version": "1.2.0",
          "state": {
            "_model_module": "@jupyter-widgets/base",
            "_model_module_version": "1.2.0",
            "_model_name": "LayoutModel",
            "_view_count": null,
            "_view_module": "@jupyter-widgets/base",
            "_view_module_version": "1.2.0",
            "_view_name": "LayoutView",
            "align_content": null,
            "align_items": null,
            "align_self": null,
            "border": null,
            "bottom": null,
            "display": null,
            "flex": null,
            "flex_flow": null,
            "grid_area": null,
            "grid_auto_columns": null,
            "grid_auto_flow": null,
            "grid_auto_rows": null,
            "grid_column": null,
            "grid_gap": null,
            "grid_row": null,
            "grid_template_areas": null,
            "grid_template_columns": null,
            "grid_template_rows": null,
            "height": null,
            "justify_content": null,
            "justify_items": null,
            "left": null,
            "margin": null,
            "max_height": null,
            "max_width": null,
            "min_height": null,
            "min_width": null,
            "object_fit": null,
            "object_position": null,
            "order": null,
            "overflow": null,
            "overflow_x": null,
            "overflow_y": null,
            "padding": null,
            "right": null,
            "top": null,
            "visibility": null,
            "width": null
          }
        },
        "c48ab33062b64c3092c0c1c9153cae1e": {
          "model_module": "@jupyter-widgets/controls",
          "model_name": "ProgressStyleModel",
          "model_module_version": "1.5.0",
          "state": {
            "_model_module": "@jupyter-widgets/controls",
            "_model_module_version": "1.5.0",
            "_model_name": "ProgressStyleModel",
            "_view_count": null,
            "_view_module": "@jupyter-widgets/base",
            "_view_module_version": "1.2.0",
            "_view_name": "StyleView",
            "bar_color": null,
            "description_width": ""
          }
        },
        "ff443aded6fe4a729f025f822a7b4f53": {
          "model_module": "@jupyter-widgets/base",
          "model_name": "LayoutModel",
          "model_module_version": "1.2.0",
          "state": {
            "_model_module": "@jupyter-widgets/base",
            "_model_module_version": "1.2.0",
            "_model_name": "LayoutModel",
            "_view_count": null,
            "_view_module": "@jupyter-widgets/base",
            "_view_module_version": "1.2.0",
            "_view_name": "LayoutView",
            "align_content": null,
            "align_items": null,
            "align_self": null,
            "border": null,
            "bottom": null,
            "display": null,
            "flex": null,
            "flex_flow": null,
            "grid_area": null,
            "grid_auto_columns": null,
            "grid_auto_flow": null,
            "grid_auto_rows": null,
            "grid_column": null,
            "grid_gap": null,
            "grid_row": null,
            "grid_template_areas": null,
            "grid_template_columns": null,
            "grid_template_rows": null,
            "height": null,
            "justify_content": null,
            "justify_items": null,
            "left": null,
            "margin": null,
            "max_height": null,
            "max_width": null,
            "min_height": null,
            "min_width": null,
            "object_fit": null,
            "object_position": null,
            "order": null,
            "overflow": null,
            "overflow_x": null,
            "overflow_y": null,
            "padding": null,
            "right": null,
            "top": null,
            "visibility": null,
            "width": null
          }
        },
        "9613d91455fd4c49b3c25355c2b142a8": {
          "model_module": "@jupyter-widgets/controls",
          "model_name": "DescriptionStyleModel",
          "model_module_version": "1.5.0",
          "state": {
            "_model_module": "@jupyter-widgets/controls",
            "_model_module_version": "1.5.0",
            "_model_name": "DescriptionStyleModel",
            "_view_count": null,
            "_view_module": "@jupyter-widgets/base",
            "_view_module_version": "1.2.0",
            "_view_name": "StyleView",
            "description_width": ""
          }
        },
        "48018cf380754851833cca7407e1614d": {
          "model_module": "@jupyter-widgets/controls",
          "model_name": "HBoxModel",
          "model_module_version": "1.5.0",
          "state": {
            "_dom_classes": [],
            "_model_module": "@jupyter-widgets/controls",
            "_model_module_version": "1.5.0",
            "_model_name": "HBoxModel",
            "_view_count": null,
            "_view_module": "@jupyter-widgets/controls",
            "_view_module_version": "1.5.0",
            "_view_name": "HBoxView",
            "box_style": "",
            "children": [
              "IPY_MODEL_bda5e96fe9364016bfad22f4925f77e1",
              "IPY_MODEL_4daba4b245b04e92b8232212c1b201e2",
              "IPY_MODEL_19a1bba63fd841bab3062d8ac3f7f4df"
            ],
            "layout": "IPY_MODEL_51d591c9ad8a426e90ccc86f349510d6"
          }
        },
        "bda5e96fe9364016bfad22f4925f77e1": {
          "model_module": "@jupyter-widgets/controls",
          "model_name": "HTMLModel",
          "model_module_version": "1.5.0",
          "state": {
            "_dom_classes": [],
            "_model_module": "@jupyter-widgets/controls",
            "_model_module_version": "1.5.0",
            "_model_name": "HTMLModel",
            "_view_count": null,
            "_view_module": "@jupyter-widgets/controls",
            "_view_module_version": "1.5.0",
            "_view_name": "HTMLView",
            "description": "",
            "description_tooltip": null,
            "layout": "IPY_MODEL_ace9b87ab9694738b1a4ef7a4184bc37",
            "placeholder": "​",
            "style": "IPY_MODEL_403a588a19aa4be08c6354120c7e67b3",
            "value": "vocab.txt: 100%"
          }
        },
        "4daba4b245b04e92b8232212c1b201e2": {
          "model_module": "@jupyter-widgets/controls",
          "model_name": "FloatProgressModel",
          "model_module_version": "1.5.0",
          "state": {
            "_dom_classes": [],
            "_model_module": "@jupyter-widgets/controls",
            "_model_module_version": "1.5.0",
            "_model_name": "FloatProgressModel",
            "_view_count": null,
            "_view_module": "@jupyter-widgets/controls",
            "_view_module_version": "1.5.0",
            "_view_name": "ProgressView",
            "bar_style": "success",
            "description": "",
            "description_tooltip": null,
            "layout": "IPY_MODEL_28a7f20dcb6d40b189ae2a3161cda0cf",
            "max": 3162999,
            "min": 0,
            "orientation": "horizontal",
            "style": "IPY_MODEL_c3bd95425dd44e0bbd1c31f687b21308",
            "value": 3162999
          }
        },
        "19a1bba63fd841bab3062d8ac3f7f4df": {
          "model_module": "@jupyter-widgets/controls",
          "model_name": "HTMLModel",
          "model_module_version": "1.5.0",
          "state": {
            "_dom_classes": [],
            "_model_module": "@jupyter-widgets/controls",
            "_model_module_version": "1.5.0",
            "_model_name": "HTMLModel",
            "_view_count": null,
            "_view_module": "@jupyter-widgets/controls",
            "_view_module_version": "1.5.0",
            "_view_name": "HTMLView",
            "description": "",
            "description_tooltip": null,
            "layout": "IPY_MODEL_3e063844e56648b996fcf9dc622e43fa",
            "placeholder": "​",
            "style": "IPY_MODEL_328348cc053b4dcebbec364627714f61",
            "value": " 3.16M/3.16M [00:00&lt;00:00, 29.4MB/s]"
          }
        },
        "51d591c9ad8a426e90ccc86f349510d6": {
          "model_module": "@jupyter-widgets/base",
          "model_name": "LayoutModel",
          "model_module_version": "1.2.0",
          "state": {
            "_model_module": "@jupyter-widgets/base",
            "_model_module_version": "1.2.0",
            "_model_name": "LayoutModel",
            "_view_count": null,
            "_view_module": "@jupyter-widgets/base",
            "_view_module_version": "1.2.0",
            "_view_name": "LayoutView",
            "align_content": null,
            "align_items": null,
            "align_self": null,
            "border": null,
            "bottom": null,
            "display": null,
            "flex": null,
            "flex_flow": null,
            "grid_area": null,
            "grid_auto_columns": null,
            "grid_auto_flow": null,
            "grid_auto_rows": null,
            "grid_column": null,
            "grid_gap": null,
            "grid_row": null,
            "grid_template_areas": null,
            "grid_template_columns": null,
            "grid_template_rows": null,
            "height": null,
            "justify_content": null,
            "justify_items": null,
            "left": null,
            "margin": null,
            "max_height": null,
            "max_width": null,
            "min_height": null,
            "min_width": null,
            "object_fit": null,
            "object_position": null,
            "order": null,
            "overflow": null,
            "overflow_x": null,
            "overflow_y": null,
            "padding": null,
            "right": null,
            "top": null,
            "visibility": null,
            "width": null
          }
        },
        "ace9b87ab9694738b1a4ef7a4184bc37": {
          "model_module": "@jupyter-widgets/base",
          "model_name": "LayoutModel",
          "model_module_version": "1.2.0",
          "state": {
            "_model_module": "@jupyter-widgets/base",
            "_model_module_version": "1.2.0",
            "_model_name": "LayoutModel",
            "_view_count": null,
            "_view_module": "@jupyter-widgets/base",
            "_view_module_version": "1.2.0",
            "_view_name": "LayoutView",
            "align_content": null,
            "align_items": null,
            "align_self": null,
            "border": null,
            "bottom": null,
            "display": null,
            "flex": null,
            "flex_flow": null,
            "grid_area": null,
            "grid_auto_columns": null,
            "grid_auto_flow": null,
            "grid_auto_rows": null,
            "grid_column": null,
            "grid_gap": null,
            "grid_row": null,
            "grid_template_areas": null,
            "grid_template_columns": null,
            "grid_template_rows": null,
            "height": null,
            "justify_content": null,
            "justify_items": null,
            "left": null,
            "margin": null,
            "max_height": null,
            "max_width": null,
            "min_height": null,
            "min_width": null,
            "object_fit": null,
            "object_position": null,
            "order": null,
            "overflow": null,
            "overflow_x": null,
            "overflow_y": null,
            "padding": null,
            "right": null,
            "top": null,
            "visibility": null,
            "width": null
          }
        },
        "403a588a19aa4be08c6354120c7e67b3": {
          "model_module": "@jupyter-widgets/controls",
          "model_name": "DescriptionStyleModel",
          "model_module_version": "1.5.0",
          "state": {
            "_model_module": "@jupyter-widgets/controls",
            "_model_module_version": "1.5.0",
            "_model_name": "DescriptionStyleModel",
            "_view_count": null,
            "_view_module": "@jupyter-widgets/base",
            "_view_module_version": "1.2.0",
            "_view_name": "StyleView",
            "description_width": ""
          }
        },
        "28a7f20dcb6d40b189ae2a3161cda0cf": {
          "model_module": "@jupyter-widgets/base",
          "model_name": "LayoutModel",
          "model_module_version": "1.2.0",
          "state": {
            "_model_module": "@jupyter-widgets/base",
            "_model_module_version": "1.2.0",
            "_model_name": "LayoutModel",
            "_view_count": null,
            "_view_module": "@jupyter-widgets/base",
            "_view_module_version": "1.2.0",
            "_view_name": "LayoutView",
            "align_content": null,
            "align_items": null,
            "align_self": null,
            "border": null,
            "bottom": null,
            "display": null,
            "flex": null,
            "flex_flow": null,
            "grid_area": null,
            "grid_auto_columns": null,
            "grid_auto_flow": null,
            "grid_auto_rows": null,
            "grid_column": null,
            "grid_gap": null,
            "grid_row": null,
            "grid_template_areas": null,
            "grid_template_columns": null,
            "grid_template_rows": null,
            "height": null,
            "justify_content": null,
            "justify_items": null,
            "left": null,
            "margin": null,
            "max_height": null,
            "max_width": null,
            "min_height": null,
            "min_width": null,
            "object_fit": null,
            "object_position": null,
            "order": null,
            "overflow": null,
            "overflow_x": null,
            "overflow_y": null,
            "padding": null,
            "right": null,
            "top": null,
            "visibility": null,
            "width": null
          }
        },
        "c3bd95425dd44e0bbd1c31f687b21308": {
          "model_module": "@jupyter-widgets/controls",
          "model_name": "ProgressStyleModel",
          "model_module_version": "1.5.0",
          "state": {
            "_model_module": "@jupyter-widgets/controls",
            "_model_module_version": "1.5.0",
            "_model_name": "ProgressStyleModel",
            "_view_count": null,
            "_view_module": "@jupyter-widgets/base",
            "_view_module_version": "1.2.0",
            "_view_name": "StyleView",
            "bar_color": null,
            "description_width": ""
          }
        },
        "3e063844e56648b996fcf9dc622e43fa": {
          "model_module": "@jupyter-widgets/base",
          "model_name": "LayoutModel",
          "model_module_version": "1.2.0",
          "state": {
            "_model_module": "@jupyter-widgets/base",
            "_model_module_version": "1.2.0",
            "_model_name": "LayoutModel",
            "_view_count": null,
            "_view_module": "@jupyter-widgets/base",
            "_view_module_version": "1.2.0",
            "_view_name": "LayoutView",
            "align_content": null,
            "align_items": null,
            "align_self": null,
            "border": null,
            "bottom": null,
            "display": null,
            "flex": null,
            "flex_flow": null,
            "grid_area": null,
            "grid_auto_columns": null,
            "grid_auto_flow": null,
            "grid_auto_rows": null,
            "grid_column": null,
            "grid_gap": null,
            "grid_row": null,
            "grid_template_areas": null,
            "grid_template_columns": null,
            "grid_template_rows": null,
            "height": null,
            "justify_content": null,
            "justify_items": null,
            "left": null,
            "margin": null,
            "max_height": null,
            "max_width": null,
            "min_height": null,
            "min_width": null,
            "object_fit": null,
            "object_position": null,
            "order": null,
            "overflow": null,
            "overflow_x": null,
            "overflow_y": null,
            "padding": null,
            "right": null,
            "top": null,
            "visibility": null,
            "width": null
          }
        },
        "328348cc053b4dcebbec364627714f61": {
          "model_module": "@jupyter-widgets/controls",
          "model_name": "DescriptionStyleModel",
          "model_module_version": "1.5.0",
          "state": {
            "_model_module": "@jupyter-widgets/controls",
            "_model_module_version": "1.5.0",
            "_model_name": "DescriptionStyleModel",
            "_view_count": null,
            "_view_module": "@jupyter-widgets/base",
            "_view_module_version": "1.2.0",
            "_view_name": "StyleView",
            "description_width": ""
          }
        },
        "8b8c8d28f60b4fe7937be58156e21bfd": {
          "model_module": "@jupyter-widgets/controls",
          "model_name": "HBoxModel",
          "model_module_version": "1.5.0",
          "state": {
            "_dom_classes": [],
            "_model_module": "@jupyter-widgets/controls",
            "_model_module_version": "1.5.0",
            "_model_name": "HBoxModel",
            "_view_count": null,
            "_view_module": "@jupyter-widgets/controls",
            "_view_module_version": "1.5.0",
            "_view_name": "HBoxView",
            "box_style": "",
            "children": [
              "IPY_MODEL_9737b2e3c10c41088924567193183f26",
              "IPY_MODEL_60bd3131d6ee4b09b062ce9f8150c353",
              "IPY_MODEL_a54874e778434062920ad5661c544513"
            ],
            "layout": "IPY_MODEL_ed090963b8814748903dea9d36a84c38"
          }
        },
        "9737b2e3c10c41088924567193183f26": {
          "model_module": "@jupyter-widgets/controls",
          "model_name": "HTMLModel",
          "model_module_version": "1.5.0",
          "state": {
            "_dom_classes": [],
            "_model_module": "@jupyter-widgets/controls",
            "_model_module_version": "1.5.0",
            "_model_name": "HTMLModel",
            "_view_count": null,
            "_view_module": "@jupyter-widgets/controls",
            "_view_module_version": "1.5.0",
            "_view_name": "HTMLView",
            "description": "",
            "description_tooltip": null,
            "layout": "IPY_MODEL_1ebc3b2623e64f8da6b9bb5d43d5ec53",
            "placeholder": "​",
            "style": "IPY_MODEL_8bb38e6097e340aca81770c9d3d55796",
            "value": "special_tokens_map.json: 100%"
          }
        },
        "60bd3131d6ee4b09b062ce9f8150c353": {
          "model_module": "@jupyter-widgets/controls",
          "model_name": "FloatProgressModel",
          "model_module_version": "1.5.0",
          "state": {
            "_dom_classes": [],
            "_model_module": "@jupyter-widgets/controls",
            "_model_module_version": "1.5.0",
            "_model_name": "FloatProgressModel",
            "_view_count": null,
            "_view_module": "@jupyter-widgets/controls",
            "_view_module_version": "1.5.0",
            "_view_name": "ProgressView",
            "bar_style": "success",
            "description": "",
            "description_tooltip": null,
            "layout": "IPY_MODEL_53ad01edaeae4d009eba661bda77243b",
            "max": 113,
            "min": 0,
            "orientation": "horizontal",
            "style": "IPY_MODEL_5fb44d96aaf748849423783203393a33",
            "value": 113
          }
        },
        "a54874e778434062920ad5661c544513": {
          "model_module": "@jupyter-widgets/controls",
          "model_name": "HTMLModel",
          "model_module_version": "1.5.0",
          "state": {
            "_dom_classes": [],
            "_model_module": "@jupyter-widgets/controls",
            "_model_module_version": "1.5.0",
            "_model_name": "HTMLModel",
            "_view_count": null,
            "_view_module": "@jupyter-widgets/controls",
            "_view_module_version": "1.5.0",
            "_view_name": "HTMLView",
            "description": "",
            "description_tooltip": null,
            "layout": "IPY_MODEL_55bdd357b3174ec491e70e5dd1da6596",
            "placeholder": "​",
            "style": "IPY_MODEL_ce7408c8bf2b40db986642e5e2359577",
            "value": " 113/113 [00:00&lt;00:00, 5.45kB/s]"
          }
        },
        "ed090963b8814748903dea9d36a84c38": {
          "model_module": "@jupyter-widgets/base",
          "model_name": "LayoutModel",
          "model_module_version": "1.2.0",
          "state": {
            "_model_module": "@jupyter-widgets/base",
            "_model_module_version": "1.2.0",
            "_model_name": "LayoutModel",
            "_view_count": null,
            "_view_module": "@jupyter-widgets/base",
            "_view_module_version": "1.2.0",
            "_view_name": "LayoutView",
            "align_content": null,
            "align_items": null,
            "align_self": null,
            "border": null,
            "bottom": null,
            "display": null,
            "flex": null,
            "flex_flow": null,
            "grid_area": null,
            "grid_auto_columns": null,
            "grid_auto_flow": null,
            "grid_auto_rows": null,
            "grid_column": null,
            "grid_gap": null,
            "grid_row": null,
            "grid_template_areas": null,
            "grid_template_columns": null,
            "grid_template_rows": null,
            "height": null,
            "justify_content": null,
            "justify_items": null,
            "left": null,
            "margin": null,
            "max_height": null,
            "max_width": null,
            "min_height": null,
            "min_width": null,
            "object_fit": null,
            "object_position": null,
            "order": null,
            "overflow": null,
            "overflow_x": null,
            "overflow_y": null,
            "padding": null,
            "right": null,
            "top": null,
            "visibility": null,
            "width": null
          }
        },
        "1ebc3b2623e64f8da6b9bb5d43d5ec53": {
          "model_module": "@jupyter-widgets/base",
          "model_name": "LayoutModel",
          "model_module_version": "1.2.0",
          "state": {
            "_model_module": "@jupyter-widgets/base",
            "_model_module_version": "1.2.0",
            "_model_name": "LayoutModel",
            "_view_count": null,
            "_view_module": "@jupyter-widgets/base",
            "_view_module_version": "1.2.0",
            "_view_name": "LayoutView",
            "align_content": null,
            "align_items": null,
            "align_self": null,
            "border": null,
            "bottom": null,
            "display": null,
            "flex": null,
            "flex_flow": null,
            "grid_area": null,
            "grid_auto_columns": null,
            "grid_auto_flow": null,
            "grid_auto_rows": null,
            "grid_column": null,
            "grid_gap": null,
            "grid_row": null,
            "grid_template_areas": null,
            "grid_template_columns": null,
            "grid_template_rows": null,
            "height": null,
            "justify_content": null,
            "justify_items": null,
            "left": null,
            "margin": null,
            "max_height": null,
            "max_width": null,
            "min_height": null,
            "min_width": null,
            "object_fit": null,
            "object_position": null,
            "order": null,
            "overflow": null,
            "overflow_x": null,
            "overflow_y": null,
            "padding": null,
            "right": null,
            "top": null,
            "visibility": null,
            "width": null
          }
        },
        "8bb38e6097e340aca81770c9d3d55796": {
          "model_module": "@jupyter-widgets/controls",
          "model_name": "DescriptionStyleModel",
          "model_module_version": "1.5.0",
          "state": {
            "_model_module": "@jupyter-widgets/controls",
            "_model_module_version": "1.5.0",
            "_model_name": "DescriptionStyleModel",
            "_view_count": null,
            "_view_module": "@jupyter-widgets/base",
            "_view_module_version": "1.2.0",
            "_view_name": "StyleView",
            "description_width": ""
          }
        },
        "53ad01edaeae4d009eba661bda77243b": {
          "model_module": "@jupyter-widgets/base",
          "model_name": "LayoutModel",
          "model_module_version": "1.2.0",
          "state": {
            "_model_module": "@jupyter-widgets/base",
            "_model_module_version": "1.2.0",
            "_model_name": "LayoutModel",
            "_view_count": null,
            "_view_module": "@jupyter-widgets/base",
            "_view_module_version": "1.2.0",
            "_view_name": "LayoutView",
            "align_content": null,
            "align_items": null,
            "align_self": null,
            "border": null,
            "bottom": null,
            "display": null,
            "flex": null,
            "flex_flow": null,
            "grid_area": null,
            "grid_auto_columns": null,
            "grid_auto_flow": null,
            "grid_auto_rows": null,
            "grid_column": null,
            "grid_gap": null,
            "grid_row": null,
            "grid_template_areas": null,
            "grid_template_columns": null,
            "grid_template_rows": null,
            "height": null,
            "justify_content": null,
            "justify_items": null,
            "left": null,
            "margin": null,
            "max_height": null,
            "max_width": null,
            "min_height": null,
            "min_width": null,
            "object_fit": null,
            "object_position": null,
            "order": null,
            "overflow": null,
            "overflow_x": null,
            "overflow_y": null,
            "padding": null,
            "right": null,
            "top": null,
            "visibility": null,
            "width": null
          }
        },
        "5fb44d96aaf748849423783203393a33": {
          "model_module": "@jupyter-widgets/controls",
          "model_name": "ProgressStyleModel",
          "model_module_version": "1.5.0",
          "state": {
            "_model_module": "@jupyter-widgets/controls",
            "_model_module_version": "1.5.0",
            "_model_name": "ProgressStyleModel",
            "_view_count": null,
            "_view_module": "@jupyter-widgets/base",
            "_view_module_version": "1.2.0",
            "_view_name": "StyleView",
            "bar_color": null,
            "description_width": ""
          }
        },
        "55bdd357b3174ec491e70e5dd1da6596": {
          "model_module": "@jupyter-widgets/base",
          "model_name": "LayoutModel",
          "model_module_version": "1.2.0",
          "state": {
            "_model_module": "@jupyter-widgets/base",
            "_model_module_version": "1.2.0",
            "_model_name": "LayoutModel",
            "_view_count": null,
            "_view_module": "@jupyter-widgets/base",
            "_view_module_version": "1.2.0",
            "_view_name": "LayoutView",
            "align_content": null,
            "align_items": null,
            "align_self": null,
            "border": null,
            "bottom": null,
            "display": null,
            "flex": null,
            "flex_flow": null,
            "grid_area": null,
            "grid_auto_columns": null,
            "grid_auto_flow": null,
            "grid_auto_rows": null,
            "grid_column": null,
            "grid_gap": null,
            "grid_row": null,
            "grid_template_areas": null,
            "grid_template_columns": null,
            "grid_template_rows": null,
            "height": null,
            "justify_content": null,
            "justify_items": null,
            "left": null,
            "margin": null,
            "max_height": null,
            "max_width": null,
            "min_height": null,
            "min_width": null,
            "object_fit": null,
            "object_position": null,
            "order": null,
            "overflow": null,
            "overflow_x": null,
            "overflow_y": null,
            "padding": null,
            "right": null,
            "top": null,
            "visibility": null,
            "width": null
          }
        },
        "ce7408c8bf2b40db986642e5e2359577": {
          "model_module": "@jupyter-widgets/controls",
          "model_name": "DescriptionStyleModel",
          "model_module_version": "1.5.0",
          "state": {
            "_model_module": "@jupyter-widgets/controls",
            "_model_module_version": "1.5.0",
            "_model_name": "DescriptionStyleModel",
            "_view_count": null,
            "_view_module": "@jupyter-widgets/base",
            "_view_module_version": "1.2.0",
            "_view_name": "StyleView",
            "description_width": ""
          }
        },
        "5c1bc2ed97c8444fa9e80c3260f52e45": {
          "model_module": "@jupyter-widgets/controls",
          "model_name": "HBoxModel",
          "model_module_version": "1.5.0",
          "state": {
            "_dom_classes": [],
            "_model_module": "@jupyter-widgets/controls",
            "_model_module_version": "1.5.0",
            "_model_name": "HBoxModel",
            "_view_count": null,
            "_view_module": "@jupyter-widgets/controls",
            "_view_module_version": "1.5.0",
            "_view_name": "HBoxView",
            "box_style": "",
            "children": [
              "IPY_MODEL_061a92432c35408083e2c70a82dab757",
              "IPY_MODEL_b2325f758f274ac1b0717970f0694b24",
              "IPY_MODEL_1ce7b7fd913e406f9bac61dacd059242"
            ],
            "layout": "IPY_MODEL_9e22dc5c30114771b6e90606cf765e28"
          }
        },
        "061a92432c35408083e2c70a82dab757": {
          "model_module": "@jupyter-widgets/controls",
          "model_name": "HTMLModel",
          "model_module_version": "1.5.0",
          "state": {
            "_dom_classes": [],
            "_model_module": "@jupyter-widgets/controls",
            "_model_module_version": "1.5.0",
            "_model_name": "HTMLModel",
            "_view_count": null,
            "_view_module": "@jupyter-widgets/controls",
            "_view_module_version": "1.5.0",
            "_view_name": "HTMLView",
            "description": "",
            "description_tooltip": null,
            "layout": "IPY_MODEL_c5df3cf0db8c45faab172240424dc738",
            "placeholder": "​",
            "style": "IPY_MODEL_45dd1e05de204e05a8858d91140d6c63",
            "value": "pytorch_model.bin: 100%"
          }
        },
        "b2325f758f274ac1b0717970f0694b24": {
          "model_module": "@jupyter-widgets/controls",
          "model_name": "FloatProgressModel",
          "model_module_version": "1.5.0",
          "state": {
            "_dom_classes": [],
            "_model_module": "@jupyter-widgets/controls",
            "_model_module_version": "1.5.0",
            "_model_name": "FloatProgressModel",
            "_view_count": null,
            "_view_module": "@jupyter-widgets/controls",
            "_view_module_version": "1.5.0",
            "_view_name": "ProgressView",
            "bar_style": "success",
            "description": "",
            "description_tooltip": null,
            "layout": "IPY_MODEL_9642ed3a1fa0482eb954c475cfeeb015",
            "max": 953477430,
            "min": 0,
            "orientation": "horizontal",
            "style": "IPY_MODEL_73e231b0e2bf4a888a313ff666839268",
            "value": 953477430
          }
        },
        "1ce7b7fd913e406f9bac61dacd059242": {
          "model_module": "@jupyter-widgets/controls",
          "model_name": "HTMLModel",
          "model_module_version": "1.5.0",
          "state": {
            "_dom_classes": [],
            "_model_module": "@jupyter-widgets/controls",
            "_model_module_version": "1.5.0",
            "_model_name": "HTMLModel",
            "_view_count": null,
            "_view_module": "@jupyter-widgets/controls",
            "_view_module_version": "1.5.0",
            "_view_name": "HTMLView",
            "description": "",
            "description_tooltip": null,
            "layout": "IPY_MODEL_6177b8bc1cd04b83a195ac45094fa465",
            "placeholder": "​",
            "style": "IPY_MODEL_b5ac505f9617415a80b925547a84328c",
            "value": " 953M/953M [00:13&lt;00:00, 47.9MB/s]"
          }
        },
        "9e22dc5c30114771b6e90606cf765e28": {
          "model_module": "@jupyter-widgets/base",
          "model_name": "LayoutModel",
          "model_module_version": "1.2.0",
          "state": {
            "_model_module": "@jupyter-widgets/base",
            "_model_module_version": "1.2.0",
            "_model_name": "LayoutModel",
            "_view_count": null,
            "_view_module": "@jupyter-widgets/base",
            "_view_module_version": "1.2.0",
            "_view_name": "LayoutView",
            "align_content": null,
            "align_items": null,
            "align_self": null,
            "border": null,
            "bottom": null,
            "display": null,
            "flex": null,
            "flex_flow": null,
            "grid_area": null,
            "grid_auto_columns": null,
            "grid_auto_flow": null,
            "grid_auto_rows": null,
            "grid_column": null,
            "grid_gap": null,
            "grid_row": null,
            "grid_template_areas": null,
            "grid_template_columns": null,
            "grid_template_rows": null,
            "height": null,
            "justify_content": null,
            "justify_items": null,
            "left": null,
            "margin": null,
            "max_height": null,
            "max_width": null,
            "min_height": null,
            "min_width": null,
            "object_fit": null,
            "object_position": null,
            "order": null,
            "overflow": null,
            "overflow_x": null,
            "overflow_y": null,
            "padding": null,
            "right": null,
            "top": null,
            "visibility": null,
            "width": null
          }
        },
        "c5df3cf0db8c45faab172240424dc738": {
          "model_module": "@jupyter-widgets/base",
          "model_name": "LayoutModel",
          "model_module_version": "1.2.0",
          "state": {
            "_model_module": "@jupyter-widgets/base",
            "_model_module_version": "1.2.0",
            "_model_name": "LayoutModel",
            "_view_count": null,
            "_view_module": "@jupyter-widgets/base",
            "_view_module_version": "1.2.0",
            "_view_name": "LayoutView",
            "align_content": null,
            "align_items": null,
            "align_self": null,
            "border": null,
            "bottom": null,
            "display": null,
            "flex": null,
            "flex_flow": null,
            "grid_area": null,
            "grid_auto_columns": null,
            "grid_auto_flow": null,
            "grid_auto_rows": null,
            "grid_column": null,
            "grid_gap": null,
            "grid_row": null,
            "grid_template_areas": null,
            "grid_template_columns": null,
            "grid_template_rows": null,
            "height": null,
            "justify_content": null,
            "justify_items": null,
            "left": null,
            "margin": null,
            "max_height": null,
            "max_width": null,
            "min_height": null,
            "min_width": null,
            "object_fit": null,
            "object_position": null,
            "order": null,
            "overflow": null,
            "overflow_x": null,
            "overflow_y": null,
            "padding": null,
            "right": null,
            "top": null,
            "visibility": null,
            "width": null
          }
        },
        "45dd1e05de204e05a8858d91140d6c63": {
          "model_module": "@jupyter-widgets/controls",
          "model_name": "DescriptionStyleModel",
          "model_module_version": "1.5.0",
          "state": {
            "_model_module": "@jupyter-widgets/controls",
            "_model_module_version": "1.5.0",
            "_model_name": "DescriptionStyleModel",
            "_view_count": null,
            "_view_module": "@jupyter-widgets/base",
            "_view_module_version": "1.2.0",
            "_view_name": "StyleView",
            "description_width": ""
          }
        },
        "9642ed3a1fa0482eb954c475cfeeb015": {
          "model_module": "@jupyter-widgets/base",
          "model_name": "LayoutModel",
          "model_module_version": "1.2.0",
          "state": {
            "_model_module": "@jupyter-widgets/base",
            "_model_module_version": "1.2.0",
            "_model_name": "LayoutModel",
            "_view_count": null,
            "_view_module": "@jupyter-widgets/base",
            "_view_module_version": "1.2.0",
            "_view_name": "LayoutView",
            "align_content": null,
            "align_items": null,
            "align_self": null,
            "border": null,
            "bottom": null,
            "display": null,
            "flex": null,
            "flex_flow": null,
            "grid_area": null,
            "grid_auto_columns": null,
            "grid_auto_flow": null,
            "grid_auto_rows": null,
            "grid_column": null,
            "grid_gap": null,
            "grid_row": null,
            "grid_template_areas": null,
            "grid_template_columns": null,
            "grid_template_rows": null,
            "height": null,
            "justify_content": null,
            "justify_items": null,
            "left": null,
            "margin": null,
            "max_height": null,
            "max_width": null,
            "min_height": null,
            "min_width": null,
            "object_fit": null,
            "object_position": null,
            "order": null,
            "overflow": null,
            "overflow_x": null,
            "overflow_y": null,
            "padding": null,
            "right": null,
            "top": null,
            "visibility": null,
            "width": null
          }
        },
        "73e231b0e2bf4a888a313ff666839268": {
          "model_module": "@jupyter-widgets/controls",
          "model_name": "ProgressStyleModel",
          "model_module_version": "1.5.0",
          "state": {
            "_model_module": "@jupyter-widgets/controls",
            "_model_module_version": "1.5.0",
            "_model_name": "ProgressStyleModel",
            "_view_count": null,
            "_view_module": "@jupyter-widgets/base",
            "_view_module_version": "1.2.0",
            "_view_name": "StyleView",
            "bar_color": null,
            "description_width": ""
          }
        },
        "6177b8bc1cd04b83a195ac45094fa465": {
          "model_module": "@jupyter-widgets/base",
          "model_name": "LayoutModel",
          "model_module_version": "1.2.0",
          "state": {
            "_model_module": "@jupyter-widgets/base",
            "_model_module_version": "1.2.0",
            "_model_name": "LayoutModel",
            "_view_count": null,
            "_view_module": "@jupyter-widgets/base",
            "_view_module_version": "1.2.0",
            "_view_name": "LayoutView",
            "align_content": null,
            "align_items": null,
            "align_self": null,
            "border": null,
            "bottom": null,
            "display": null,
            "flex": null,
            "flex_flow": null,
            "grid_area": null,
            "grid_auto_columns": null,
            "grid_auto_flow": null,
            "grid_auto_rows": null,
            "grid_column": null,
            "grid_gap": null,
            "grid_row": null,
            "grid_template_areas": null,
            "grid_template_columns": null,
            "grid_template_rows": null,
            "height": null,
            "justify_content": null,
            "justify_items": null,
            "left": null,
            "margin": null,
            "max_height": null,
            "max_width": null,
            "min_height": null,
            "min_width": null,
            "object_fit": null,
            "object_position": null,
            "order": null,
            "overflow": null,
            "overflow_x": null,
            "overflow_y": null,
            "padding": null,
            "right": null,
            "top": null,
            "visibility": null,
            "width": null
          }
        },
        "b5ac505f9617415a80b925547a84328c": {
          "model_module": "@jupyter-widgets/controls",
          "model_name": "DescriptionStyleModel",
          "model_module_version": "1.5.0",
          "state": {
            "_model_module": "@jupyter-widgets/controls",
            "_model_module_version": "1.5.0",
            "_model_name": "DescriptionStyleModel",
            "_view_count": null,
            "_view_module": "@jupyter-widgets/base",
            "_view_module_version": "1.2.0",
            "_view_name": "StyleView",
            "description_width": ""
          }
        }
      }
    }
  },
  "cells": [
    {
      "cell_type": "code",
      "execution_count": null,
      "metadata": {
        "id": "25RmpS68j6V9"
      },
      "outputs": [],
      "source": [
        "\n",
        "%%capture\n",
        "\n",
        "!pip install flair"
      ]
    },
    {
      "cell_type": "code",
      "source": [
        "# Prepare data\n",
        "data_path = \"/content/drive/MyDrive/DataENG/\"\n",
        "exp_id = \"EngEXP1crf\"\n",
        "save_dir = \"/content/drive/MyDrive/DataENG/\"+exp_id\n",
        "model_name = 'xlm-roberta-base'\n",
        "model_name = 'google/muril-base-cased'\n",
        "\n",
        "lines = open(data_path+\"data1.dis\",'r').readlines()\n",
        "labels = open(data_path+\"data1.labels\",'r').readlines()"
      ],
      "metadata": {
        "id": "bJgtw46fj-D8"
      },
      "execution_count": null,
      "outputs": []
    },
    {
      "cell_type": "code",
      "source": [
        "print(lines[:5])\n",
        "print(labels[:5])"
      ],
      "metadata": {
        "colab": {
          "base_uri": "https://localhost:8080/"
        },
        "id": "37Pn6t31k8lA",
        "outputId": "c41cf157-9533-4d1d-e2de-47eccca61e1b"
      },
      "execution_count": null,
      "outputs": [
        {
          "output_type": "stream",
          "name": "stdout",
          "text": [
            "['send uhm send eta via whatsapp\\n', 'send te text to heidi and include moms eta\\n', 'send a text to um 5555555\\n', 'send please send nancy an sms\\n', 'i want to email zane this photo and cc um and cc zach\\n']\n",
            "['1 1 0 0 0 0\\n', '0 1 0 0 0 0 0 0 0\\n', '0 0 0 0 1 0\\n', '1 0 0 0 0 0\\n', '0 0 0 0 0 0 0 1 1 1 0 0 0\\n']\n"
          ]
        }
      ]
    },
    {
      "cell_type": "code",
      "source": [
        "import random\n",
        "temp = list(zip(lines, labels))\n",
        "random.shuffle(temp)\n",
        "res1, res2 = zip(*temp)\n",
        "# res1 and res2 come out as tuples, and so must be converted to lists.\n",
        "lines, labels = list(res1), list(res2)\n",
        "\n",
        "train_lines = lines[:int(0.8*len(lines))]\n",
        "train_labels = labels[:int(0.8*len(labels))]\n",
        "val_lines = lines[int(0.8*len(lines)):int(0.9*len(lines))]\n",
        "val_labels = labels[int(0.8*len(labels)):int(0.9*len(labels))]\n",
        "test_lines = lines[int(0.9*len(lines)):]\n",
        "test_labels = labels[int(0.9*len(labels)):]"
      ],
      "metadata": {
        "id": "JuJ3A6P7lM6O"
      },
      "execution_count": null,
      "outputs": []
    },
    {
      "cell_type": "code",
      "source": [
        "print(len(train_lines))\n",
        "print(len(val_lines))\n",
        "len(test_lines)"
      ],
      "metadata": {
        "colab": {
          "base_uri": "https://localhost:8080/"
        },
        "id": "sizuWhNqmBan",
        "outputId": "3a842565-7d30-4f61-846b-4c14efaf4d84"
      },
      "execution_count": null,
      "outputs": [
        {
          "output_type": "stream",
          "name": "stdout",
          "text": [
            "3180\n",
            "397\n"
          ]
        },
        {
          "output_type": "execute_result",
          "data": {
            "text/plain": [
              "398"
            ]
          },
          "metadata": {},
          "execution_count": 5
        }
      ]
    },
    {
      "cell_type": "code",
      "source": [
        "import pandas as pd\n",
        "sentence_col = []\n",
        "word_col = []\n",
        "tag_col = []\n",
        "for i in range(len(train_lines)):\n",
        "  sent = train_lines[i][:-1]\n",
        "  label = train_labels[i][:-1]\n",
        "  words = sent.split(\" \")\n",
        "  tags = label.split(\" \")\n",
        "  sent_temp = [\"Sentence: \"+str(i+1)]\n",
        "  for j in range(len(words)-1):\n",
        "    sent_temp.append(None)\n",
        "  sentence_col.extend(sent_temp)\n",
        "  word_col.extend(words)\n",
        "  tag_col.extend(tags)\n",
        "\n",
        "df_train = pd.DataFrame()\n",
        "df_train['Sentence #'] = sentence_col\n",
        "df_train['Word'] = word_col\n",
        "df_train['Tag'] = tag_col\n",
        "\n",
        "sentence_col = []\n",
        "word_col = []\n",
        "tag_col = []\n",
        "for i in range(len(val_lines)):\n",
        "  sent = val_lines[i][:-1]\n",
        "  label = val_labels[i][:-1]\n",
        "  words = sent.split(\" \")\n",
        "  tags = label.split(\" \")\n",
        "  sent_temp = [\"Sentence: \"+str(i+1)]\n",
        "  for j in range(len(words)-1):\n",
        "    sent_temp.append(None)\n",
        "  sentence_col.extend(sent_temp)\n",
        "  word_col.extend(words)\n",
        "  tag_col.extend(tags)\n",
        "\n",
        "df_val = pd.DataFrame()\n",
        "df_val['Sentence #'] = sentence_col\n",
        "df_val['Word'] = word_col\n",
        "df_val['Tag'] = tag_col\n",
        "\n",
        "sentence_col = []\n",
        "word_col = []\n",
        "tag_col = []\n",
        "for i in range(len(test_lines)):\n",
        "  sent = test_lines[i][:-1]\n",
        "  label = test_labels[i][:-1]\n",
        "  words = sent.split(\" \")\n",
        "  tags = label.split(\" \")\n",
        "  sent_temp = [\"Sentence: \"+str(i+1)]\n",
        "  for j in range(len(words)-1):\n",
        "    sent_temp.append(None)\n",
        "  sentence_col.extend(sent_temp)\n",
        "  word_col.extend(words)\n",
        "  tag_col.extend(tags)\n",
        "\n",
        "df_test = pd.DataFrame()\n",
        "df_test['Sentence #'] = sentence_col\n",
        "df_test['Word'] = word_col\n",
        "df_test['Tag'] = tag_col"
      ],
      "metadata": {
        "id": "yYMhLjGTmV7H"
      },
      "execution_count": null,
      "outputs": []
    },
    {
      "cell_type": "code",
      "source": [
        "df_train[:20]"
      ],
      "metadata": {
        "colab": {
          "base_uri": "https://localhost:8080/",
          "height": 676
        },
        "id": "D0w90STympL4",
        "outputId": "f66859c7-8a48-4787-cf10-cdb9c9690247"
      },
      "execution_count": null,
      "outputs": [
        {
          "output_type": "execute_result",
          "data": {
            "text/plain": [
              "     Sentence #       Word Tag\n",
              "0   Sentence: 1  swaralipi   0\n",
              "1          None    bengali   0\n",
              "2          None         is   0\n",
              "3          None        any   0\n",
              "4          None     system   0\n",
              "5          None       used   0\n",
              "6          None         in   0\n",
              "7          None      sheet   0\n",
              "8          None      music   0\n",
              "9          None         in   0\n",
              "10         None      order   0\n",
              "11         None         to   0\n",
              "12         None  represent   0\n",
              "13         None    aurally   0\n",
              "14         None  perceived   0\n",
              "15         None      music   0\n",
              "16         None    through   0\n",
              "17         None        the   0\n",
              "18         None        use   0\n",
              "19         None         of   0"
            ],
            "text/html": [
              "\n",
              "  <div id=\"df-43458ca8-7f06-4964-bddc-e164ea333601\" class=\"colab-df-container\">\n",
              "    <div>\n",
              "<style scoped>\n",
              "    .dataframe tbody tr th:only-of-type {\n",
              "        vertical-align: middle;\n",
              "    }\n",
              "\n",
              "    .dataframe tbody tr th {\n",
              "        vertical-align: top;\n",
              "    }\n",
              "\n",
              "    .dataframe thead th {\n",
              "        text-align: right;\n",
              "    }\n",
              "</style>\n",
              "<table border=\"1\" class=\"dataframe\">\n",
              "  <thead>\n",
              "    <tr style=\"text-align: right;\">\n",
              "      <th></th>\n",
              "      <th>Sentence #</th>\n",
              "      <th>Word</th>\n",
              "      <th>Tag</th>\n",
              "    </tr>\n",
              "  </thead>\n",
              "  <tbody>\n",
              "    <tr>\n",
              "      <th>0</th>\n",
              "      <td>Sentence: 1</td>\n",
              "      <td>swaralipi</td>\n",
              "      <td>0</td>\n",
              "    </tr>\n",
              "    <tr>\n",
              "      <th>1</th>\n",
              "      <td>None</td>\n",
              "      <td>bengali</td>\n",
              "      <td>0</td>\n",
              "    </tr>\n",
              "    <tr>\n",
              "      <th>2</th>\n",
              "      <td>None</td>\n",
              "      <td>is</td>\n",
              "      <td>0</td>\n",
              "    </tr>\n",
              "    <tr>\n",
              "      <th>3</th>\n",
              "      <td>None</td>\n",
              "      <td>any</td>\n",
              "      <td>0</td>\n",
              "    </tr>\n",
              "    <tr>\n",
              "      <th>4</th>\n",
              "      <td>None</td>\n",
              "      <td>system</td>\n",
              "      <td>0</td>\n",
              "    </tr>\n",
              "    <tr>\n",
              "      <th>5</th>\n",
              "      <td>None</td>\n",
              "      <td>used</td>\n",
              "      <td>0</td>\n",
              "    </tr>\n",
              "    <tr>\n",
              "      <th>6</th>\n",
              "      <td>None</td>\n",
              "      <td>in</td>\n",
              "      <td>0</td>\n",
              "    </tr>\n",
              "    <tr>\n",
              "      <th>7</th>\n",
              "      <td>None</td>\n",
              "      <td>sheet</td>\n",
              "      <td>0</td>\n",
              "    </tr>\n",
              "    <tr>\n",
              "      <th>8</th>\n",
              "      <td>None</td>\n",
              "      <td>music</td>\n",
              "      <td>0</td>\n",
              "    </tr>\n",
              "    <tr>\n",
              "      <th>9</th>\n",
              "      <td>None</td>\n",
              "      <td>in</td>\n",
              "      <td>0</td>\n",
              "    </tr>\n",
              "    <tr>\n",
              "      <th>10</th>\n",
              "      <td>None</td>\n",
              "      <td>order</td>\n",
              "      <td>0</td>\n",
              "    </tr>\n",
              "    <tr>\n",
              "      <th>11</th>\n",
              "      <td>None</td>\n",
              "      <td>to</td>\n",
              "      <td>0</td>\n",
              "    </tr>\n",
              "    <tr>\n",
              "      <th>12</th>\n",
              "      <td>None</td>\n",
              "      <td>represent</td>\n",
              "      <td>0</td>\n",
              "    </tr>\n",
              "    <tr>\n",
              "      <th>13</th>\n",
              "      <td>None</td>\n",
              "      <td>aurally</td>\n",
              "      <td>0</td>\n",
              "    </tr>\n",
              "    <tr>\n",
              "      <th>14</th>\n",
              "      <td>None</td>\n",
              "      <td>perceived</td>\n",
              "      <td>0</td>\n",
              "    </tr>\n",
              "    <tr>\n",
              "      <th>15</th>\n",
              "      <td>None</td>\n",
              "      <td>music</td>\n",
              "      <td>0</td>\n",
              "    </tr>\n",
              "    <tr>\n",
              "      <th>16</th>\n",
              "      <td>None</td>\n",
              "      <td>through</td>\n",
              "      <td>0</td>\n",
              "    </tr>\n",
              "    <tr>\n",
              "      <th>17</th>\n",
              "      <td>None</td>\n",
              "      <td>the</td>\n",
              "      <td>0</td>\n",
              "    </tr>\n",
              "    <tr>\n",
              "      <th>18</th>\n",
              "      <td>None</td>\n",
              "      <td>use</td>\n",
              "      <td>0</td>\n",
              "    </tr>\n",
              "    <tr>\n",
              "      <th>19</th>\n",
              "      <td>None</td>\n",
              "      <td>of</td>\n",
              "      <td>0</td>\n",
              "    </tr>\n",
              "  </tbody>\n",
              "</table>\n",
              "</div>\n",
              "    <div class=\"colab-df-buttons\">\n",
              "\n",
              "  <div class=\"colab-df-container\">\n",
              "    <button class=\"colab-df-convert\" onclick=\"convertToInteractive('df-43458ca8-7f06-4964-bddc-e164ea333601')\"\n",
              "            title=\"Convert this dataframe to an interactive table.\"\n",
              "            style=\"display:none;\">\n",
              "\n",
              "  <svg xmlns=\"http://www.w3.org/2000/svg\" height=\"24px\" viewBox=\"0 -960 960 960\">\n",
              "    <path d=\"M120-120v-720h720v720H120Zm60-500h600v-160H180v160Zm220 220h160v-160H400v160Zm0 220h160v-160H400v160ZM180-400h160v-160H180v160Zm440 0h160v-160H620v160ZM180-180h160v-160H180v160Zm440 0h160v-160H620v160Z\"/>\n",
              "  </svg>\n",
              "    </button>\n",
              "\n",
              "  <style>\n",
              "    .colab-df-container {\n",
              "      display:flex;\n",
              "      gap: 12px;\n",
              "    }\n",
              "\n",
              "    .colab-df-convert {\n",
              "      background-color: #E8F0FE;\n",
              "      border: none;\n",
              "      border-radius: 50%;\n",
              "      cursor: pointer;\n",
              "      display: none;\n",
              "      fill: #1967D2;\n",
              "      height: 32px;\n",
              "      padding: 0 0 0 0;\n",
              "      width: 32px;\n",
              "    }\n",
              "\n",
              "    .colab-df-convert:hover {\n",
              "      background-color: #E2EBFA;\n",
              "      box-shadow: 0px 1px 2px rgba(60, 64, 67, 0.3), 0px 1px 3px 1px rgba(60, 64, 67, 0.15);\n",
              "      fill: #174EA6;\n",
              "    }\n",
              "\n",
              "    .colab-df-buttons div {\n",
              "      margin-bottom: 4px;\n",
              "    }\n",
              "\n",
              "    [theme=dark] .colab-df-convert {\n",
              "      background-color: #3B4455;\n",
              "      fill: #D2E3FC;\n",
              "    }\n",
              "\n",
              "    [theme=dark] .colab-df-convert:hover {\n",
              "      background-color: #434B5C;\n",
              "      box-shadow: 0px 1px 3px 1px rgba(0, 0, 0, 0.15);\n",
              "      filter: drop-shadow(0px 1px 2px rgba(0, 0, 0, 0.3));\n",
              "      fill: #FFFFFF;\n",
              "    }\n",
              "  </style>\n",
              "\n",
              "    <script>\n",
              "      const buttonEl =\n",
              "        document.querySelector('#df-43458ca8-7f06-4964-bddc-e164ea333601 button.colab-df-convert');\n",
              "      buttonEl.style.display =\n",
              "        google.colab.kernel.accessAllowed ? 'block' : 'none';\n",
              "\n",
              "      async function convertToInteractive(key) {\n",
              "        const element = document.querySelector('#df-43458ca8-7f06-4964-bddc-e164ea333601');\n",
              "        const dataTable =\n",
              "          await google.colab.kernel.invokeFunction('convertToInteractive',\n",
              "                                                    [key], {});\n",
              "        if (!dataTable) return;\n",
              "\n",
              "        const docLinkHtml = 'Like what you see? Visit the ' +\n",
              "          '<a target=\"_blank\" href=https://colab.research.google.com/notebooks/data_table.ipynb>data table notebook</a>'\n",
              "          + ' to learn more about interactive tables.';\n",
              "        element.innerHTML = '';\n",
              "        dataTable['output_type'] = 'display_data';\n",
              "        await google.colab.output.renderOutput(dataTable, element);\n",
              "        const docLink = document.createElement('div');\n",
              "        docLink.innerHTML = docLinkHtml;\n",
              "        element.appendChild(docLink);\n",
              "      }\n",
              "    </script>\n",
              "  </div>\n",
              "\n",
              "\n",
              "<div id=\"df-76f5d47d-7153-41a3-92bf-059f80270816\">\n",
              "  <button class=\"colab-df-quickchart\" onclick=\"quickchart('df-76f5d47d-7153-41a3-92bf-059f80270816')\"\n",
              "            title=\"Suggest charts\"\n",
              "            style=\"display:none;\">\n",
              "\n",
              "<svg xmlns=\"http://www.w3.org/2000/svg\" height=\"24px\"viewBox=\"0 0 24 24\"\n",
              "     width=\"24px\">\n",
              "    <g>\n",
              "        <path d=\"M19 3H5c-1.1 0-2 .9-2 2v14c0 1.1.9 2 2 2h14c1.1 0 2-.9 2-2V5c0-1.1-.9-2-2-2zM9 17H7v-7h2v7zm4 0h-2V7h2v10zm4 0h-2v-4h2v4z\"/>\n",
              "    </g>\n",
              "</svg>\n",
              "  </button>\n",
              "\n",
              "<style>\n",
              "  .colab-df-quickchart {\n",
              "      --bg-color: #E8F0FE;\n",
              "      --fill-color: #1967D2;\n",
              "      --hover-bg-color: #E2EBFA;\n",
              "      --hover-fill-color: #174EA6;\n",
              "      --disabled-fill-color: #AAA;\n",
              "      --disabled-bg-color: #DDD;\n",
              "  }\n",
              "\n",
              "  [theme=dark] .colab-df-quickchart {\n",
              "      --bg-color: #3B4455;\n",
              "      --fill-color: #D2E3FC;\n",
              "      --hover-bg-color: #434B5C;\n",
              "      --hover-fill-color: #FFFFFF;\n",
              "      --disabled-bg-color: #3B4455;\n",
              "      --disabled-fill-color: #666;\n",
              "  }\n",
              "\n",
              "  .colab-df-quickchart {\n",
              "    background-color: var(--bg-color);\n",
              "    border: none;\n",
              "    border-radius: 50%;\n",
              "    cursor: pointer;\n",
              "    display: none;\n",
              "    fill: var(--fill-color);\n",
              "    height: 32px;\n",
              "    padding: 0;\n",
              "    width: 32px;\n",
              "  }\n",
              "\n",
              "  .colab-df-quickchart:hover {\n",
              "    background-color: var(--hover-bg-color);\n",
              "    box-shadow: 0 1px 2px rgba(60, 64, 67, 0.3), 0 1px 3px 1px rgba(60, 64, 67, 0.15);\n",
              "    fill: var(--button-hover-fill-color);\n",
              "  }\n",
              "\n",
              "  .colab-df-quickchart-complete:disabled,\n",
              "  .colab-df-quickchart-complete:disabled:hover {\n",
              "    background-color: var(--disabled-bg-color);\n",
              "    fill: var(--disabled-fill-color);\n",
              "    box-shadow: none;\n",
              "  }\n",
              "\n",
              "  .colab-df-spinner {\n",
              "    border: 2px solid var(--fill-color);\n",
              "    border-color: transparent;\n",
              "    border-bottom-color: var(--fill-color);\n",
              "    animation:\n",
              "      spin 1s steps(1) infinite;\n",
              "  }\n",
              "\n",
              "  @keyframes spin {\n",
              "    0% {\n",
              "      border-color: transparent;\n",
              "      border-bottom-color: var(--fill-color);\n",
              "      border-left-color: var(--fill-color);\n",
              "    }\n",
              "    20% {\n",
              "      border-color: transparent;\n",
              "      border-left-color: var(--fill-color);\n",
              "      border-top-color: var(--fill-color);\n",
              "    }\n",
              "    30% {\n",
              "      border-color: transparent;\n",
              "      border-left-color: var(--fill-color);\n",
              "      border-top-color: var(--fill-color);\n",
              "      border-right-color: var(--fill-color);\n",
              "    }\n",
              "    40% {\n",
              "      border-color: transparent;\n",
              "      border-right-color: var(--fill-color);\n",
              "      border-top-color: var(--fill-color);\n",
              "    }\n",
              "    60% {\n",
              "      border-color: transparent;\n",
              "      border-right-color: var(--fill-color);\n",
              "    }\n",
              "    80% {\n",
              "      border-color: transparent;\n",
              "      border-right-color: var(--fill-color);\n",
              "      border-bottom-color: var(--fill-color);\n",
              "    }\n",
              "    90% {\n",
              "      border-color: transparent;\n",
              "      border-bottom-color: var(--fill-color);\n",
              "    }\n",
              "  }\n",
              "</style>\n",
              "\n",
              "  <script>\n",
              "    async function quickchart(key) {\n",
              "      const quickchartButtonEl =\n",
              "        document.querySelector('#' + key + ' button');\n",
              "      quickchartButtonEl.disabled = true;  // To prevent multiple clicks.\n",
              "      quickchartButtonEl.classList.add('colab-df-spinner');\n",
              "      try {\n",
              "        const charts = await google.colab.kernel.invokeFunction(\n",
              "            'suggestCharts', [key], {});\n",
              "      } catch (error) {\n",
              "        console.error('Error during call to suggestCharts:', error);\n",
              "      }\n",
              "      quickchartButtonEl.classList.remove('colab-df-spinner');\n",
              "      quickchartButtonEl.classList.add('colab-df-quickchart-complete');\n",
              "    }\n",
              "    (() => {\n",
              "      let quickchartButtonEl =\n",
              "        document.querySelector('#df-76f5d47d-7153-41a3-92bf-059f80270816 button');\n",
              "      quickchartButtonEl.style.display =\n",
              "        google.colab.kernel.accessAllowed ? 'block' : 'none';\n",
              "    })();\n",
              "  </script>\n",
              "</div>\n",
              "\n",
              "    </div>\n",
              "  </div>\n"
            ]
          },
          "metadata": {},
          "execution_count": 7
        }
      ]
    },
    {
      "cell_type": "code",
      "source": [
        "import os\n",
        "os.makedirs(\"data_dir\",exist_ok = True)"
      ],
      "metadata": {
        "id": "ooL4cKbAm4Hn"
      },
      "execution_count": null,
      "outputs": []
    },
    {
      "cell_type": "code",
      "source": [
        "with open(\"data_dir/train.txt\",'w') as write_file:\n",
        "  for i in range(len(df_train)):\n",
        "    if(df_train['Sentence #'][i]!=None and i!=0):\n",
        "      write_file.write(\"\\n\")\n",
        "    write_file.write(df_train['Word'][i]+\" \"+df_train['Tag'][i]+\"\\n\")\n",
        "\n",
        "\n",
        "with open(\"data_dir/val.txt\",'w') as write_file:\n",
        "  for i in range(len(df_val)):\n",
        "    if(df_val['Sentence #'][i]!=None and i!=0):\n",
        "      write_file.write(\"\\n\")\n",
        "    write_file.write(df_val['Word'][i]+\" \"+df_val['Tag'][i]+\"\\n\")\n",
        "\n",
        "\n",
        "with open(\"data_dir/test.txt\",'w') as write_file:\n",
        "  for i in range(len(df_test)):\n",
        "    if(df_test['Sentence #'][i]!=None and i!=0):\n",
        "      write_file.write(\"\\n\")\n",
        "    write_file.write(df_test['Word'][i]+\" \"+df_test['Tag'][i]+\"\\n\")"
      ],
      "metadata": {
        "id": "5kGlpVpxm-qG"
      },
      "execution_count": null,
      "outputs": []
    },
    {
      "cell_type": "code",
      "source": [
        "from flair.data import Corpus\n",
        "from flair.datasets import ColumnCorpus\n",
        "\n",
        "# define columns\n",
        "columns = {0 : 'text', 1 : 'dc'}\n",
        "# directory where the data resides\n",
        "data_folder = 'data_dir/'\n",
        "# initializing the corpus\n",
        "corpus: Corpus = ColumnCorpus(data_folder, columns,\n",
        "                              train_file = 'train.txt',\n",
        "                              test_file = 'test.txt',\n",
        "                              dev_file = 'val.txt')"
      ],
      "metadata": {
        "colab": {
          "base_uri": "https://localhost:8080/"
        },
        "id": "mKXf777jnaAm",
        "outputId": "11956262-8842-424f-e953-afecab11fe28"
      },
      "execution_count": null,
      "outputs": [
        {
          "output_type": "stream",
          "name": "stdout",
          "text": [
            "2023-12-24 22:05:26,668 Reading data from data_dir\n",
            "2023-12-24 22:05:26,670 Train: data_dir/train.txt\n",
            "2023-12-24 22:05:26,673 Dev: data_dir/val.txt\n",
            "2023-12-24 22:05:26,676 Test: data_dir/test.txt\n"
          ]
        }
      ]
    },
    {
      "cell_type": "code",
      "source": [
        "corpus.train[1004]"
      ],
      "metadata": {
        "colab": {
          "base_uri": "https://localhost:8080/"
        },
        "id": "1wlB3rAnxdiW",
        "outputId": "7085f740-726b-4de6-c83d-98d8a2d15d3f"
      },
      "execution_count": null,
      "outputs": [
        {
          "output_type": "execute_result",
          "data": {
            "text/plain": [
              "Sentence[16]: \"i need to log my um log my 1 cup of grapes for my 2pm snack\" → [\"i\"/0, \"need\"/0, \"to\"/0, \"log\"/1, \"my\"/1, \"um\"/1, \"log\"/0, \"my\"/0, \"1\"/0, \"cup\"/0, \"of\"/0, \"grapes\"/0, \"for\"/0, \"my\"/0, \"2pm\"/0, \"snack\"/0]"
            ]
          },
          "metadata": {},
          "execution_count": 11
        }
      ]
    },
    {
      "cell_type": "code",
      "source": [
        "print(len(corpus.train))"
      ],
      "metadata": {
        "colab": {
          "base_uri": "https://localhost:8080/"
        },
        "id": "XtQm0WnKnq03",
        "outputId": "e75f6723-9763-49cc-cfb2-a64fc7eb5130"
      },
      "execution_count": null,
      "outputs": [
        {
          "output_type": "stream",
          "name": "stdout",
          "text": [
            "3180\n"
          ]
        }
      ]
    },
    {
      "cell_type": "code",
      "source": [
        "# tag to predict\n",
        "label_type = 'dc'\n",
        "# make tag dictionary from the corpus\n",
        "#tag_dictionary = corpus.make_tag_dictionary(tag_type=tag_type)\n",
        "#print(tag_dictionary)\n",
        "\n",
        "label_dict = corpus.make_label_dictionary(label_type=label_type, add_unk=False)\n",
        "print(label_dict)"
      ],
      "metadata": {
        "colab": {
          "base_uri": "https://localhost:8080/"
        },
        "id": "OMMkS4aYnzhJ",
        "outputId": "db6c2d70-9661-4f6e-c353-95cab1d4b74a"
      },
      "execution_count": null,
      "outputs": [
        {
          "output_type": "stream",
          "name": "stdout",
          "text": [
            "2023-12-24 22:05:28,364 Computing label dictionary. Progress:\n"
          ]
        },
        {
          "output_type": "stream",
          "name": "stderr",
          "text": [
            "0it [00:00, ?it/s]\n",
            "3180it [00:00, 25537.03it/s]"
          ]
        },
        {
          "output_type": "stream",
          "name": "stdout",
          "text": [
            "2023-12-24 22:05:28,588 Dictionary created for label 'dc' with 2 values: 0 (seen 26655 times), 1 (seen 4864 times)\n",
            "Dictionary with 2 tags: 0, 1\n"
          ]
        },
        {
          "output_type": "stream",
          "name": "stderr",
          "text": [
            "\n"
          ]
        }
      ]
    },
    {
      "cell_type": "code",
      "source": [
        "from flair.embeddings import TransformerWordEmbeddings\n",
        "from flair.models import SequenceTagger\n",
        "from flair.trainers import ModelTrainer\n",
        "\n",
        "embeddings = TransformerWordEmbeddings(model=model_name,\n",
        "                                       layers=\"-1\",\n",
        "                                       subtoken_pooling=\"first\",\n",
        "                                       fine_tune=False,\n",
        "                                       use_context=True,\n",
        "                                       )"
      ],
      "metadata": {
        "id": "Y-3DlKwwoAzG",
        "colab": {
          "base_uri": "https://localhost:8080/",
          "height": 177,
          "referenced_widgets": [
            "02d58937cb0a40afbd983f433cac273f",
            "17b831aaad02409aa23c2acb3819798a",
            "273fb8b9e407430389be87da21006a7c",
            "073f92cc83e641c080ed1a1f8d1e40c6",
            "e7910c95ab114952b6b2c483fedce107",
            "9614456104d7454c87349dab7443accd",
            "b8c6434530e74f44a558e99cace52438",
            "7517b149772840ae8c68699d1646e34a",
            "5ffaca2a3ab8418d988e221bc52a81ee",
            "f11ea6e2bb0344b382282338e46384c2",
            "83bada0eb47c4be89bc7893c0ec50532",
            "f9134b7887d5421c82a7e985a34bc629",
            "d2cf80a96b14472bb68ab1b7523b8d32",
            "074250b2f9c048e3a08dcffabc4f7935",
            "1b5a726da65c41b5b2397c674e0e9dca",
            "e79785df95ba41889c3e9a0c8bd09cab",
            "11c56d7b84284f68b278dfa7176adb9b",
            "1e53dd8600a64f3e813d0987b9a61d84",
            "dfd25e9d297a420d87efd87965fa26ed",
            "c48ab33062b64c3092c0c1c9153cae1e",
            "ff443aded6fe4a729f025f822a7b4f53",
            "9613d91455fd4c49b3c25355c2b142a8",
            "48018cf380754851833cca7407e1614d",
            "bda5e96fe9364016bfad22f4925f77e1",
            "4daba4b245b04e92b8232212c1b201e2",
            "19a1bba63fd841bab3062d8ac3f7f4df",
            "51d591c9ad8a426e90ccc86f349510d6",
            "ace9b87ab9694738b1a4ef7a4184bc37",
            "403a588a19aa4be08c6354120c7e67b3",
            "28a7f20dcb6d40b189ae2a3161cda0cf",
            "c3bd95425dd44e0bbd1c31f687b21308",
            "3e063844e56648b996fcf9dc622e43fa",
            "328348cc053b4dcebbec364627714f61",
            "8b8c8d28f60b4fe7937be58156e21bfd",
            "9737b2e3c10c41088924567193183f26",
            "60bd3131d6ee4b09b062ce9f8150c353",
            "a54874e778434062920ad5661c544513",
            "ed090963b8814748903dea9d36a84c38",
            "1ebc3b2623e64f8da6b9bb5d43d5ec53",
            "8bb38e6097e340aca81770c9d3d55796",
            "53ad01edaeae4d009eba661bda77243b",
            "5fb44d96aaf748849423783203393a33",
            "55bdd357b3174ec491e70e5dd1da6596",
            "ce7408c8bf2b40db986642e5e2359577",
            "5c1bc2ed97c8444fa9e80c3260f52e45",
            "061a92432c35408083e2c70a82dab757",
            "b2325f758f274ac1b0717970f0694b24",
            "1ce7b7fd913e406f9bac61dacd059242",
            "9e22dc5c30114771b6e90606cf765e28",
            "c5df3cf0db8c45faab172240424dc738",
            "45dd1e05de204e05a8858d91140d6c63",
            "9642ed3a1fa0482eb954c475cfeeb015",
            "73e231b0e2bf4a888a313ff666839268",
            "6177b8bc1cd04b83a195ac45094fa465",
            "b5ac505f9617415a80b925547a84328c"
          ]
        },
        "outputId": "a336379e-53c1-43ce-d0cf-1c372e26dee2"
      },
      "execution_count": null,
      "outputs": [
        {
          "output_type": "display_data",
          "data": {
            "text/plain": [
              "tokenizer_config.json:   0%|          | 0.00/206 [00:00<?, ?B/s]"
            ],
            "application/vnd.jupyter.widget-view+json": {
              "version_major": 2,
              "version_minor": 0,
              "model_id": "02d58937cb0a40afbd983f433cac273f"
            }
          },
          "metadata": {}
        },
        {
          "output_type": "display_data",
          "data": {
            "text/plain": [
              "config.json:   0%|          | 0.00/411 [00:00<?, ?B/s]"
            ],
            "application/vnd.jupyter.widget-view+json": {
              "version_major": 2,
              "version_minor": 0,
              "model_id": "f9134b7887d5421c82a7e985a34bc629"
            }
          },
          "metadata": {}
        },
        {
          "output_type": "display_data",
          "data": {
            "text/plain": [
              "vocab.txt:   0%|          | 0.00/3.16M [00:00<?, ?B/s]"
            ],
            "application/vnd.jupyter.widget-view+json": {
              "version_major": 2,
              "version_minor": 0,
              "model_id": "48018cf380754851833cca7407e1614d"
            }
          },
          "metadata": {}
        },
        {
          "output_type": "display_data",
          "data": {
            "text/plain": [
              "special_tokens_map.json:   0%|          | 0.00/113 [00:00<?, ?B/s]"
            ],
            "application/vnd.jupyter.widget-view+json": {
              "version_major": 2,
              "version_minor": 0,
              "model_id": "8b8c8d28f60b4fe7937be58156e21bfd"
            }
          },
          "metadata": {}
        },
        {
          "output_type": "display_data",
          "data": {
            "text/plain": [
              "pytorch_model.bin:   0%|          | 0.00/953M [00:00<?, ?B/s]"
            ],
            "application/vnd.jupyter.widget-view+json": {
              "version_major": 2,
              "version_minor": 0,
              "model_id": "5c1bc2ed97c8444fa9e80c3260f52e45"
            }
          },
          "metadata": {}
        }
      ]
    },
    {
      "cell_type": "code",
      "source": [
        "from flair.models import SequenceTagger\n",
        "tagger : SequenceTagger = SequenceTagger(hidden_size=256,\n",
        "                                       embeddings=embeddings,\n",
        "                                       tag_dictionary=label_dict,\n",
        "                                       tag_type=label_type,\n",
        "                                       use_crf=True,\n",
        "                                       use_rnn=False)\n",
        "print(tagger)\n",
        "\n",
        "def count_parameters(model):\n",
        "    return sum(p.numel() for p in model.parameters() if p.requires_grad)\n",
        "print(count_parameters(tagger))\n",
        "#238150676-238150660 = CRF\n",
        "#240250884 - 238150660 = RNN"
      ],
      "metadata": {
        "colab": {
          "base_uri": "https://localhost:8080/"
        },
        "id": "xqdT2WnXoPLs",
        "outputId": "a89a27ee-47cc-40aa-b8f3-7286392ca2dc"
      },
      "execution_count": null,
      "outputs": [
        {
          "output_type": "stream",
          "name": "stdout",
          "text": [
            "2023-12-24 22:06:09,151 SequenceTagger predicts: Dictionary with 2 tags: 0, 1\n",
            "SequenceTagger(\n",
            "  (embeddings): TransformerWordEmbeddings(\n",
            "    (model): BertModel(\n",
            "      (embeddings): BertEmbeddings(\n",
            "        (word_embeddings): Embedding(197286, 768)\n",
            "        (position_embeddings): Embedding(512, 768)\n",
            "        (token_type_embeddings): Embedding(2, 768)\n",
            "        (LayerNorm): LayerNorm((768,), eps=1e-12, elementwise_affine=True)\n",
            "        (dropout): Dropout(p=0.1, inplace=False)\n",
            "      )\n",
            "      (encoder): BertEncoder(\n",
            "        (layer): ModuleList(\n",
            "          (0-11): 12 x BertLayer(\n",
            "            (attention): BertAttention(\n",
            "              (self): BertSelfAttention(\n",
            "                (query): Linear(in_features=768, out_features=768, bias=True)\n",
            "                (key): Linear(in_features=768, out_features=768, bias=True)\n",
            "                (value): Linear(in_features=768, out_features=768, bias=True)\n",
            "                (dropout): Dropout(p=0.1, inplace=False)\n",
            "              )\n",
            "              (output): BertSelfOutput(\n",
            "                (dense): Linear(in_features=768, out_features=768, bias=True)\n",
            "                (LayerNorm): LayerNorm((768,), eps=1e-12, elementwise_affine=True)\n",
            "                (dropout): Dropout(p=0.1, inplace=False)\n",
            "              )\n",
            "            )\n",
            "            (intermediate): BertIntermediate(\n",
            "              (dense): Linear(in_features=768, out_features=3072, bias=True)\n",
            "              (intermediate_act_fn): GELUActivation()\n",
            "            )\n",
            "            (output): BertOutput(\n",
            "              (dense): Linear(in_features=3072, out_features=768, bias=True)\n",
            "              (LayerNorm): LayerNorm((768,), eps=1e-12, elementwise_affine=True)\n",
            "              (dropout): Dropout(p=0.1, inplace=False)\n",
            "            )\n",
            "          )\n",
            "        )\n",
            "      )\n",
            "      (pooler): BertPooler(\n",
            "        (dense): Linear(in_features=768, out_features=768, bias=True)\n",
            "        (activation): Tanh()\n",
            "      )\n",
            "    )\n",
            "  )\n",
            "  (word_dropout): WordDropout(p=0.05)\n",
            "  (locked_dropout): LockedDropout(p=0.5)\n",
            "  (embedding2nn): Linear(in_features=768, out_features=768, bias=True)\n",
            "  (linear): Linear(in_features=768, out_features=4, bias=True)\n",
            "  (loss_function): ViterbiLoss()\n",
            "  (crf): CRF()\n",
            ")\n",
            "238150676\n"
          ]
        }
      ]
    },
    {
      "cell_type": "code",
      "source": [
        "from flair.trainers import ModelTrainer\n",
        "trainer : ModelTrainer = ModelTrainer(tagger, corpus)\n",
        "trainer.train(save_dir,\n",
        "              learning_rate=0.1,\n",
        "              mini_batch_size=16,\n",
        "              max_epochs=150)"
      ],
      "metadata": {
        "colab": {
          "base_uri": "https://localhost:8080/"
        },
        "id": "FmrNBICXodop",
        "outputId": "7076cc9d-b354-447b-b743-575a3f99a243"
      },
      "execution_count": null,
      "outputs": [
        {
          "output_type": "stream",
          "name": "stdout",
          "text": [
            "2023-12-24 22:06:35,287 ----------------------------------------------------------------------------------------------------\n",
            "2023-12-24 22:06:35,292 Model: \"SequenceTagger(\n",
            "  (embeddings): TransformerWordEmbeddings(\n",
            "    (model): BertModel(\n",
            "      (embeddings): BertEmbeddings(\n",
            "        (word_embeddings): Embedding(197286, 768)\n",
            "        (position_embeddings): Embedding(512, 768)\n",
            "        (token_type_embeddings): Embedding(2, 768)\n",
            "        (LayerNorm): LayerNorm((768,), eps=1e-12, elementwise_affine=True)\n",
            "        (dropout): Dropout(p=0.1, inplace=False)\n",
            "      )\n",
            "      (encoder): BertEncoder(\n",
            "        (layer): ModuleList(\n",
            "          (0-11): 12 x BertLayer(\n",
            "            (attention): BertAttention(\n",
            "              (self): BertSelfAttention(\n",
            "                (query): Linear(in_features=768, out_features=768, bias=True)\n",
            "                (key): Linear(in_features=768, out_features=768, bias=True)\n",
            "                (value): Linear(in_features=768, out_features=768, bias=True)\n",
            "                (dropout): Dropout(p=0.1, inplace=False)\n",
            "              )\n",
            "              (output): BertSelfOutput(\n",
            "                (dense): Linear(in_features=768, out_features=768, bias=True)\n",
            "                (LayerNorm): LayerNorm((768,), eps=1e-12, elementwise_affine=True)\n",
            "                (dropout): Dropout(p=0.1, inplace=False)\n",
            "              )\n",
            "            )\n",
            "            (intermediate): BertIntermediate(\n",
            "              (dense): Linear(in_features=768, out_features=3072, bias=True)\n",
            "              (intermediate_act_fn): GELUActivation()\n",
            "            )\n",
            "            (output): BertOutput(\n",
            "              (dense): Linear(in_features=3072, out_features=768, bias=True)\n",
            "              (LayerNorm): LayerNorm((768,), eps=1e-12, elementwise_affine=True)\n",
            "              (dropout): Dropout(p=0.1, inplace=False)\n",
            "            )\n",
            "          )\n",
            "        )\n",
            "      )\n",
            "      (pooler): BertPooler(\n",
            "        (dense): Linear(in_features=768, out_features=768, bias=True)\n",
            "        (activation): Tanh()\n",
            "      )\n",
            "    )\n",
            "  )\n",
            "  (word_dropout): WordDropout(p=0.05)\n",
            "  (locked_dropout): LockedDropout(p=0.5)\n",
            "  (embedding2nn): Linear(in_features=768, out_features=768, bias=True)\n",
            "  (linear): Linear(in_features=768, out_features=4, bias=True)\n",
            "  (loss_function): ViterbiLoss()\n",
            "  (crf): CRF()\n",
            ")\"\n",
            "2023-12-24 22:06:35,294 ----------------------------------------------------------------------------------------------------\n",
            "2023-12-24 22:06:35,300 Corpus: 3180 train + 397 dev + 398 test sentences\n",
            "2023-12-24 22:06:35,302 ----------------------------------------------------------------------------------------------------\n",
            "2023-12-24 22:06:35,304 Train:  3180 sentences\n",
            "2023-12-24 22:06:35,308         (train_with_dev=False, train_with_test=False)\n",
            "2023-12-24 22:06:35,309 ----------------------------------------------------------------------------------------------------\n",
            "2023-12-24 22:06:35,312 Training Params:\n",
            "2023-12-24 22:06:35,314  - learning_rate: \"0.1\" \n",
            "2023-12-24 22:06:35,315  - mini_batch_size: \"16\"\n",
            "2023-12-24 22:06:35,316  - max_epochs: \"150\"\n",
            "2023-12-24 22:06:35,317  - shuffle: \"True\"\n",
            "2023-12-24 22:06:35,318 ----------------------------------------------------------------------------------------------------\n",
            "2023-12-24 22:06:35,319 Plugins:\n",
            "2023-12-24 22:06:35,321  - AnnealOnPlateau | patience: '3', anneal_factor: '0.5', min_learning_rate: '0.0001'\n",
            "2023-12-24 22:06:35,322 ----------------------------------------------------------------------------------------------------\n",
            "2023-12-24 22:06:35,331 Final evaluation on model from best epoch (best-model.pt)\n",
            "2023-12-24 22:06:35,333  - metric: \"('micro avg', 'f1-score')\"\n",
            "2023-12-24 22:06:35,334 ----------------------------------------------------------------------------------------------------\n",
            "2023-12-24 22:06:35,335 Computation:\n",
            "2023-12-24 22:06:35,337  - compute on device: cpu\n",
            "2023-12-24 22:06:35,338  - embedding storage: cpu\n",
            "2023-12-24 22:06:35,342 ----------------------------------------------------------------------------------------------------\n",
            "2023-12-24 22:06:35,343 Model training base path: \"/content/drive/MyDrive/DataENG/EngEXP1crf\"\n",
            "2023-12-24 22:06:35,344 ----------------------------------------------------------------------------------------------------\n",
            "2023-12-24 22:06:35,345 ----------------------------------------------------------------------------------------------------\n",
            "2023-12-24 22:09:40,141 epoch 1 - iter 19/199 - loss 0.46497468 - time (sec): 184.79 - samples/sec: 15.54 - lr: 0.100000 - momentum: 0.000000\n",
            "2023-12-24 22:12:46,758 epoch 1 - iter 38/199 - loss 0.43801890 - time (sec): 371.41 - samples/sec: 15.86 - lr: 0.100000 - momentum: 0.000000\n",
            "2023-12-24 22:15:54,941 epoch 1 - iter 57/199 - loss 0.43160178 - time (sec): 559.59 - samples/sec: 15.92 - lr: 0.100000 - momentum: 0.000000\n",
            "2023-12-24 22:19:02,444 epoch 1 - iter 76/199 - loss 0.43012887 - time (sec): 747.10 - samples/sec: 15.83 - lr: 0.100000 - momentum: 0.000000\n",
            "2023-12-24 22:22:13,997 epoch 1 - iter 95/199 - loss 0.42862105 - time (sec): 938.65 - samples/sec: 15.82 - lr: 0.100000 - momentum: 0.000000\n",
            "2023-12-24 22:25:16,748 epoch 1 - iter 114/199 - loss 0.42749345 - time (sec): 1121.40 - samples/sec: 15.89 - lr: 0.100000 - momentum: 0.000000\n",
            "2023-12-24 22:28:27,990 epoch 1 - iter 133/199 - loss 0.42895731 - time (sec): 1312.64 - samples/sec: 15.79 - lr: 0.100000 - momentum: 0.000000\n",
            "2023-12-24 22:31:45,216 epoch 1 - iter 152/199 - loss 0.42364879 - time (sec): 1509.87 - samples/sec: 15.81 - lr: 0.100000 - momentum: 0.000000\n",
            "2023-12-24 22:35:03,459 epoch 1 - iter 171/199 - loss 0.41946212 - time (sec): 1708.11 - samples/sec: 15.86 - lr: 0.100000 - momentum: 0.000000\n",
            "2023-12-24 22:38:20,182 epoch 1 - iter 190/199 - loss 0.41963239 - time (sec): 1904.83 - samples/sec: 15.83 - lr: 0.100000 - momentum: 0.000000\n",
            "2023-12-24 22:39:48,009 ----------------------------------------------------------------------------------------------------\n",
            "2023-12-24 22:39:48,011 EPOCH 1 done: loss 0.4206 - lr: 0.100000\n"
          ]
        },
        {
          "output_type": "stream",
          "name": "stderr",
          "text": [
            "100%|██████████| 7/7 [05:15<00:00, 45.01s/it]"
          ]
        },
        {
          "output_type": "stream",
          "name": "stdout",
          "text": [
            "2023-12-24 22:45:03,144 DEV : loss 0.39718008041381836 - f1-score (micro avg)  0.8457\n",
            "2023-12-24 22:45:03,165  - 0 epochs without improvement\n",
            "2023-12-24 22:45:03,171 saving best model\n"
          ]
        },
        {
          "output_type": "stream",
          "name": "stderr",
          "text": [
            "\n"
          ]
        },
        {
          "output_type": "stream",
          "name": "stdout",
          "text": [
            "2023-12-24 22:45:14,273 ----------------------------------------------------------------------------------------------------\n",
            "2023-12-24 22:45:15,419 epoch 2 - iter 19/199 - loss 0.39481334 - time (sec): 1.14 - samples/sec: 2732.58 - lr: 0.100000 - momentum: 0.000000\n",
            "2023-12-24 22:45:16,414 epoch 2 - iter 38/199 - loss 0.40244901 - time (sec): 2.13 - samples/sec: 2920.50 - lr: 0.100000 - momentum: 0.000000\n",
            "2023-12-24 22:45:17,223 epoch 2 - iter 57/199 - loss 0.39951574 - time (sec): 2.94 - samples/sec: 3152.82 - lr: 0.100000 - momentum: 0.000000\n",
            "2023-12-24 22:45:17,822 epoch 2 - iter 76/199 - loss 0.40484475 - time (sec): 3.54 - samples/sec: 3462.48 - lr: 0.100000 - momentum: 0.000000\n",
            "2023-12-24 22:45:18,466 epoch 2 - iter 95/199 - loss 0.40883334 - time (sec): 4.18 - samples/sec: 3616.59 - lr: 0.100000 - momentum: 0.000000\n",
            "2023-12-24 22:45:19,135 epoch 2 - iter 114/199 - loss 0.41007500 - time (sec): 4.85 - samples/sec: 3747.36 - lr: 0.100000 - momentum: 0.000000\n",
            "2023-12-24 22:45:19,669 epoch 2 - iter 133/199 - loss 0.41237363 - time (sec): 5.39 - samples/sec: 3902.83 - lr: 0.100000 - momentum: 0.000000\n",
            "2023-12-24 22:45:20,317 epoch 2 - iter 152/199 - loss 0.41372974 - time (sec): 6.03 - samples/sec: 3974.87 - lr: 0.100000 - momentum: 0.000000\n",
            "2023-12-24 22:45:21,033 epoch 2 - iter 171/199 - loss 0.41233048 - time (sec): 6.75 - samples/sec: 4022.19 - lr: 0.100000 - momentum: 0.000000\n",
            "2023-12-24 22:45:21,678 epoch 2 - iter 190/199 - loss 0.41173057 - time (sec): 7.40 - samples/sec: 4074.14 - lr: 0.100000 - momentum: 0.000000\n",
            "2023-12-24 22:45:21,994 ----------------------------------------------------------------------------------------------------\n",
            "2023-12-24 22:45:21,997 EPOCH 2 done: loss 0.4129 - lr: 0.100000\n"
          ]
        },
        {
          "output_type": "stream",
          "name": "stderr",
          "text": [
            "100%|██████████| 7/7 [00:01<00:00,  3.86it/s]"
          ]
        },
        {
          "output_type": "stream",
          "name": "stdout",
          "text": [
            "2023-12-24 22:45:23,881 DEV : loss 0.3967604637145996 - f1-score (micro avg)  0.8457\n",
            "2023-12-24 22:45:23,907  - 0 epochs without improvement\n",
            "2023-12-24 22:45:23,916 ----------------------------------------------------------------------------------------------------\n"
          ]
        },
        {
          "output_type": "stream",
          "name": "stderr",
          "text": [
            "\n"
          ]
        },
        {
          "output_type": "stream",
          "name": "stdout",
          "text": [
            "2023-12-24 22:45:24,791 epoch 3 - iter 19/199 - loss 0.43139731 - time (sec): 0.87 - samples/sec: 3492.67 - lr: 0.100000 - momentum: 0.000000\n",
            "2023-12-24 22:45:25,739 epoch 3 - iter 38/199 - loss 0.42840882 - time (sec): 1.82 - samples/sec: 3314.38 - lr: 0.100000 - momentum: 0.000000\n",
            "2023-12-24 22:45:26,664 epoch 3 - iter 57/199 - loss 0.42083073 - time (sec): 2.74 - samples/sec: 3260.81 - lr: 0.100000 - momentum: 0.000000\n",
            "2023-12-24 22:45:27,987 epoch 3 - iter 76/199 - loss 0.42073269 - time (sec): 4.07 - samples/sec: 2919.44 - lr: 0.100000 - momentum: 0.000000\n",
            "2023-12-24 22:45:29,416 epoch 3 - iter 95/199 - loss 0.42325068 - time (sec): 5.49 - samples/sec: 2694.21 - lr: 0.100000 - momentum: 0.000000\n",
            "2023-12-24 22:45:30,819 epoch 3 - iter 114/199 - loss 0.42124460 - time (sec): 6.90 - samples/sec: 2580.68 - lr: 0.100000 - momentum: 0.000000\n",
            "2023-12-24 22:45:32,182 epoch 3 - iter 133/199 - loss 0.42108320 - time (sec): 8.26 - samples/sec: 2518.28 - lr: 0.100000 - momentum: 0.000000\n",
            "2023-12-24 22:45:33,567 epoch 3 - iter 152/199 - loss 0.41837574 - time (sec): 9.65 - samples/sec: 2477.74 - lr: 0.100000 - momentum: 0.000000\n",
            "2023-12-24 22:45:34,382 epoch 3 - iter 171/199 - loss 0.41598637 - time (sec): 10.46 - samples/sec: 2586.94 - lr: 0.100000 - momentum: 0.000000\n",
            "2023-12-24 22:45:35,129 epoch 3 - iter 190/199 - loss 0.41721442 - time (sec): 11.21 - samples/sec: 2693.66 - lr: 0.100000 - momentum: 0.000000\n",
            "2023-12-24 22:45:35,442 ----------------------------------------------------------------------------------------------------\n",
            "2023-12-24 22:45:35,445 EPOCH 3 done: loss 0.4177 - lr: 0.100000\n"
          ]
        },
        {
          "output_type": "stream",
          "name": "stderr",
          "text": [
            "100%|██████████| 7/7 [00:00<00:00,  8.31it/s]\n"
          ]
        },
        {
          "output_type": "stream",
          "name": "stdout",
          "text": [
            "2023-12-24 22:45:36,340 DEV : loss 0.42629215121269226 - f1-score (micro avg)  0.8457\n",
            "2023-12-24 22:45:36,358  - 1 epochs without improvement\n",
            "2023-12-24 22:45:36,365 ----------------------------------------------------------------------------------------------------\n",
            "2023-12-24 22:45:37,065 epoch 4 - iter 19/199 - loss 0.42271430 - time (sec): 0.70 - samples/sec: 4236.70 - lr: 0.100000 - momentum: 0.000000\n",
            "2023-12-24 22:45:37,649 epoch 4 - iter 38/199 - loss 0.42216610 - time (sec): 1.28 - samples/sec: 4602.54 - lr: 0.100000 - momentum: 0.000000\n",
            "2023-12-24 22:45:38,248 epoch 4 - iter 57/199 - loss 0.42075310 - time (sec): 1.88 - samples/sec: 4684.92 - lr: 0.100000 - momentum: 0.000000\n",
            "2023-12-24 22:45:38,983 epoch 4 - iter 76/199 - loss 0.41899927 - time (sec): 2.61 - samples/sec: 4520.58 - lr: 0.100000 - momentum: 0.000000\n",
            "2023-12-24 22:45:39,836 epoch 4 - iter 95/199 - loss 0.41324519 - time (sec): 3.47 - samples/sec: 4333.00 - lr: 0.100000 - momentum: 0.000000\n",
            "2023-12-24 22:45:40,495 epoch 4 - iter 114/199 - loss 0.41442757 - time (sec): 4.13 - samples/sec: 4370.88 - lr: 0.100000 - momentum: 0.000000\n",
            "2023-12-24 22:45:41,155 epoch 4 - iter 133/199 - loss 0.41641044 - time (sec): 4.79 - samples/sec: 4377.99 - lr: 0.100000 - momentum: 0.000000\n",
            "2023-12-24 22:45:41,753 epoch 4 - iter 152/199 - loss 0.41815939 - time (sec): 5.38 - samples/sec: 4434.66 - lr: 0.100000 - momentum: 0.000000\n",
            "2023-12-24 22:45:42,478 epoch 4 - iter 171/199 - loss 0.41568404 - time (sec): 6.11 - samples/sec: 4418.32 - lr: 0.100000 - momentum: 0.000000\n",
            "2023-12-24 22:45:43,156 epoch 4 - iter 190/199 - loss 0.41480349 - time (sec): 6.79 - samples/sec: 4430.10 - lr: 0.100000 - momentum: 0.000000\n",
            "2023-12-24 22:45:43,506 ----------------------------------------------------------------------------------------------------\n",
            "2023-12-24 22:45:43,508 EPOCH 4 done: loss 0.4138 - lr: 0.100000\n"
          ]
        },
        {
          "output_type": "stream",
          "name": "stderr",
          "text": [
            "100%|██████████| 7/7 [00:01<00:00,  5.27it/s]"
          ]
        },
        {
          "output_type": "stream",
          "name": "stdout",
          "text": [
            "2023-12-24 22:45:44,923 DEV : loss 0.4099794626235962 - f1-score (micro avg)  0.8457\n",
            "2023-12-24 22:45:44,953  - 2 epochs without improvement\n",
            "2023-12-24 22:45:44,964 ----------------------------------------------------------------------------------------------------\n"
          ]
        },
        {
          "output_type": "stream",
          "name": "stderr",
          "text": [
            "\n"
          ]
        },
        {
          "output_type": "stream",
          "name": "stdout",
          "text": [
            "2023-12-24 22:45:46,105 epoch 5 - iter 19/199 - loss 0.40442395 - time (sec): 1.14 - samples/sec: 2711.96 - lr: 0.100000 - momentum: 0.000000\n",
            "2023-12-24 22:45:47,146 epoch 5 - iter 38/199 - loss 0.40064797 - time (sec): 2.18 - samples/sec: 2852.71 - lr: 0.100000 - momentum: 0.000000\n",
            "2023-12-24 22:45:48,118 epoch 5 - iter 57/199 - loss 0.40318554 - time (sec): 3.15 - samples/sec: 2916.71 - lr: 0.100000 - momentum: 0.000000\n",
            "2023-12-24 22:45:49,109 epoch 5 - iter 76/199 - loss 0.41095919 - time (sec): 4.14 - samples/sec: 2930.78 - lr: 0.100000 - momentum: 0.000000\n",
            "2023-12-24 22:45:49,752 epoch 5 - iter 95/199 - loss 0.41243508 - time (sec): 4.78 - samples/sec: 3158.30 - lr: 0.100000 - momentum: 0.000000\n",
            "2023-12-24 22:45:50,436 epoch 5 - iter 114/199 - loss 0.41336159 - time (sec): 5.47 - samples/sec: 3292.39 - lr: 0.100000 - momentum: 0.000000\n",
            "2023-12-24 22:45:51,064 epoch 5 - iter 133/199 - loss 0.41255891 - time (sec): 6.10 - samples/sec: 3444.27 - lr: 0.100000 - momentum: 0.000000\n",
            "2023-12-24 22:45:51,740 epoch 5 - iter 152/199 - loss 0.41041888 - time (sec): 6.77 - samples/sec: 3564.04 - lr: 0.100000 - momentum: 0.000000\n",
            "2023-12-24 22:45:52,468 epoch 5 - iter 171/199 - loss 0.41079752 - time (sec): 7.50 - samples/sec: 3620.52 - lr: 0.100000 - momentum: 0.000000\n",
            "2023-12-24 22:45:53,088 epoch 5 - iter 190/199 - loss 0.41199124 - time (sec): 8.12 - samples/sec: 3720.27 - lr: 0.100000 - momentum: 0.000000\n",
            "2023-12-24 22:45:53,373 ----------------------------------------------------------------------------------------------------\n",
            "2023-12-24 22:45:53,375 EPOCH 5 done: loss 0.4119 - lr: 0.100000\n"
          ]
        },
        {
          "output_type": "stream",
          "name": "stderr",
          "text": [
            "100%|██████████| 7/7 [00:00<00:00,  8.32it/s]\n"
          ]
        },
        {
          "output_type": "stream",
          "name": "stdout",
          "text": [
            "2023-12-24 22:45:54,295 DEV : loss 0.4168437421321869 - f1-score (micro avg)  0.8457\n",
            "2023-12-24 22:45:54,314  - 3 epochs without improvement\n",
            "2023-12-24 22:45:54,320 ----------------------------------------------------------------------------------------------------\n",
            "2023-12-24 22:45:55,055 epoch 6 - iter 19/199 - loss 0.40904710 - time (sec): 0.73 - samples/sec: 4340.03 - lr: 0.100000 - momentum: 0.000000\n",
            "2023-12-24 22:45:55,750 epoch 6 - iter 38/199 - loss 0.40603592 - time (sec): 1.43 - samples/sec: 4351.88 - lr: 0.100000 - momentum: 0.000000\n",
            "2023-12-24 22:45:56,371 epoch 6 - iter 57/199 - loss 0.41081310 - time (sec): 2.05 - samples/sec: 4509.13 - lr: 0.100000 - momentum: 0.000000\n",
            "2023-12-24 22:45:57,112 epoch 6 - iter 76/199 - loss 0.41119567 - time (sec): 2.79 - samples/sec: 4411.10 - lr: 0.100000 - momentum: 0.000000\n",
            "2023-12-24 22:45:57,770 epoch 6 - iter 95/199 - loss 0.41376837 - time (sec): 3.45 - samples/sec: 4411.40 - lr: 0.100000 - momentum: 0.000000\n",
            "2023-12-24 22:45:58,418 epoch 6 - iter 114/199 - loss 0.41247602 - time (sec): 4.09 - samples/sec: 4451.37 - lr: 0.100000 - momentum: 0.000000\n",
            "2023-12-24 22:45:59,037 epoch 6 - iter 133/199 - loss 0.41498421 - time (sec): 4.71 - samples/sec: 4470.70 - lr: 0.100000 - momentum: 0.000000\n",
            "2023-12-24 22:45:59,970 epoch 6 - iter 152/199 - loss 0.41542198 - time (sec): 5.65 - samples/sec: 4267.09 - lr: 0.100000 - momentum: 0.000000\n",
            "2023-12-24 22:46:01,011 epoch 6 - iter 171/199 - loss 0.41310820 - time (sec): 6.69 - samples/sec: 4049.53 - lr: 0.100000 - momentum: 0.000000\n",
            "2023-12-24 22:46:01,998 epoch 6 - iter 190/199 - loss 0.41257075 - time (sec): 7.67 - samples/sec: 3922.05 - lr: 0.100000 - momentum: 0.000000\n",
            "2023-12-24 22:46:02,493 ----------------------------------------------------------------------------------------------------\n",
            "2023-12-24 22:46:02,501 EPOCH 6 done: loss 0.4139 - lr: 0.100000\n"
          ]
        },
        {
          "output_type": "stream",
          "name": "stderr",
          "text": [
            "100%|██████████| 7/7 [00:01<00:00,  5.19it/s]"
          ]
        },
        {
          "output_type": "stream",
          "name": "stdout",
          "text": [
            "2023-12-24 22:46:03,939 DEV : loss 0.4157998859882355 - f1-score (micro avg)  0.8457\n",
            "2023-12-24 22:46:03,978  - 4 epochs without improvement (above 'patience')-> annealing learning_rate to [0.05]\n",
            "2023-12-24 22:46:03,983 ----------------------------------------------------------------------------------------------------\n"
          ]
        },
        {
          "output_type": "stream",
          "name": "stderr",
          "text": [
            "\n"
          ]
        },
        {
          "output_type": "stream",
          "name": "stdout",
          "text": [
            "2023-12-24 22:46:04,976 epoch 7 - iter 19/199 - loss 0.38889610 - time (sec): 0.99 - samples/sec: 3113.18 - lr: 0.050000 - momentum: 0.000000\n",
            "2023-12-24 22:46:05,620 epoch 7 - iter 38/199 - loss 0.38427411 - time (sec): 1.63 - samples/sec: 3753.02 - lr: 0.050000 - momentum: 0.000000\n",
            "2023-12-24 22:46:06,346 epoch 7 - iter 57/199 - loss 0.38791558 - time (sec): 2.36 - samples/sec: 3875.06 - lr: 0.050000 - momentum: 0.000000\n",
            "2023-12-24 22:46:06,930 epoch 7 - iter 76/199 - loss 0.39307252 - time (sec): 2.94 - samples/sec: 4108.97 - lr: 0.050000 - momentum: 0.000000\n",
            "2023-12-24 22:46:07,644 epoch 7 - iter 95/199 - loss 0.39412622 - time (sec): 3.66 - samples/sec: 4134.65 - lr: 0.050000 - momentum: 0.000000\n",
            "2023-12-24 22:46:08,286 epoch 7 - iter 114/199 - loss 0.39473178 - time (sec): 4.30 - samples/sec: 4216.30 - lr: 0.050000 - momentum: 0.000000\n",
            "2023-12-24 22:46:08,873 epoch 7 - iter 133/199 - loss 0.39569528 - time (sec): 4.88 - samples/sec: 4316.24 - lr: 0.050000 - momentum: 0.000000\n",
            "2023-12-24 22:46:09,562 epoch 7 - iter 152/199 - loss 0.39568406 - time (sec): 5.57 - samples/sec: 4328.53 - lr: 0.050000 - momentum: 0.000000\n",
            "2023-12-24 22:46:10,266 epoch 7 - iter 171/199 - loss 0.39528734 - time (sec): 6.28 - samples/sec: 4330.46 - lr: 0.050000 - momentum: 0.000000\n",
            "2023-12-24 22:46:10,901 epoch 7 - iter 190/199 - loss 0.39677358 - time (sec): 6.91 - samples/sec: 4358.09 - lr: 0.050000 - momentum: 0.000000\n",
            "2023-12-24 22:46:11,216 ----------------------------------------------------------------------------------------------------\n",
            "2023-12-24 22:46:11,221 EPOCH 7 done: loss 0.3954 - lr: 0.050000\n"
          ]
        },
        {
          "output_type": "stream",
          "name": "stderr",
          "text": [
            "100%|██████████| 7/7 [00:00<00:00,  8.48it/s]\n"
          ]
        },
        {
          "output_type": "stream",
          "name": "stdout",
          "text": [
            "2023-12-24 22:46:12,107 DEV : loss 0.3808853030204773 - f1-score (micro avg)  0.8457\n",
            "2023-12-24 22:46:12,126  - 0 epochs without improvement\n",
            "2023-12-24 22:46:12,133 ----------------------------------------------------------------------------------------------------\n",
            "2023-12-24 22:46:12,788 epoch 8 - iter 19/199 - loss 0.39155831 - time (sec): 0.65 - samples/sec: 4564.33 - lr: 0.050000 - momentum: 0.000000\n",
            "2023-12-24 22:46:13,397 epoch 8 - iter 38/199 - loss 0.39216729 - time (sec): 1.26 - samples/sec: 4719.94 - lr: 0.050000 - momentum: 0.000000\n",
            "2023-12-24 22:46:13,996 epoch 8 - iter 57/199 - loss 0.39418306 - time (sec): 1.86 - samples/sec: 4778.34 - lr: 0.050000 - momentum: 0.000000\n",
            "2023-12-24 22:46:14,679 epoch 8 - iter 76/199 - loss 0.39545265 - time (sec): 2.54 - samples/sec: 4690.17 - lr: 0.050000 - momentum: 0.000000\n",
            "2023-12-24 22:46:15,584 epoch 8 - iter 95/199 - loss 0.39627559 - time (sec): 3.45 - samples/sec: 4338.37 - lr: 0.050000 - momentum: 0.000000\n",
            "2023-12-24 22:46:16,662 epoch 8 - iter 114/199 - loss 0.39758269 - time (sec): 4.52 - samples/sec: 3986.71 - lr: 0.050000 - momentum: 0.000000\n",
            "2023-12-24 22:46:17,604 epoch 8 - iter 133/199 - loss 0.39494771 - time (sec): 5.47 - samples/sec: 3844.98 - lr: 0.050000 - momentum: 0.000000\n",
            "2023-12-24 22:46:18,636 epoch 8 - iter 152/199 - loss 0.39597398 - time (sec): 6.50 - samples/sec: 3706.25 - lr: 0.050000 - momentum: 0.000000\n",
            "2023-12-24 22:46:19,788 epoch 8 - iter 171/199 - loss 0.39261748 - time (sec): 7.65 - samples/sec: 3561.70 - lr: 0.050000 - momentum: 0.000000\n",
            "2023-12-24 22:46:20,565 epoch 8 - iter 190/199 - loss 0.39358979 - time (sec): 8.43 - samples/sec: 3583.76 - lr: 0.050000 - momentum: 0.000000\n",
            "2023-12-24 22:46:20,848 ----------------------------------------------------------------------------------------------------\n",
            "2023-12-24 22:46:20,850 EPOCH 8 done: loss 0.3936 - lr: 0.050000\n"
          ]
        },
        {
          "output_type": "stream",
          "name": "stderr",
          "text": [
            "100%|██████████| 7/7 [00:00<00:00,  8.40it/s]"
          ]
        },
        {
          "output_type": "stream",
          "name": "stdout",
          "text": [
            "2023-12-24 22:46:21,738 DEV : loss 0.3890821039676666 - f1-score (micro avg)  0.8457\n",
            "2023-12-24 22:46:21,758  - 1 epochs without improvement\n",
            "2023-12-24 22:46:21,764 ----------------------------------------------------------------------------------------------------\n"
          ]
        },
        {
          "output_type": "stream",
          "name": "stderr",
          "text": [
            "\n"
          ]
        },
        {
          "output_type": "stream",
          "name": "stdout",
          "text": [
            "2023-12-24 22:46:22,509 epoch 9 - iter 19/199 - loss 0.39217023 - time (sec): 0.74 - samples/sec: 4097.74 - lr: 0.050000 - momentum: 0.000000\n",
            "2023-12-24 22:46:23,326 epoch 9 - iter 38/199 - loss 0.38426833 - time (sec): 1.56 - samples/sec: 3978.58 - lr: 0.050000 - momentum: 0.000000\n",
            "2023-12-24 22:46:23,983 epoch 9 - iter 57/199 - loss 0.38959457 - time (sec): 2.21 - samples/sec: 4125.41 - lr: 0.050000 - momentum: 0.000000\n",
            "2023-12-24 22:46:24,732 epoch 9 - iter 76/199 - loss 0.38884070 - time (sec): 2.96 - samples/sec: 4131.47 - lr: 0.050000 - momentum: 0.000000\n",
            "2023-12-24 22:46:25,320 epoch 9 - iter 95/199 - loss 0.39211920 - time (sec): 3.55 - samples/sec: 4286.02 - lr: 0.050000 - momentum: 0.000000\n",
            "2023-12-24 22:46:25,972 epoch 9 - iter 114/199 - loss 0.39300037 - time (sec): 4.20 - samples/sec: 4332.63 - lr: 0.050000 - momentum: 0.000000\n",
            "2023-12-24 22:46:26,591 epoch 9 - iter 133/199 - loss 0.39273408 - time (sec): 4.82 - samples/sec: 4380.42 - lr: 0.050000 - momentum: 0.000000\n",
            "2023-12-24 22:46:27,196 epoch 9 - iter 152/199 - loss 0.39233415 - time (sec): 5.43 - samples/sec: 4430.64 - lr: 0.050000 - momentum: 0.000000\n",
            "2023-12-24 22:46:27,842 epoch 9 - iter 171/199 - loss 0.39382313 - time (sec): 6.07 - samples/sec: 4446.23 - lr: 0.050000 - momentum: 0.000000\n",
            "2023-12-24 22:46:28,484 epoch 9 - iter 190/199 - loss 0.39208133 - time (sec): 6.72 - samples/sec: 4479.76 - lr: 0.050000 - momentum: 0.000000\n",
            "2023-12-24 22:46:28,829 ----------------------------------------------------------------------------------------------------\n",
            "2023-12-24 22:46:28,833 EPOCH 9 done: loss 0.3917 - lr: 0.050000\n"
          ]
        },
        {
          "output_type": "stream",
          "name": "stderr",
          "text": [
            "100%|██████████| 7/7 [00:00<00:00,  8.40it/s]\n"
          ]
        },
        {
          "output_type": "stream",
          "name": "stdout",
          "text": [
            "2023-12-24 22:46:29,727 DEV : loss 0.37862586975097656 - f1-score (micro avg)  0.8457\n",
            "2023-12-24 22:46:29,745  - 0 epochs without improvement\n",
            "2023-12-24 22:46:29,752 ----------------------------------------------------------------------------------------------------\n",
            "2023-12-24 22:46:30,487 epoch 10 - iter 19/199 - loss 0.39525818 - time (sec): 0.73 - samples/sec: 4176.21 - lr: 0.050000 - momentum: 0.000000\n",
            "2023-12-24 22:46:31,509 epoch 10 - iter 38/199 - loss 0.38848198 - time (sec): 1.75 - samples/sec: 3484.94 - lr: 0.050000 - momentum: 0.000000\n",
            "2023-12-24 22:46:32,395 epoch 10 - iter 57/199 - loss 0.39192554 - time (sec): 2.64 - samples/sec: 3426.56 - lr: 0.050000 - momentum: 0.000000\n",
            "2023-12-24 22:46:33,354 epoch 10 - iter 76/199 - loss 0.39074063 - time (sec): 3.60 - samples/sec: 3346.01 - lr: 0.050000 - momentum: 0.000000\n",
            "2023-12-24 22:46:34,353 epoch 10 - iter 95/199 - loss 0.39213540 - time (sec): 4.60 - samples/sec: 3275.93 - lr: 0.050000 - momentum: 0.000000\n",
            "2023-12-24 22:46:35,329 epoch 10 - iter 114/199 - loss 0.39171586 - time (sec): 5.57 - samples/sec: 3224.03 - lr: 0.050000 - momentum: 0.000000\n",
            "2023-12-24 22:46:36,161 epoch 10 - iter 133/199 - loss 0.39352877 - time (sec): 6.40 - samples/sec: 3260.69 - lr: 0.050000 - momentum: 0.000000\n",
            "2023-12-24 22:46:36,906 epoch 10 - iter 152/199 - loss 0.39435826 - time (sec): 7.15 - samples/sec: 3362.47 - lr: 0.050000 - momentum: 0.000000\n",
            "2023-12-24 22:46:37,627 epoch 10 - iter 171/199 - loss 0.39166421 - time (sec): 7.87 - samples/sec: 3448.08 - lr: 0.050000 - momentum: 0.000000\n",
            "2023-12-24 22:46:38,290 epoch 10 - iter 190/199 - loss 0.39041016 - time (sec): 8.53 - samples/sec: 3535.62 - lr: 0.050000 - momentum: 0.000000\n",
            "2023-12-24 22:46:38,562 ----------------------------------------------------------------------------------------------------\n",
            "2023-12-24 22:46:38,563 EPOCH 10 done: loss 0.3910 - lr: 0.050000\n"
          ]
        },
        {
          "output_type": "stream",
          "name": "stderr",
          "text": [
            "100%|██████████| 7/7 [00:00<00:00,  8.24it/s]"
          ]
        },
        {
          "output_type": "stream",
          "name": "stdout",
          "text": [
            "2023-12-24 22:46:39,468 DEV : loss 0.3805287480354309 - f1-score (micro avg)  0.8457\n",
            "2023-12-24 22:46:39,486  - 1 epochs without improvement\n",
            "2023-12-24 22:46:39,492 ----------------------------------------------------------------------------------------------------\n"
          ]
        },
        {
          "output_type": "stream",
          "name": "stderr",
          "text": [
            "\n"
          ]
        },
        {
          "output_type": "stream",
          "name": "stdout",
          "text": [
            "2023-12-24 22:46:40,163 epoch 11 - iter 19/199 - loss 0.38532673 - time (sec): 0.67 - samples/sec: 4454.90 - lr: 0.050000 - momentum: 0.000000\n",
            "2023-12-24 22:46:40,814 epoch 11 - iter 38/199 - loss 0.38878187 - time (sec): 1.32 - samples/sec: 4577.25 - lr: 0.050000 - momentum: 0.000000\n",
            "2023-12-24 22:46:41,476 epoch 11 - iter 57/199 - loss 0.38744770 - time (sec): 1.98 - samples/sec: 4539.90 - lr: 0.050000 - momentum: 0.000000\n",
            "2023-12-24 22:46:42,128 epoch 11 - iter 76/199 - loss 0.38820497 - time (sec): 2.63 - samples/sec: 4564.76 - lr: 0.050000 - momentum: 0.000000\n",
            "2023-12-24 22:46:42,840 epoch 11 - iter 95/199 - loss 0.38921540 - time (sec): 3.34 - samples/sec: 4493.70 - lr: 0.050000 - momentum: 0.000000\n",
            "2023-12-24 22:46:43,518 epoch 11 - iter 114/199 - loss 0.38928850 - time (sec): 4.02 - samples/sec: 4494.01 - lr: 0.050000 - momentum: 0.000000\n",
            "2023-12-24 22:46:44,173 epoch 11 - iter 133/199 - loss 0.38812602 - time (sec): 4.68 - samples/sec: 4487.26 - lr: 0.050000 - momentum: 0.000000\n",
            "2023-12-24 22:46:44,780 epoch 11 - iter 152/199 - loss 0.38977975 - time (sec): 5.28 - samples/sec: 4532.35 - lr: 0.050000 - momentum: 0.000000\n",
            "2023-12-24 22:46:45,440 epoch 11 - iter 171/199 - loss 0.38897164 - time (sec): 5.94 - samples/sec: 4547.15 - lr: 0.050000 - momentum: 0.000000\n",
            "2023-12-24 22:46:46,270 epoch 11 - iter 190/199 - loss 0.39022363 - time (sec): 6.77 - samples/sec: 4436.76 - lr: 0.050000 - momentum: 0.000000\n",
            "2023-12-24 22:46:46,836 ----------------------------------------------------------------------------------------------------\n",
            "2023-12-24 22:46:46,841 EPOCH 11 done: loss 0.3910 - lr: 0.050000\n"
          ]
        },
        {
          "output_type": "stream",
          "name": "stderr",
          "text": [
            "100%|██████████| 7/7 [00:01<00:00,  5.16it/s]"
          ]
        },
        {
          "output_type": "stream",
          "name": "stdout",
          "text": [
            "2023-12-24 22:46:48,284 DEV : loss 0.3711359202861786 - f1-score (micro avg)  0.8457\n",
            "2023-12-24 22:46:48,313  - 0 epochs without improvement\n",
            "2023-12-24 22:46:48,323 ----------------------------------------------------------------------------------------------------\n"
          ]
        },
        {
          "output_type": "stream",
          "name": "stderr",
          "text": [
            "\n"
          ]
        },
        {
          "output_type": "stream",
          "name": "stdout",
          "text": [
            "2023-12-24 22:46:49,457 epoch 12 - iter 19/199 - loss 0.38477073 - time (sec): 1.13 - samples/sec: 2777.92 - lr: 0.050000 - momentum: 0.000000\n",
            "2023-12-24 22:46:50,528 epoch 12 - iter 38/199 - loss 0.39697635 - time (sec): 2.20 - samples/sec: 2799.77 - lr: 0.050000 - momentum: 0.000000\n",
            "2023-12-24 22:46:51,567 epoch 12 - iter 57/199 - loss 0.39311130 - time (sec): 3.24 - samples/sec: 2841.68 - lr: 0.050000 - momentum: 0.000000\n",
            "2023-12-24 22:46:52,221 epoch 12 - iter 76/199 - loss 0.39319096 - time (sec): 3.89 - samples/sec: 3121.99 - lr: 0.050000 - momentum: 0.000000\n",
            "2023-12-24 22:46:52,776 epoch 12 - iter 95/199 - loss 0.39330247 - time (sec): 4.45 - samples/sec: 3407.89 - lr: 0.050000 - momentum: 0.000000\n",
            "2023-12-24 22:46:53,365 epoch 12 - iter 114/199 - loss 0.39335010 - time (sec): 5.04 - samples/sec: 3577.73 - lr: 0.050000 - momentum: 0.000000\n",
            "2023-12-24 22:46:53,993 epoch 12 - iter 133/199 - loss 0.39271573 - time (sec): 5.66 - samples/sec: 3702.53 - lr: 0.050000 - momentum: 0.000000\n",
            "2023-12-24 22:46:54,694 epoch 12 - iter 152/199 - loss 0.39403389 - time (sec): 6.36 - samples/sec: 3776.12 - lr: 0.050000 - momentum: 0.000000\n",
            "2023-12-24 22:46:55,323 epoch 12 - iter 171/199 - loss 0.39200775 - time (sec): 6.99 - samples/sec: 3861.96 - lr: 0.050000 - momentum: 0.000000\n",
            "2023-12-24 22:46:56,008 epoch 12 - iter 190/199 - loss 0.38971667 - time (sec): 7.68 - samples/sec: 3919.20 - lr: 0.050000 - momentum: 0.000000\n",
            "2023-12-24 22:46:56,353 ----------------------------------------------------------------------------------------------------\n",
            "2023-12-24 22:46:56,356 EPOCH 12 done: loss 0.3892 - lr: 0.050000\n"
          ]
        },
        {
          "output_type": "stream",
          "name": "stderr",
          "text": [
            "100%|██████████| 7/7 [00:00<00:00,  8.31it/s]\n"
          ]
        },
        {
          "output_type": "stream",
          "name": "stdout",
          "text": [
            "2023-12-24 22:46:57,254 DEV : loss 0.3761898875236511 - f1-score (micro avg)  0.8457\n",
            "2023-12-24 22:46:57,272  - 1 epochs without improvement\n",
            "2023-12-24 22:46:57,278 ----------------------------------------------------------------------------------------------------\n",
            "2023-12-24 22:46:57,968 epoch 13 - iter 19/199 - loss 0.39703477 - time (sec): 0.68 - samples/sec: 4492.14 - lr: 0.050000 - momentum: 0.000000\n",
            "2023-12-24 22:46:58,578 epoch 13 - iter 38/199 - loss 0.39661205 - time (sec): 1.29 - samples/sec: 4645.57 - lr: 0.050000 - momentum: 0.000000\n",
            "2023-12-24 22:46:59,281 epoch 13 - iter 57/199 - loss 0.39066704 - time (sec): 2.00 - samples/sec: 4548.42 - lr: 0.050000 - momentum: 0.000000\n",
            "2023-12-24 22:46:59,957 epoch 13 - iter 76/199 - loss 0.38539217 - time (sec): 2.67 - samples/sec: 4532.01 - lr: 0.050000 - momentum: 0.000000\n",
            "2023-12-24 22:47:00,603 epoch 13 - iter 95/199 - loss 0.38619907 - time (sec): 3.32 - samples/sec: 4560.01 - lr: 0.050000 - momentum: 0.000000\n",
            "2023-12-24 22:47:01,263 epoch 13 - iter 114/199 - loss 0.38846385 - time (sec): 3.98 - samples/sec: 4547.88 - lr: 0.050000 - momentum: 0.000000\n",
            "2023-12-24 22:47:02,146 epoch 13 - iter 133/199 - loss 0.38819953 - time (sec): 4.86 - samples/sec: 4333.06 - lr: 0.050000 - momentum: 0.000000\n",
            "2023-12-24 22:47:03,252 epoch 13 - iter 152/199 - loss 0.38758134 - time (sec): 5.97 - samples/sec: 4037.63 - lr: 0.050000 - momentum: 0.000000\n",
            "2023-12-24 22:47:04,122 epoch 13 - iter 171/199 - loss 0.38853388 - time (sec): 6.84 - samples/sec: 3944.66 - lr: 0.050000 - momentum: 0.000000\n",
            "2023-12-24 22:47:05,051 epoch 13 - iter 190/199 - loss 0.39059541 - time (sec): 7.77 - samples/sec: 3858.75 - lr: 0.050000 - momentum: 0.000000\n",
            "2023-12-24 22:47:05,699 ----------------------------------------------------------------------------------------------------\n",
            "2023-12-24 22:47:05,704 EPOCH 13 done: loss 0.3894 - lr: 0.050000\n"
          ]
        },
        {
          "output_type": "stream",
          "name": "stderr",
          "text": [
            "100%|██████████| 7/7 [00:01<00:00,  4.04it/s]"
          ]
        },
        {
          "output_type": "stream",
          "name": "stdout",
          "text": [
            "2023-12-24 22:47:07,493 DEV : loss 0.39120543003082275 - f1-score (micro avg)  0.8457\n",
            "2023-12-24 22:47:07,512  - 2 epochs without improvement\n",
            "2023-12-24 22:47:07,518 ----------------------------------------------------------------------------------------------------\n"
          ]
        },
        {
          "output_type": "stream",
          "name": "stderr",
          "text": [
            "\n"
          ]
        },
        {
          "output_type": "stream",
          "name": "stdout",
          "text": [
            "2023-12-24 22:47:08,167 epoch 14 - iter 19/199 - loss 0.40661793 - time (sec): 0.64 - samples/sec: 4694.74 - lr: 0.050000 - momentum: 0.000000\n",
            "2023-12-24 22:47:08,776 epoch 14 - iter 38/199 - loss 0.39553346 - time (sec): 1.25 - samples/sec: 4754.52 - lr: 0.050000 - momentum: 0.000000\n",
            "2023-12-24 22:47:09,447 epoch 14 - iter 57/199 - loss 0.39251643 - time (sec): 1.92 - samples/sec: 4650.78 - lr: 0.050000 - momentum: 0.000000\n",
            "2023-12-24 22:47:10,165 epoch 14 - iter 76/199 - loss 0.38700869 - time (sec): 2.64 - samples/sec: 4578.60 - lr: 0.050000 - momentum: 0.000000\n",
            "2023-12-24 22:47:10,758 epoch 14 - iter 95/199 - loss 0.38655443 - time (sec): 3.24 - samples/sec: 4657.22 - lr: 0.050000 - momentum: 0.000000\n",
            "2023-12-24 22:47:11,433 epoch 14 - iter 114/199 - loss 0.38446462 - time (sec): 3.91 - samples/sec: 4637.50 - lr: 0.050000 - momentum: 0.000000\n",
            "2023-12-24 22:47:12,017 epoch 14 - iter 133/199 - loss 0.38671856 - time (sec): 4.49 - samples/sec: 4663.13 - lr: 0.050000 - momentum: 0.000000\n",
            "2023-12-24 22:47:12,647 epoch 14 - iter 152/199 - loss 0.38801425 - time (sec): 5.12 - samples/sec: 4675.61 - lr: 0.050000 - momentum: 0.000000\n",
            "2023-12-24 22:47:13,345 epoch 14 - iter 171/199 - loss 0.38560626 - time (sec): 5.82 - samples/sec: 4656.65 - lr: 0.050000 - momentum: 0.000000\n",
            "2023-12-24 22:47:14,062 epoch 14 - iter 190/199 - loss 0.38696609 - time (sec): 6.54 - samples/sec: 4607.52 - lr: 0.050000 - momentum: 0.000000\n",
            "2023-12-24 22:47:14,418 ----------------------------------------------------------------------------------------------------\n",
            "2023-12-24 22:47:14,420 EPOCH 14 done: loss 0.3864 - lr: 0.050000\n"
          ]
        },
        {
          "output_type": "stream",
          "name": "stderr",
          "text": [
            "100%|██████████| 7/7 [00:00<00:00,  8.32it/s]"
          ]
        },
        {
          "output_type": "stream",
          "name": "stdout",
          "text": [
            "2023-12-24 22:47:15,322 DEV : loss 0.4730440080165863 - f1-score (micro avg)  0.6737\n",
            "2023-12-24 22:47:15,341  - 3 epochs without improvement\n",
            "2023-12-24 22:47:15,347 ----------------------------------------------------------------------------------------------------\n"
          ]
        },
        {
          "output_type": "stream",
          "name": "stderr",
          "text": [
            "\n"
          ]
        },
        {
          "output_type": "stream",
          "name": "stdout",
          "text": [
            "2023-12-24 22:47:16,006 epoch 15 - iter 19/199 - loss 0.37589875 - time (sec): 0.65 - samples/sec: 4625.06 - lr: 0.050000 - momentum: 0.000000\n",
            "2023-12-24 22:47:16,681 epoch 15 - iter 38/199 - loss 0.37868322 - time (sec): 1.33 - samples/sec: 4529.10 - lr: 0.050000 - momentum: 0.000000\n",
            "2023-12-24 22:47:17,503 epoch 15 - iter 57/199 - loss 0.37864054 - time (sec): 2.15 - samples/sec: 4210.93 - lr: 0.050000 - momentum: 0.000000\n",
            "2023-12-24 22:47:18,629 epoch 15 - iter 76/199 - loss 0.37822083 - time (sec): 3.28 - samples/sec: 3690.42 - lr: 0.050000 - momentum: 0.000000\n",
            "2023-12-24 22:47:19,687 epoch 15 - iter 95/199 - loss 0.38335458 - time (sec): 4.34 - samples/sec: 3482.69 - lr: 0.050000 - momentum: 0.000000\n",
            "2023-12-24 22:47:20,742 epoch 15 - iter 114/199 - loss 0.38112036 - time (sec): 5.39 - samples/sec: 3379.27 - lr: 0.050000 - momentum: 0.000000\n",
            "2023-12-24 22:47:21,631 epoch 15 - iter 133/199 - loss 0.38286747 - time (sec): 6.28 - samples/sec: 3380.06 - lr: 0.050000 - momentum: 0.000000\n",
            "2023-12-24 22:47:22,671 epoch 15 - iter 152/199 - loss 0.38457777 - time (sec): 7.32 - samples/sec: 3304.89 - lr: 0.050000 - momentum: 0.000000\n",
            "2023-12-24 22:47:23,274 epoch 15 - iter 171/199 - loss 0.38692730 - time (sec): 7.92 - samples/sec: 3414.87 - lr: 0.050000 - momentum: 0.000000\n",
            "2023-12-24 22:47:23,951 epoch 15 - iter 190/199 - loss 0.38453019 - time (sec): 8.60 - samples/sec: 3505.36 - lr: 0.050000 - momentum: 0.000000\n",
            "2023-12-24 22:47:24,248 ----------------------------------------------------------------------------------------------------\n",
            "2023-12-24 22:47:24,250 EPOCH 15 done: loss 0.3852 - lr: 0.050000\n"
          ]
        },
        {
          "output_type": "stream",
          "name": "stderr",
          "text": [
            "100%|██████████| 7/7 [00:00<00:00,  8.38it/s]"
          ]
        },
        {
          "output_type": "stream",
          "name": "stdout",
          "text": [
            "2023-12-24 22:47:25,141 DEV : loss 0.367412269115448 - f1-score (micro avg)  0.8457\n",
            "2023-12-24 22:47:25,158  - 0 epochs without improvement\n",
            "2023-12-24 22:47:25,164 ----------------------------------------------------------------------------------------------------\n"
          ]
        },
        {
          "output_type": "stream",
          "name": "stderr",
          "text": [
            "\n"
          ]
        },
        {
          "output_type": "stream",
          "name": "stdout",
          "text": [
            "2023-12-24 22:47:25,832 epoch 16 - iter 19/199 - loss 0.38506656 - time (sec): 0.66 - samples/sec: 4644.39 - lr: 0.050000 - momentum: 0.000000\n",
            "2023-12-24 22:47:26,442 epoch 16 - iter 38/199 - loss 0.38602700 - time (sec): 1.27 - samples/sec: 4770.42 - lr: 0.050000 - momentum: 0.000000\n",
            "2023-12-24 22:47:26,997 epoch 16 - iter 57/199 - loss 0.38864162 - time (sec): 1.83 - samples/sec: 4944.23 - lr: 0.050000 - momentum: 0.000000\n",
            "2023-12-24 22:47:27,748 epoch 16 - iter 76/199 - loss 0.38511496 - time (sec): 2.58 - samples/sec: 4697.09 - lr: 0.050000 - momentum: 0.000000\n",
            "2023-12-24 22:47:28,338 epoch 16 - iter 95/199 - loss 0.38716765 - time (sec): 3.17 - samples/sec: 4729.48 - lr: 0.050000 - momentum: 0.000000\n",
            "2023-12-24 22:47:28,960 epoch 16 - iter 114/199 - loss 0.38758994 - time (sec): 3.79 - samples/sec: 4721.44 - lr: 0.050000 - momentum: 0.000000\n",
            "2023-12-24 22:47:29,591 epoch 16 - iter 133/199 - loss 0.38986713 - time (sec): 4.42 - samples/sec: 4702.75 - lr: 0.050000 - momentum: 0.000000\n",
            "2023-12-24 22:47:30,283 epoch 16 - iter 152/199 - loss 0.38962867 - time (sec): 5.11 - samples/sec: 4660.68 - lr: 0.050000 - momentum: 0.000000\n",
            "2023-12-24 22:47:31,053 epoch 16 - iter 171/199 - loss 0.38593456 - time (sec): 5.88 - samples/sec: 4601.74 - lr: 0.050000 - momentum: 0.000000\n",
            "2023-12-24 22:47:31,737 epoch 16 - iter 190/199 - loss 0.38651563 - time (sec): 6.57 - samples/sec: 4592.79 - lr: 0.050000 - momentum: 0.000000\n",
            "2023-12-24 22:47:32,057 ----------------------------------------------------------------------------------------------------\n",
            "2023-12-24 22:47:32,060 EPOCH 16 done: loss 0.3861 - lr: 0.050000\n"
          ]
        },
        {
          "output_type": "stream",
          "name": "stderr",
          "text": [
            "100%|██████████| 7/7 [00:00<00:00,  7.03it/s]"
          ]
        },
        {
          "output_type": "stream",
          "name": "stdout",
          "text": [
            "2023-12-24 22:47:33,137 DEV : loss 0.380866140127182 - f1-score (micro avg)  0.8457\n",
            "2023-12-24 22:47:33,166  - 1 epochs without improvement\n",
            "2023-12-24 22:47:33,186 ----------------------------------------------------------------------------------------------------\n"
          ]
        },
        {
          "output_type": "stream",
          "name": "stderr",
          "text": [
            "\n"
          ]
        },
        {
          "output_type": "stream",
          "name": "stdout",
          "text": [
            "2023-12-24 22:47:34,186 epoch 17 - iter 19/199 - loss 0.38536350 - time (sec): 1.00 - samples/sec: 3011.87 - lr: 0.050000 - momentum: 0.000000\n",
            "2023-12-24 22:47:35,257 epoch 17 - iter 38/199 - loss 0.38716619 - time (sec): 2.07 - samples/sec: 2884.14 - lr: 0.050000 - momentum: 0.000000\n",
            "2023-12-24 22:47:36,181 epoch 17 - iter 57/199 - loss 0.38709602 - time (sec): 2.99 - samples/sec: 2959.38 - lr: 0.050000 - momentum: 0.000000\n",
            "2023-12-24 22:47:37,244 epoch 17 - iter 76/199 - loss 0.38640802 - time (sec): 4.05 - samples/sec: 2981.66 - lr: 0.050000 - momentum: 0.000000\n",
            "2023-12-24 22:47:38,145 epoch 17 - iter 95/199 - loss 0.38802925 - time (sec): 4.95 - samples/sec: 3041.29 - lr: 0.050000 - momentum: 0.000000\n",
            "2023-12-24 22:47:39,422 epoch 17 - iter 114/199 - loss 0.38781809 - time (sec): 6.23 - samples/sec: 2892.46 - lr: 0.050000 - momentum: 0.000000\n",
            "2023-12-24 22:47:40,362 epoch 17 - iter 133/199 - loss 0.38837930 - time (sec): 7.17 - samples/sec: 2935.10 - lr: 0.050000 - momentum: 0.000000\n",
            "2023-12-24 22:47:41,499 epoch 17 - iter 152/199 - loss 0.38593999 - time (sec): 8.31 - samples/sec: 2905.00 - lr: 0.050000 - momentum: 0.000000\n",
            "2023-12-24 22:47:42,486 epoch 17 - iter 171/199 - loss 0.38566040 - time (sec): 9.30 - samples/sec: 2925.33 - lr: 0.050000 - momentum: 0.000000\n",
            "2023-12-24 22:47:43,488 epoch 17 - iter 190/199 - loss 0.38541506 - time (sec): 10.30 - samples/sec: 2931.04 - lr: 0.050000 - momentum: 0.000000\n",
            "2023-12-24 22:47:43,914 ----------------------------------------------------------------------------------------------------\n",
            "2023-12-24 22:47:43,916 EPOCH 17 done: loss 0.3854 - lr: 0.050000\n"
          ]
        },
        {
          "output_type": "stream",
          "name": "stderr",
          "text": [
            "100%|██████████| 7/7 [00:01<00:00,  5.78it/s]"
          ]
        },
        {
          "output_type": "stream",
          "name": "stdout",
          "text": [
            "2023-12-24 22:47:45,202 DEV : loss 0.3697649836540222 - f1-score (micro avg)  0.8462\n",
            "2023-12-24 22:47:45,224  - 0 epochs without improvement\n",
            "2023-12-24 22:47:45,230 saving best model\n"
          ]
        },
        {
          "output_type": "stream",
          "name": "stderr",
          "text": [
            "\n"
          ]
        },
        {
          "output_type": "stream",
          "name": "stdout",
          "text": [
            "2023-12-24 22:47:53,394 ----------------------------------------------------------------------------------------------------\n",
            "2023-12-24 22:47:54,075 epoch 18 - iter 19/199 - loss 0.38330391 - time (sec): 0.68 - samples/sec: 4350.96 - lr: 0.050000 - momentum: 0.000000\n",
            "2023-12-24 22:47:54,817 epoch 18 - iter 38/199 - loss 0.37691482 - time (sec): 1.42 - samples/sec: 4319.21 - lr: 0.050000 - momentum: 0.000000\n",
            "2023-12-24 22:47:55,470 epoch 18 - iter 57/199 - loss 0.37757674 - time (sec): 2.07 - samples/sec: 4434.51 - lr: 0.050000 - momentum: 0.000000\n",
            "2023-12-24 22:47:56,131 epoch 18 - iter 76/199 - loss 0.38181703 - time (sec): 2.73 - samples/sec: 4451.26 - lr: 0.050000 - momentum: 0.000000\n",
            "2023-12-24 22:47:56,884 epoch 18 - iter 95/199 - loss 0.37880420 - time (sec): 3.48 - samples/sec: 4365.15 - lr: 0.050000 - momentum: 0.000000\n",
            "2023-12-24 22:47:57,536 epoch 18 - iter 114/199 - loss 0.37993849 - time (sec): 4.14 - samples/sec: 4404.35 - lr: 0.050000 - momentum: 0.000000\n",
            "2023-12-24 22:47:58,132 epoch 18 - iter 133/199 - loss 0.38082108 - time (sec): 4.73 - samples/sec: 4479.55 - lr: 0.050000 - momentum: 0.000000\n",
            "2023-12-24 22:47:58,779 epoch 18 - iter 152/199 - loss 0.38217586 - time (sec): 5.38 - samples/sec: 4496.61 - lr: 0.050000 - momentum: 0.000000\n",
            "2023-12-24 22:47:59,420 epoch 18 - iter 171/199 - loss 0.38408509 - time (sec): 6.02 - samples/sec: 4509.57 - lr: 0.050000 - momentum: 0.000000\n",
            "2023-12-24 22:48:00,092 epoch 18 - iter 190/199 - loss 0.38394951 - time (sec): 6.69 - samples/sec: 4501.00 - lr: 0.050000 - momentum: 0.000000\n",
            "2023-12-24 22:48:00,417 ----------------------------------------------------------------------------------------------------\n",
            "2023-12-24 22:48:00,420 EPOCH 18 done: loss 0.3845 - lr: 0.050000\n"
          ]
        },
        {
          "output_type": "stream",
          "name": "stderr",
          "text": [
            "100%|██████████| 7/7 [00:00<00:00,  8.27it/s]"
          ]
        },
        {
          "output_type": "stream",
          "name": "stdout",
          "text": [
            "2023-12-24 22:48:01,318 DEV : loss 0.3732455372810364 - f1-score (micro avg)  0.8457\n",
            "2023-12-24 22:48:01,336  - 1 epochs without improvement\n",
            "2023-12-24 22:48:01,343 ----------------------------------------------------------------------------------------------------\n"
          ]
        },
        {
          "output_type": "stream",
          "name": "stderr",
          "text": [
            "\n"
          ]
        },
        {
          "output_type": "stream",
          "name": "stdout",
          "text": [
            "2023-12-24 22:48:01,958 epoch 19 - iter 19/199 - loss 0.38677588 - time (sec): 0.61 - samples/sec: 4892.69 - lr: 0.050000 - momentum: 0.000000\n",
            "2023-12-24 22:48:02,745 epoch 19 - iter 38/199 - loss 0.38147830 - time (sec): 1.40 - samples/sec: 4300.23 - lr: 0.050000 - momentum: 0.000000\n",
            "2023-12-24 22:48:03,703 epoch 19 - iter 57/199 - loss 0.38734117 - time (sec): 2.36 - samples/sec: 3816.03 - lr: 0.050000 - momentum: 0.000000\n",
            "2023-12-24 22:48:04,751 epoch 19 - iter 76/199 - loss 0.38550451 - time (sec): 3.40 - samples/sec: 3529.23 - lr: 0.050000 - momentum: 0.000000\n",
            "2023-12-24 22:48:05,982 epoch 19 - iter 95/199 - loss 0.38570907 - time (sec): 4.63 - samples/sec: 3236.98 - lr: 0.050000 - momentum: 0.000000\n",
            "2023-12-24 22:48:07,105 epoch 19 - iter 114/199 - loss 0.38597603 - time (sec): 5.76 - samples/sec: 3122.01 - lr: 0.050000 - momentum: 0.000000\n",
            "2023-12-24 22:48:08,475 epoch 19 - iter 133/199 - loss 0.38367298 - time (sec): 7.13 - samples/sec: 2959.25 - lr: 0.050000 - momentum: 0.000000\n",
            "2023-12-24 22:48:09,620 epoch 19 - iter 152/199 - loss 0.38147177 - time (sec): 8.27 - samples/sec: 2904.21 - lr: 0.050000 - momentum: 0.000000\n",
            "2023-12-24 22:48:10,820 epoch 19 - iter 171/199 - loss 0.37948078 - time (sec): 9.47 - samples/sec: 2875.67 - lr: 0.050000 - momentum: 0.000000\n",
            "2023-12-24 22:48:11,827 epoch 19 - iter 190/199 - loss 0.38019837 - time (sec): 10.48 - samples/sec: 2878.24 - lr: 0.050000 - momentum: 0.000000\n",
            "2023-12-24 22:48:12,322 ----------------------------------------------------------------------------------------------------\n",
            "2023-12-24 22:48:12,324 EPOCH 19 done: loss 0.3803 - lr: 0.050000\n"
          ]
        },
        {
          "output_type": "stream",
          "name": "stderr",
          "text": [
            "100%|██████████| 7/7 [00:01<00:00,  4.79it/s]"
          ]
        },
        {
          "output_type": "stream",
          "name": "stdout",
          "text": [
            "2023-12-24 22:48:13,877 DEV : loss 0.3811843693256378 - f1-score (micro avg)  0.8457\n",
            "2023-12-24 22:48:13,909  - 2 epochs without improvement\n",
            "2023-12-24 22:48:13,920 ----------------------------------------------------------------------------------------------------\n"
          ]
        },
        {
          "output_type": "stream",
          "name": "stderr",
          "text": [
            "\n"
          ]
        },
        {
          "output_type": "stream",
          "name": "stdout",
          "text": [
            "2023-12-24 22:48:15,149 epoch 20 - iter 19/199 - loss 0.37422736 - time (sec): 1.22 - samples/sec: 2530.56 - lr: 0.050000 - momentum: 0.000000\n",
            "2023-12-24 22:48:15,882 epoch 20 - iter 38/199 - loss 0.38896307 - time (sec): 1.96 - samples/sec: 3115.45 - lr: 0.050000 - momentum: 0.000000\n",
            "2023-12-24 22:48:16,604 epoch 20 - iter 57/199 - loss 0.38400705 - time (sec): 2.68 - samples/sec: 3427.46 - lr: 0.050000 - momentum: 0.000000\n",
            "2023-12-24 22:48:17,306 epoch 20 - iter 76/199 - loss 0.37811444 - time (sec): 3.38 - samples/sec: 3652.80 - lr: 0.050000 - momentum: 0.000000\n",
            "2023-12-24 22:48:17,948 epoch 20 - iter 95/199 - loss 0.38101274 - time (sec): 4.02 - samples/sec: 3790.52 - lr: 0.050000 - momentum: 0.000000\n",
            "2023-12-24 22:48:18,529 epoch 20 - iter 114/199 - loss 0.38510798 - time (sec): 4.60 - samples/sec: 3925.67 - lr: 0.050000 - momentum: 0.000000\n",
            "2023-12-24 22:48:19,216 epoch 20 - iter 133/199 - loss 0.38259432 - time (sec): 5.29 - samples/sec: 3986.09 - lr: 0.050000 - momentum: 0.000000\n",
            "2023-12-24 22:48:19,881 epoch 20 - iter 152/199 - loss 0.38416281 - time (sec): 5.95 - samples/sec: 4043.03 - lr: 0.050000 - momentum: 0.000000\n",
            "2023-12-24 22:48:20,520 epoch 20 - iter 171/199 - loss 0.38330079 - time (sec): 6.59 - samples/sec: 4108.06 - lr: 0.050000 - momentum: 0.000000\n",
            "2023-12-24 22:48:21,195 epoch 20 - iter 190/199 - loss 0.38290388 - time (sec): 7.27 - samples/sec: 4145.21 - lr: 0.050000 - momentum: 0.000000\n",
            "2023-12-24 22:48:21,471 ----------------------------------------------------------------------------------------------------\n",
            "2023-12-24 22:48:21,476 EPOCH 20 done: loss 0.3832 - lr: 0.050000\n"
          ]
        },
        {
          "output_type": "stream",
          "name": "stderr",
          "text": [
            "100%|██████████| 7/7 [00:00<00:00,  8.36it/s]\n"
          ]
        },
        {
          "output_type": "stream",
          "name": "stdout",
          "text": [
            "2023-12-24 22:48:22,371 DEV : loss 0.3552544116973877 - f1-score (micro avg)  0.8462\n",
            "2023-12-24 22:48:22,389  - 0 epochs without improvement\n",
            "2023-12-24 22:48:22,395 ----------------------------------------------------------------------------------------------------\n",
            "2023-12-24 22:48:22,990 epoch 21 - iter 19/199 - loss 0.39390574 - time (sec): 0.59 - samples/sec: 4959.04 - lr: 0.050000 - momentum: 0.000000\n",
            "2023-12-24 22:48:23,704 epoch 21 - iter 38/199 - loss 0.39027651 - time (sec): 1.30 - samples/sec: 4516.19 - lr: 0.050000 - momentum: 0.000000\n",
            "2023-12-24 22:48:24,780 epoch 21 - iter 57/199 - loss 0.38596275 - time (sec): 2.38 - samples/sec: 3764.63 - lr: 0.050000 - momentum: 0.000000\n",
            "2023-12-24 22:48:25,855 epoch 21 - iter 76/199 - loss 0.37953371 - time (sec): 3.45 - samples/sec: 3485.60 - lr: 0.050000 - momentum: 0.000000\n",
            "2023-12-24 22:48:26,799 epoch 21 - iter 95/199 - loss 0.38251451 - time (sec): 4.40 - samples/sec: 3401.83 - lr: 0.050000 - momentum: 0.000000\n",
            "2023-12-24 22:48:27,864 epoch 21 - iter 114/199 - loss 0.38378926 - time (sec): 5.46 - samples/sec: 3311.02 - lr: 0.050000 - momentum: 0.000000\n",
            "2023-12-24 22:48:28,919 epoch 21 - iter 133/199 - loss 0.38076570 - time (sec): 6.52 - samples/sec: 3258.75 - lr: 0.050000 - momentum: 0.000000\n",
            "2023-12-24 22:48:29,683 epoch 21 - iter 152/199 - loss 0.38139104 - time (sec): 7.28 - samples/sec: 3323.77 - lr: 0.050000 - momentum: 0.000000\n",
            "2023-12-24 22:48:30,314 epoch 21 - iter 171/199 - loss 0.38038217 - time (sec): 7.91 - samples/sec: 3431.43 - lr: 0.050000 - momentum: 0.000000\n",
            "2023-12-24 22:48:30,919 epoch 21 - iter 190/199 - loss 0.38123667 - time (sec): 8.52 - samples/sec: 3535.23 - lr: 0.050000 - momentum: 0.000000\n",
            "2023-12-24 22:48:31,234 ----------------------------------------------------------------------------------------------------\n",
            "2023-12-24 22:48:31,236 EPOCH 21 done: loss 0.3815 - lr: 0.050000\n"
          ]
        },
        {
          "output_type": "stream",
          "name": "stderr",
          "text": [
            "100%|██████████| 7/7 [00:00<00:00,  8.30it/s]"
          ]
        },
        {
          "output_type": "stream",
          "name": "stdout",
          "text": [
            "2023-12-24 22:48:32,134 DEV : loss 0.374605655670166 - f1-score (micro avg)  0.8457\n",
            "2023-12-24 22:48:32,157  - 1 epochs without improvement\n",
            "2023-12-24 22:48:32,164 ----------------------------------------------------------------------------------------------------\n"
          ]
        },
        {
          "output_type": "stream",
          "name": "stderr",
          "text": [
            "\n"
          ]
        },
        {
          "output_type": "stream",
          "name": "stdout",
          "text": [
            "2023-12-24 22:48:32,791 epoch 22 - iter 19/199 - loss 0.38582644 - time (sec): 0.62 - samples/sec: 4733.04 - lr: 0.050000 - momentum: 0.000000\n",
            "2023-12-24 22:48:33,435 epoch 22 - iter 38/199 - loss 0.38134120 - time (sec): 1.27 - samples/sec: 4657.10 - lr: 0.050000 - momentum: 0.000000\n",
            "2023-12-24 22:48:34,170 epoch 22 - iter 57/199 - loss 0.37829143 - time (sec): 2.00 - samples/sec: 4480.70 - lr: 0.050000 - momentum: 0.000000\n",
            "2023-12-24 22:48:34,955 epoch 22 - iter 76/199 - loss 0.37271665 - time (sec): 2.79 - samples/sec: 4331.16 - lr: 0.050000 - momentum: 0.000000\n",
            "2023-12-24 22:48:35,610 epoch 22 - iter 95/199 - loss 0.37251257 - time (sec): 3.44 - samples/sec: 4377.92 - lr: 0.050000 - momentum: 0.000000\n",
            "2023-12-24 22:48:36,263 epoch 22 - iter 114/199 - loss 0.37256353 - time (sec): 4.10 - samples/sec: 4400.98 - lr: 0.050000 - momentum: 0.000000\n",
            "2023-12-24 22:48:36,951 epoch 22 - iter 133/199 - loss 0.37514191 - time (sec): 4.78 - samples/sec: 4417.37 - lr: 0.050000 - momentum: 0.000000\n",
            "2023-12-24 22:48:37,619 epoch 22 - iter 152/199 - loss 0.37533416 - time (sec): 5.45 - samples/sec: 4423.74 - lr: 0.050000 - momentum: 0.000000\n",
            "2023-12-24 22:48:38,262 epoch 22 - iter 171/199 - loss 0.37663126 - time (sec): 6.09 - samples/sec: 4442.87 - lr: 0.050000 - momentum: 0.000000\n",
            "2023-12-24 22:48:38,939 epoch 22 - iter 190/199 - loss 0.37666912 - time (sec): 6.77 - samples/sec: 4454.01 - lr: 0.050000 - momentum: 0.000000\n",
            "2023-12-24 22:48:39,235 ----------------------------------------------------------------------------------------------------\n",
            "2023-12-24 22:48:39,238 EPOCH 22 done: loss 0.3780 - lr: 0.050000\n"
          ]
        },
        {
          "output_type": "stream",
          "name": "stderr",
          "text": [
            "100%|██████████| 7/7 [00:01<00:00,  5.60it/s]"
          ]
        },
        {
          "output_type": "stream",
          "name": "stdout",
          "text": [
            "2023-12-24 22:48:40,576 DEV : loss 0.3696465790271759 - f1-score (micro avg)  0.8462\n",
            "2023-12-24 22:48:40,609  - 2 epochs without improvement\n",
            "2023-12-24 22:48:40,619 ----------------------------------------------------------------------------------------------------\n"
          ]
        },
        {
          "output_type": "stream",
          "name": "stderr",
          "text": [
            "\n"
          ]
        },
        {
          "output_type": "stream",
          "name": "stdout",
          "text": [
            "2023-12-24 22:48:41,608 epoch 23 - iter 19/199 - loss 0.38482295 - time (sec): 0.98 - samples/sec: 3122.43 - lr: 0.050000 - momentum: 0.000000\n",
            "2023-12-24 22:48:42,551 epoch 23 - iter 38/199 - loss 0.37627846 - time (sec): 1.93 - samples/sec: 3151.89 - lr: 0.050000 - momentum: 0.000000\n",
            "2023-12-24 22:48:43,534 epoch 23 - iter 57/199 - loss 0.37942371 - time (sec): 2.91 - samples/sec: 3099.56 - lr: 0.050000 - momentum: 0.000000\n",
            "2023-12-24 22:48:44,447 epoch 23 - iter 76/199 - loss 0.38289816 - time (sec): 3.82 - samples/sec: 3116.46 - lr: 0.050000 - momentum: 0.000000\n",
            "2023-12-24 22:48:45,182 epoch 23 - iter 95/199 - loss 0.38339645 - time (sec): 4.56 - samples/sec: 3251.69 - lr: 0.050000 - momentum: 0.000000\n",
            "2023-12-24 22:48:45,803 epoch 23 - iter 114/199 - loss 0.38289231 - time (sec): 5.18 - samples/sec: 3437.71 - lr: 0.050000 - momentum: 0.000000\n",
            "2023-12-24 22:48:46,541 epoch 23 - iter 133/199 - loss 0.37948221 - time (sec): 5.92 - samples/sec: 3526.04 - lr: 0.050000 - momentum: 0.000000\n",
            "2023-12-24 22:48:47,181 epoch 23 - iter 152/199 - loss 0.37844298 - time (sec): 6.56 - samples/sec: 3635.47 - lr: 0.050000 - momentum: 0.000000\n",
            "2023-12-24 22:48:47,923 epoch 23 - iter 171/199 - loss 0.37691199 - time (sec): 7.30 - samples/sec: 3695.27 - lr: 0.050000 - momentum: 0.000000\n",
            "2023-12-24 22:48:48,753 epoch 23 - iter 190/199 - loss 0.37700036 - time (sec): 8.13 - samples/sec: 3705.87 - lr: 0.050000 - momentum: 0.000000\n",
            "2023-12-24 22:48:49,094 ----------------------------------------------------------------------------------------------------\n",
            "2023-12-24 22:48:49,096 EPOCH 23 done: loss 0.3773 - lr: 0.050000\n"
          ]
        },
        {
          "output_type": "stream",
          "name": "stderr",
          "text": [
            "100%|██████████| 7/7 [00:00<00:00,  8.37it/s]\n"
          ]
        },
        {
          "output_type": "stream",
          "name": "stdout",
          "text": [
            "2023-12-24 22:48:49,987 DEV : loss 0.378074049949646 - f1-score (micro avg)  0.8462\n",
            "2023-12-24 22:48:50,006  - 3 epochs without improvement\n",
            "2023-12-24 22:48:50,012 ----------------------------------------------------------------------------------------------------\n",
            "2023-12-24 22:48:50,788 epoch 24 - iter 19/199 - loss 0.35907835 - time (sec): 0.77 - samples/sec: 3918.07 - lr: 0.050000 - momentum: 0.000000\n",
            "2023-12-24 22:48:51,413 epoch 24 - iter 38/199 - loss 0.37154388 - time (sec): 1.40 - samples/sec: 4270.09 - lr: 0.050000 - momentum: 0.000000\n",
            "2023-12-24 22:48:52,044 epoch 24 - iter 57/199 - loss 0.37050437 - time (sec): 2.03 - samples/sec: 4391.20 - lr: 0.050000 - momentum: 0.000000\n",
            "2023-12-24 22:48:52,752 epoch 24 - iter 76/199 - loss 0.37180516 - time (sec): 2.74 - samples/sec: 4379.81 - lr: 0.050000 - momentum: 0.000000\n",
            "2023-12-24 22:48:53,335 epoch 24 - iter 95/199 - loss 0.37550679 - time (sec): 3.32 - samples/sec: 4490.10 - lr: 0.050000 - momentum: 0.000000\n",
            "2023-12-24 22:48:53,993 epoch 24 - iter 114/199 - loss 0.37267483 - time (sec): 3.98 - samples/sec: 4518.80 - lr: 0.050000 - momentum: 0.000000\n",
            "2023-12-24 22:48:54,738 epoch 24 - iter 133/199 - loss 0.37162038 - time (sec): 4.72 - samples/sec: 4468.31 - lr: 0.050000 - momentum: 0.000000\n",
            "2023-12-24 22:48:55,685 epoch 24 - iter 152/199 - loss 0.37448438 - time (sec): 5.67 - samples/sec: 4248.55 - lr: 0.050000 - momentum: 0.000000\n",
            "2023-12-24 22:48:56,673 epoch 24 - iter 171/199 - loss 0.37493476 - time (sec): 6.66 - samples/sec: 4068.28 - lr: 0.050000 - momentum: 0.000000\n",
            "2023-12-24 22:48:57,659 epoch 24 - iter 190/199 - loss 0.37547187 - time (sec): 7.64 - samples/sec: 3938.01 - lr: 0.050000 - momentum: 0.000000\n",
            "2023-12-24 22:48:58,158 ----------------------------------------------------------------------------------------------------\n",
            "2023-12-24 22:48:58,165 EPOCH 24 done: loss 0.3752 - lr: 0.050000\n"
          ]
        },
        {
          "output_type": "stream",
          "name": "stderr",
          "text": [
            "100%|██████████| 7/7 [00:01<00:00,  3.74it/s]"
          ]
        },
        {
          "output_type": "stream",
          "name": "stdout",
          "text": [
            "2023-12-24 22:49:00,123 DEV : loss 0.36019155383110046 - f1-score (micro avg)  0.8467\n",
            "2023-12-24 22:49:00,155  - 0 epochs without improvement\n",
            "2023-12-24 22:49:00,164 saving best model\n"
          ]
        },
        {
          "output_type": "stream",
          "name": "stderr",
          "text": [
            "\n"
          ]
        },
        {
          "output_type": "stream",
          "name": "stdout",
          "text": [
            "2023-12-24 22:49:04,537 ----------------------------------------------------------------------------------------------------\n",
            "2023-12-24 22:49:05,187 epoch 25 - iter 19/199 - loss 0.38751180 - time (sec): 0.64 - samples/sec: 4480.34 - lr: 0.050000 - momentum: 0.000000\n",
            "2023-12-24 22:49:05,843 epoch 25 - iter 38/199 - loss 0.37926363 - time (sec): 1.30 - samples/sec: 4510.35 - lr: 0.050000 - momentum: 0.000000\n",
            "2023-12-24 22:49:06,488 epoch 25 - iter 57/199 - loss 0.38455624 - time (sec): 1.94 - samples/sec: 4527.17 - lr: 0.050000 - momentum: 0.000000\n",
            "2023-12-24 22:49:07,148 epoch 25 - iter 76/199 - loss 0.38248835 - time (sec): 2.60 - samples/sec: 4543.00 - lr: 0.050000 - momentum: 0.000000\n",
            "2023-12-24 22:49:07,756 epoch 25 - iter 95/199 - loss 0.38472960 - time (sec): 3.21 - samples/sec: 4598.49 - lr: 0.050000 - momentum: 0.000000\n",
            "2023-12-24 22:49:08,455 epoch 25 - iter 114/199 - loss 0.38358105 - time (sec): 3.91 - samples/sec: 4537.03 - lr: 0.050000 - momentum: 0.000000\n",
            "2023-12-24 22:49:09,330 epoch 25 - iter 133/199 - loss 0.37558348 - time (sec): 4.79 - samples/sec: 4411.33 - lr: 0.050000 - momentum: 0.000000\n",
            "2023-12-24 22:49:09,998 epoch 25 - iter 152/199 - loss 0.37664132 - time (sec): 5.45 - samples/sec: 4417.03 - lr: 0.050000 - momentum: 0.000000\n",
            "2023-12-24 22:49:10,862 epoch 25 - iter 171/199 - loss 0.37481257 - time (sec): 6.32 - samples/sec: 4292.32 - lr: 0.050000 - momentum: 0.000000\n",
            "2023-12-24 22:49:11,775 epoch 25 - iter 190/199 - loss 0.37614735 - time (sec): 7.23 - samples/sec: 4162.42 - lr: 0.050000 - momentum: 0.000000\n",
            "2023-12-24 22:49:12,279 ----------------------------------------------------------------------------------------------------\n",
            "2023-12-24 22:49:12,289 EPOCH 25 done: loss 0.3744 - lr: 0.050000\n"
          ]
        },
        {
          "output_type": "stream",
          "name": "stderr",
          "text": [
            "100%|██████████| 7/7 [00:01<00:00,  5.17it/s]"
          ]
        },
        {
          "output_type": "stream",
          "name": "stdout",
          "text": [
            "2023-12-24 22:49:13,725 DEV : loss 0.35802537202835083 - f1-score (micro avg)  0.8525\n",
            "2023-12-24 22:49:13,756  - 0 epochs without improvement\n",
            "2023-12-24 22:49:13,767 saving best model\n"
          ]
        },
        {
          "output_type": "stream",
          "name": "stderr",
          "text": [
            "\n"
          ]
        },
        {
          "output_type": "stream",
          "name": "stdout",
          "text": [
            "2023-12-24 22:49:18,652 ----------------------------------------------------------------------------------------------------\n",
            "2023-12-24 22:49:19,467 epoch 26 - iter 19/199 - loss 0.38039959 - time (sec): 0.81 - samples/sec: 3812.30 - lr: 0.050000 - momentum: 0.000000\n",
            "2023-12-24 22:49:20,307 epoch 26 - iter 38/199 - loss 0.36487810 - time (sec): 1.65 - samples/sec: 3794.60 - lr: 0.050000 - momentum: 0.000000\n",
            "2023-12-24 22:49:20,918 epoch 26 - iter 57/199 - loss 0.37189645 - time (sec): 2.26 - samples/sec: 4066.12 - lr: 0.050000 - momentum: 0.000000\n",
            "2023-12-24 22:49:21,644 epoch 26 - iter 76/199 - loss 0.36278944 - time (sec): 2.99 - samples/sec: 4130.95 - lr: 0.050000 - momentum: 0.000000\n",
            "2023-12-24 22:49:22,272 epoch 26 - iter 95/199 - loss 0.36690365 - time (sec): 3.61 - samples/sec: 4246.97 - lr: 0.050000 - momentum: 0.000000\n",
            "2023-12-24 22:49:22,929 epoch 26 - iter 114/199 - loss 0.37224592 - time (sec): 4.27 - samples/sec: 4288.07 - lr: 0.050000 - momentum: 0.000000\n",
            "2023-12-24 22:49:23,653 epoch 26 - iter 133/199 - loss 0.37433300 - time (sec): 5.00 - samples/sec: 4272.76 - lr: 0.050000 - momentum: 0.000000\n",
            "2023-12-24 22:49:24,266 epoch 26 - iter 152/199 - loss 0.37552613 - time (sec): 5.61 - samples/sec: 4318.65 - lr: 0.050000 - momentum: 0.000000\n",
            "2023-12-24 22:49:24,807 epoch 26 - iter 171/199 - loss 0.37678399 - time (sec): 6.15 - samples/sec: 4403.83 - lr: 0.050000 - momentum: 0.000000\n",
            "2023-12-24 22:49:25,506 epoch 26 - iter 190/199 - loss 0.37647391 - time (sec): 6.85 - samples/sec: 4400.40 - lr: 0.050000 - momentum: 0.000000\n",
            "2023-12-24 22:49:25,804 ----------------------------------------------------------------------------------------------------\n",
            "2023-12-24 22:49:25,807 EPOCH 26 done: loss 0.3769 - lr: 0.050000\n"
          ]
        },
        {
          "output_type": "stream",
          "name": "stderr",
          "text": [
            "100%|██████████| 7/7 [00:01<00:00,  5.66it/s]"
          ]
        },
        {
          "output_type": "stream",
          "name": "stdout",
          "text": [
            "2023-12-24 22:49:27,130 DEV : loss 0.35464170575141907 - f1-score (micro avg)  0.8484\n",
            "2023-12-24 22:49:27,167  - 1 epochs without improvement\n",
            "2023-12-24 22:49:27,177 ----------------------------------------------------------------------------------------------------\n"
          ]
        },
        {
          "output_type": "stream",
          "name": "stderr",
          "text": [
            "\n"
          ]
        },
        {
          "output_type": "stream",
          "name": "stdout",
          "text": [
            "2023-12-24 22:49:28,274 epoch 27 - iter 19/199 - loss 0.37182662 - time (sec): 1.09 - samples/sec: 2857.18 - lr: 0.050000 - momentum: 0.000000\n",
            "2023-12-24 22:49:29,334 epoch 27 - iter 38/199 - loss 0.37110735 - time (sec): 2.15 - samples/sec: 2820.01 - lr: 0.050000 - momentum: 0.000000\n",
            "2023-12-24 22:49:30,360 epoch 27 - iter 57/199 - loss 0.37401836 - time (sec): 3.18 - samples/sec: 2840.31 - lr: 0.050000 - momentum: 0.000000\n",
            "2023-12-24 22:49:31,394 epoch 27 - iter 76/199 - loss 0.37381328 - time (sec): 4.21 - samples/sec: 2871.24 - lr: 0.050000 - momentum: 0.000000\n",
            "2023-12-24 22:49:32,126 epoch 27 - iter 95/199 - loss 0.37359856 - time (sec): 4.94 - samples/sec: 3061.48 - lr: 0.050000 - momentum: 0.000000\n",
            "2023-12-24 22:49:32,831 epoch 27 - iter 114/199 - loss 0.37317941 - time (sec): 5.65 - samples/sec: 3221.42 - lr: 0.050000 - momentum: 0.000000\n",
            "2023-12-24 22:49:33,423 epoch 27 - iter 133/199 - loss 0.37461464 - time (sec): 6.24 - samples/sec: 3396.33 - lr: 0.050000 - momentum: 0.000000\n",
            "2023-12-24 22:49:34,031 epoch 27 - iter 152/199 - loss 0.37704007 - time (sec): 6.85 - samples/sec: 3518.72 - lr: 0.050000 - momentum: 0.000000\n",
            "2023-12-24 22:49:34,669 epoch 27 - iter 171/199 - loss 0.37722714 - time (sec): 7.49 - samples/sec: 3614.27 - lr: 0.050000 - momentum: 0.000000\n",
            "2023-12-24 22:49:35,288 epoch 27 - iter 190/199 - loss 0.37614377 - time (sec): 8.11 - samples/sec: 3710.54 - lr: 0.050000 - momentum: 0.000000\n",
            "2023-12-24 22:49:35,618 ----------------------------------------------------------------------------------------------------\n",
            "2023-12-24 22:49:35,620 EPOCH 27 done: loss 0.3764 - lr: 0.050000\n"
          ]
        },
        {
          "output_type": "stream",
          "name": "stderr",
          "text": [
            "100%|██████████| 7/7 [00:00<00:00,  8.32it/s]"
          ]
        },
        {
          "output_type": "stream",
          "name": "stdout",
          "text": [
            "2023-12-24 22:49:36,520 DEV : loss 0.3680117130279541 - f1-score (micro avg)  0.8527\n",
            "2023-12-24 22:49:36,543  - 0 epochs without improvement\n",
            "2023-12-24 22:49:36,550 saving best model\n"
          ]
        },
        {
          "output_type": "stream",
          "name": "stderr",
          "text": [
            "\n"
          ]
        },
        {
          "output_type": "stream",
          "name": "stdout",
          "text": [
            "2023-12-24 22:49:45,399 ----------------------------------------------------------------------------------------------------\n",
            "2023-12-24 22:49:46,491 epoch 28 - iter 19/199 - loss 0.37228324 - time (sec): 1.09 - samples/sec: 2832.63 - lr: 0.050000 - momentum: 0.000000\n",
            "2023-12-24 22:49:47,206 epoch 28 - iter 38/199 - loss 0.37021212 - time (sec): 1.80 - samples/sec: 3439.70 - lr: 0.050000 - momentum: 0.000000\n",
            "2023-12-24 22:49:47,809 epoch 28 - iter 57/199 - loss 0.37116487 - time (sec): 2.40 - samples/sec: 3800.26 - lr: 0.050000 - momentum: 0.000000\n",
            "2023-12-24 22:49:48,627 epoch 28 - iter 76/199 - loss 0.37568832 - time (sec): 3.22 - samples/sec: 3801.41 - lr: 0.050000 - momentum: 0.000000\n",
            "2023-12-24 22:49:49,197 epoch 28 - iter 95/199 - loss 0.38010724 - time (sec): 3.79 - samples/sec: 3970.41 - lr: 0.050000 - momentum: 0.000000\n",
            "2023-12-24 22:49:49,827 epoch 28 - iter 114/199 - loss 0.37957893 - time (sec): 4.42 - samples/sec: 4080.93 - lr: 0.050000 - momentum: 0.000000\n",
            "2023-12-24 22:49:50,479 epoch 28 - iter 133/199 - loss 0.37765686 - time (sec): 5.07 - samples/sec: 4148.75 - lr: 0.050000 - momentum: 0.000000\n",
            "2023-12-24 22:49:51,109 epoch 28 - iter 152/199 - loss 0.37605034 - time (sec): 5.70 - samples/sec: 4212.93 - lr: 0.050000 - momentum: 0.000000\n",
            "2023-12-24 22:49:51,802 epoch 28 - iter 171/199 - loss 0.37659182 - time (sec): 6.40 - samples/sec: 4240.92 - lr: 0.050000 - momentum: 0.000000\n",
            "2023-12-24 22:49:52,519 epoch 28 - iter 190/199 - loss 0.37573616 - time (sec): 7.11 - samples/sec: 4238.98 - lr: 0.050000 - momentum: 0.000000\n",
            "2023-12-24 22:49:52,811 ----------------------------------------------------------------------------------------------------\n",
            "2023-12-24 22:49:52,813 EPOCH 28 done: loss 0.3753 - lr: 0.050000\n"
          ]
        },
        {
          "output_type": "stream",
          "name": "stderr",
          "text": [
            "100%|██████████| 7/7 [00:01<00:00,  5.61it/s]"
          ]
        },
        {
          "output_type": "stream",
          "name": "stdout",
          "text": [
            "2023-12-24 22:49:54,137 DEV : loss 0.36093273758888245 - f1-score (micro avg)  0.8487\n",
            "2023-12-24 22:49:54,158  - 1 epochs without improvement\n",
            "2023-12-24 22:49:54,163 ----------------------------------------------------------------------------------------------------\n"
          ]
        },
        {
          "output_type": "stream",
          "name": "stderr",
          "text": [
            "\n"
          ]
        },
        {
          "output_type": "stream",
          "name": "stdout",
          "text": [
            "2023-12-24 22:49:55,057 epoch 29 - iter 19/199 - loss 0.37134088 - time (sec): 0.88 - samples/sec: 3336.00 - lr: 0.050000 - momentum: 0.000000\n",
            "2023-12-24 22:49:55,846 epoch 29 - iter 38/199 - loss 0.37428261 - time (sec): 1.67 - samples/sec: 3521.71 - lr: 0.050000 - momentum: 0.000000\n",
            "2023-12-24 22:49:56,990 epoch 29 - iter 57/199 - loss 0.37903134 - time (sec): 2.82 - samples/sec: 3122.33 - lr: 0.050000 - momentum: 0.000000\n",
            "2023-12-24 22:49:58,674 epoch 29 - iter 76/199 - loss 0.37921987 - time (sec): 4.50 - samples/sec: 2634.81 - lr: 0.050000 - momentum: 0.000000\n",
            "2023-12-24 22:50:00,529 epoch 29 - iter 95/199 - loss 0.37530183 - time (sec): 6.36 - samples/sec: 2378.23 - lr: 0.050000 - momentum: 0.000000\n",
            "2023-12-24 22:50:01,890 epoch 29 - iter 114/199 - loss 0.37826969 - time (sec): 7.72 - samples/sec: 2338.13 - lr: 0.050000 - momentum: 0.000000\n",
            "2023-12-24 22:50:03,511 epoch 29 - iter 133/199 - loss 0.37389236 - time (sec): 9.34 - samples/sec: 2258.81 - lr: 0.050000 - momentum: 0.000000\n",
            "2023-12-24 22:50:04,194 epoch 29 - iter 152/199 - loss 0.37366431 - time (sec): 10.02 - samples/sec: 2407.55 - lr: 0.050000 - momentum: 0.000000\n",
            "2023-12-24 22:50:04,886 epoch 29 - iter 171/199 - loss 0.37500973 - time (sec): 10.71 - samples/sec: 2534.56 - lr: 0.050000 - momentum: 0.000000\n",
            "2023-12-24 22:50:05,458 epoch 29 - iter 190/199 - loss 0.37520915 - time (sec): 11.29 - samples/sec: 2664.85 - lr: 0.050000 - momentum: 0.000000\n",
            "2023-12-24 22:50:05,782 ----------------------------------------------------------------------------------------------------\n",
            "2023-12-24 22:50:05,785 EPOCH 29 done: loss 0.3748 - lr: 0.050000\n"
          ]
        },
        {
          "output_type": "stream",
          "name": "stderr",
          "text": [
            "100%|██████████| 7/7 [00:00<00:00,  8.26it/s]"
          ]
        },
        {
          "output_type": "stream",
          "name": "stdout",
          "text": [
            "2023-12-24 22:50:06,687 DEV : loss 0.3573000133037567 - f1-score (micro avg)  0.8547\n",
            "2023-12-24 22:50:06,708  - 0 epochs without improvement\n",
            "2023-12-24 22:50:06,714 saving best model\n"
          ]
        },
        {
          "output_type": "stream",
          "name": "stderr",
          "text": [
            "\n"
          ]
        },
        {
          "output_type": "stream",
          "name": "stdout",
          "text": [
            "2023-12-24 22:50:15,086 ----------------------------------------------------------------------------------------------------\n",
            "2023-12-24 22:50:16,122 epoch 30 - iter 19/199 - loss 0.37593524 - time (sec): 1.03 - samples/sec: 2928.04 - lr: 0.050000 - momentum: 0.000000\n",
            "2023-12-24 22:50:17,343 epoch 30 - iter 38/199 - loss 0.37140729 - time (sec): 2.25 - samples/sec: 2710.55 - lr: 0.050000 - momentum: 0.000000\n",
            "2023-12-24 22:50:18,272 epoch 30 - iter 57/199 - loss 0.37535794 - time (sec): 3.18 - samples/sec: 2823.57 - lr: 0.050000 - momentum: 0.000000\n",
            "2023-12-24 22:50:19,092 epoch 30 - iter 76/199 - loss 0.37857122 - time (sec): 4.00 - samples/sec: 2988.44 - lr: 0.050000 - momentum: 0.000000\n",
            "2023-12-24 22:50:19,813 epoch 30 - iter 95/199 - loss 0.37318433 - time (sec): 4.72 - samples/sec: 3193.23 - lr: 0.050000 - momentum: 0.000000\n",
            "2023-12-24 22:50:20,453 epoch 30 - iter 114/199 - loss 0.37166108 - time (sec): 5.36 - samples/sec: 3371.34 - lr: 0.050000 - momentum: 0.000000\n",
            "2023-12-24 22:50:21,067 epoch 30 - iter 133/199 - loss 0.37332311 - time (sec): 5.98 - samples/sec: 3514.72 - lr: 0.050000 - momentum: 0.000000\n",
            "2023-12-24 22:50:21,770 epoch 30 - iter 152/199 - loss 0.36994326 - time (sec): 6.68 - samples/sec: 3618.44 - lr: 0.050000 - momentum: 0.000000\n",
            "2023-12-24 22:50:22,376 epoch 30 - iter 171/199 - loss 0.37048736 - time (sec): 7.28 - samples/sec: 3726.22 - lr: 0.050000 - momentum: 0.000000\n",
            "2023-12-24 22:50:23,022 epoch 30 - iter 190/199 - loss 0.37108317 - time (sec): 7.93 - samples/sec: 3801.60 - lr: 0.050000 - momentum: 0.000000\n",
            "2023-12-24 22:50:23,351 ----------------------------------------------------------------------------------------------------\n",
            "2023-12-24 22:50:23,353 EPOCH 30 done: loss 0.3700 - lr: 0.050000\n"
          ]
        },
        {
          "output_type": "stream",
          "name": "stderr",
          "text": [
            "100%|██████████| 7/7 [00:00<00:00,  8.30it/s]\n"
          ]
        },
        {
          "output_type": "stream",
          "name": "stdout",
          "text": [
            "2023-12-24 22:50:24,254 DEV : loss 0.3517621159553528 - f1-score (micro avg)  0.853\n",
            "2023-12-24 22:50:24,276  - 1 epochs without improvement\n",
            "2023-12-24 22:50:24,286 ----------------------------------------------------------------------------------------------------\n",
            "2023-12-24 22:50:24,904 epoch 31 - iter 19/199 - loss 0.37928543 - time (sec): 0.61 - samples/sec: 4896.43 - lr: 0.050000 - momentum: 0.000000\n",
            "2023-12-24 22:50:25,615 epoch 31 - iter 38/199 - loss 0.37838454 - time (sec): 1.32 - samples/sec: 4586.87 - lr: 0.050000 - momentum: 0.000000\n",
            "2023-12-24 22:50:26,262 epoch 31 - iter 57/199 - loss 0.37416625 - time (sec): 1.97 - samples/sec: 4581.80 - lr: 0.050000 - momentum: 0.000000\n",
            "2023-12-24 22:50:26,937 epoch 31 - iter 76/199 - loss 0.37324306 - time (sec): 2.65 - samples/sec: 4567.87 - lr: 0.050000 - momentum: 0.000000\n",
            "2023-12-24 22:50:27,564 epoch 31 - iter 95/199 - loss 0.37355729 - time (sec): 3.27 - samples/sec: 4585.23 - lr: 0.050000 - momentum: 0.000000\n",
            "2023-12-24 22:50:28,236 epoch 31 - iter 114/199 - loss 0.37554066 - time (sec): 3.95 - samples/sec: 4568.81 - lr: 0.050000 - momentum: 0.000000\n",
            "2023-12-24 22:50:29,152 epoch 31 - iter 133/199 - loss 0.37492887 - time (sec): 4.86 - samples/sec: 4352.42 - lr: 0.050000 - momentum: 0.000000\n",
            "2023-12-24 22:50:30,062 epoch 31 - iter 152/199 - loss 0.37440090 - time (sec): 5.77 - samples/sec: 4180.55 - lr: 0.050000 - momentum: 0.000000\n",
            "2023-12-24 22:50:30,958 epoch 31 - iter 171/199 - loss 0.37457837 - time (sec): 6.67 - samples/sec: 4050.66 - lr: 0.050000 - momentum: 0.000000\n",
            "2023-12-24 22:50:32,001 epoch 31 - iter 190/199 - loss 0.37276280 - time (sec): 7.71 - samples/sec: 3902.10 - lr: 0.050000 - momentum: 0.000000\n",
            "2023-12-24 22:50:32,494 ----------------------------------------------------------------------------------------------------\n",
            "2023-12-24 22:50:32,503 EPOCH 31 done: loss 0.3718 - lr: 0.050000\n"
          ]
        },
        {
          "output_type": "stream",
          "name": "stderr",
          "text": [
            "100%|██████████| 7/7 [00:01<00:00,  5.20it/s]"
          ]
        },
        {
          "output_type": "stream",
          "name": "stdout",
          "text": [
            "2023-12-24 22:50:33,936 DEV : loss 0.36682334542274475 - f1-score (micro avg)  0.8494\n",
            "2023-12-24 22:50:33,968  - 2 epochs without improvement\n",
            "2023-12-24 22:50:33,979 ----------------------------------------------------------------------------------------------------\n"
          ]
        },
        {
          "output_type": "stream",
          "name": "stderr",
          "text": [
            "\n"
          ]
        },
        {
          "output_type": "stream",
          "name": "stdout",
          "text": [
            "2023-12-24 22:50:34,686 epoch 32 - iter 19/199 - loss 0.37296534 - time (sec): 0.70 - samples/sec: 4242.06 - lr: 0.050000 - momentum: 0.000000\n",
            "2023-12-24 22:50:35,355 epoch 32 - iter 38/199 - loss 0.36717225 - time (sec): 1.37 - samples/sec: 4315.76 - lr: 0.050000 - momentum: 0.000000\n",
            "2023-12-24 22:50:36,108 epoch 32 - iter 57/199 - loss 0.37015496 - time (sec): 2.13 - samples/sec: 4268.23 - lr: 0.050000 - momentum: 0.000000\n",
            "2023-12-24 22:50:36,782 epoch 32 - iter 76/199 - loss 0.37135000 - time (sec): 2.80 - samples/sec: 4304.59 - lr: 0.050000 - momentum: 0.000000\n",
            "2023-12-24 22:50:37,429 epoch 32 - iter 95/199 - loss 0.36985803 - time (sec): 3.45 - samples/sec: 4369.62 - lr: 0.050000 - momentum: 0.000000\n",
            "2023-12-24 22:50:38,035 epoch 32 - iter 114/199 - loss 0.37371403 - time (sec): 4.05 - samples/sec: 4458.99 - lr: 0.050000 - momentum: 0.000000\n",
            "2023-12-24 22:50:38,657 epoch 32 - iter 133/199 - loss 0.37407925 - time (sec): 4.67 - samples/sec: 4501.35 - lr: 0.050000 - momentum: 0.000000\n",
            "2023-12-24 22:50:39,367 epoch 32 - iter 152/199 - loss 0.37449736 - time (sec): 5.38 - samples/sec: 4472.97 - lr: 0.050000 - momentum: 0.000000\n",
            "2023-12-24 22:50:40,097 epoch 32 - iter 171/199 - loss 0.37351945 - time (sec): 6.11 - samples/sec: 4432.40 - lr: 0.050000 - momentum: 0.000000\n",
            "2023-12-24 22:50:40,772 epoch 32 - iter 190/199 - loss 0.37127100 - time (sec): 6.79 - samples/sec: 4441.45 - lr: 0.050000 - momentum: 0.000000\n",
            "2023-12-24 22:50:41,127 ----------------------------------------------------------------------------------------------------\n",
            "2023-12-24 22:50:41,129 EPOCH 32 done: loss 0.3724 - lr: 0.050000\n"
          ]
        },
        {
          "output_type": "stream",
          "name": "stderr",
          "text": [
            "100%|██████████| 7/7 [00:00<00:00,  7.97it/s]"
          ]
        },
        {
          "output_type": "stream",
          "name": "stdout",
          "text": [
            "2023-12-24 22:50:42,062 DEV : loss 0.35837817192077637 - f1-score (micro avg)  0.856\n",
            "2023-12-24 22:50:42,080  - 0 epochs without improvement\n",
            "2023-12-24 22:50:42,087 saving best model\n"
          ]
        },
        {
          "output_type": "stream",
          "name": "stderr",
          "text": [
            "\n"
          ]
        },
        {
          "output_type": "stream",
          "name": "stdout",
          "text": [
            "2023-12-24 22:50:46,463 ----------------------------------------------------------------------------------------------------\n",
            "2023-12-24 22:50:47,428 epoch 33 - iter 19/199 - loss 0.38829930 - time (sec): 0.96 - samples/sec: 3031.77 - lr: 0.050000 - momentum: 0.000000\n",
            "2023-12-24 22:50:48,560 epoch 33 - iter 38/199 - loss 0.37333363 - time (sec): 2.09 - samples/sec: 2876.95 - lr: 0.050000 - momentum: 0.000000\n",
            "2023-12-24 22:50:49,535 epoch 33 - iter 57/199 - loss 0.36968988 - time (sec): 3.07 - samples/sec: 3006.82 - lr: 0.050000 - momentum: 0.000000\n",
            "2023-12-24 22:50:50,259 epoch 33 - iter 76/199 - loss 0.37327272 - time (sec): 3.79 - samples/sec: 3196.46 - lr: 0.050000 - momentum: 0.000000\n",
            "2023-12-24 22:50:50,949 epoch 33 - iter 95/199 - loss 0.37234385 - time (sec): 4.48 - samples/sec: 3388.67 - lr: 0.050000 - momentum: 0.000000\n",
            "2023-12-24 22:50:51,668 epoch 33 - iter 114/199 - loss 0.36865525 - time (sec): 5.20 - samples/sec: 3519.63 - lr: 0.050000 - momentum: 0.000000\n",
            "2023-12-24 22:50:52,353 epoch 33 - iter 133/199 - loss 0.36955370 - time (sec): 5.89 - samples/sec: 3621.38 - lr: 0.050000 - momentum: 0.000000\n",
            "2023-12-24 22:50:52,974 epoch 33 - iter 152/199 - loss 0.36961520 - time (sec): 6.51 - samples/sec: 3726.10 - lr: 0.050000 - momentum: 0.000000\n",
            "2023-12-24 22:50:53,638 epoch 33 - iter 171/199 - loss 0.37165363 - time (sec): 7.17 - samples/sec: 3796.89 - lr: 0.050000 - momentum: 0.000000\n",
            "2023-12-24 22:50:54,408 epoch 33 - iter 190/199 - loss 0.37266180 - time (sec): 7.94 - samples/sec: 3799.72 - lr: 0.050000 - momentum: 0.000000\n",
            "2023-12-24 22:50:54,726 ----------------------------------------------------------------------------------------------------\n",
            "2023-12-24 22:50:54,728 EPOCH 33 done: loss 0.3723 - lr: 0.050000\n"
          ]
        },
        {
          "output_type": "stream",
          "name": "stderr",
          "text": [
            "100%|██████████| 7/7 [00:00<00:00,  8.35it/s]"
          ]
        },
        {
          "output_type": "stream",
          "name": "stdout",
          "text": [
            "2023-12-24 22:50:55,626 DEV : loss 0.37234795093536377 - f1-score (micro avg)  0.8484\n",
            "2023-12-24 22:50:55,646  - 1 epochs without improvement\n",
            "2023-12-24 22:50:55,650 ----------------------------------------------------------------------------------------------------\n"
          ]
        },
        {
          "output_type": "stream",
          "name": "stderr",
          "text": [
            "\n"
          ]
        },
        {
          "output_type": "stream",
          "name": "stdout",
          "text": [
            "2023-12-24 22:50:56,316 epoch 34 - iter 19/199 - loss 0.34769614 - time (sec): 0.66 - samples/sec: 4585.84 - lr: 0.050000 - momentum: 0.000000\n",
            "2023-12-24 22:50:56,986 epoch 34 - iter 38/199 - loss 0.36322240 - time (sec): 1.33 - samples/sec: 4608.48 - lr: 0.050000 - momentum: 0.000000\n",
            "2023-12-24 22:50:57,693 epoch 34 - iter 57/199 - loss 0.37138202 - time (sec): 2.04 - samples/sec: 4449.75 - lr: 0.050000 - momentum: 0.000000\n",
            "2023-12-24 22:50:58,562 epoch 34 - iter 76/199 - loss 0.37039398 - time (sec): 2.91 - samples/sec: 4207.56 - lr: 0.050000 - momentum: 0.000000\n",
            "2023-12-24 22:50:59,590 epoch 34 - iter 95/199 - loss 0.37221028 - time (sec): 3.93 - samples/sec: 3836.55 - lr: 0.050000 - momentum: 0.000000\n",
            "2023-12-24 22:51:03,611 epoch 34 - iter 114/199 - loss 0.36799445 - time (sec): 7.95 - samples/sec: 2280.95 - lr: 0.050000 - momentum: 0.000000\n",
            "2023-12-24 22:51:05,279 epoch 34 - iter 133/199 - loss 0.37110647 - time (sec): 9.62 - samples/sec: 2192.26 - lr: 0.050000 - momentum: 0.000000\n",
            "2023-12-24 22:51:06,430 epoch 34 - iter 152/199 - loss 0.37093039 - time (sec): 10.77 - samples/sec: 2242.06 - lr: 0.050000 - momentum: 0.000000\n",
            "2023-12-24 22:51:07,419 epoch 34 - iter 171/199 - loss 0.36926214 - time (sec): 11.76 - samples/sec: 2316.95 - lr: 0.050000 - momentum: 0.000000\n",
            "2023-12-24 22:51:08,484 epoch 34 - iter 190/199 - loss 0.36926648 - time (sec): 12.83 - samples/sec: 2356.23 - lr: 0.050000 - momentum: 0.000000\n",
            "2023-12-24 22:51:08,901 ----------------------------------------------------------------------------------------------------\n",
            "2023-12-24 22:51:08,904 EPOCH 34 done: loss 0.3702 - lr: 0.050000\n"
          ]
        },
        {
          "output_type": "stream",
          "name": "stderr",
          "text": [
            "100%|██████████| 7/7 [00:00<00:00,  7.95it/s]"
          ]
        },
        {
          "output_type": "stream",
          "name": "stdout",
          "text": [
            "2023-12-24 22:51:09,858 DEV : loss 0.36002352833747864 - f1-score (micro avg)  0.855\n",
            "2023-12-24 22:51:09,877  - 2 epochs without improvement\n",
            "2023-12-24 22:51:09,884 ----------------------------------------------------------------------------------------------------\n"
          ]
        },
        {
          "output_type": "stream",
          "name": "stderr",
          "text": [
            "\n"
          ]
        },
        {
          "output_type": "stream",
          "name": "stdout",
          "text": [
            "2023-12-24 22:51:10,660 epoch 35 - iter 19/199 - loss 0.36039692 - time (sec): 0.77 - samples/sec: 3984.31 - lr: 0.050000 - momentum: 0.000000\n",
            "2023-12-24 22:51:11,355 epoch 35 - iter 38/199 - loss 0.36417237 - time (sec): 1.47 - samples/sec: 4152.48 - lr: 0.050000 - momentum: 0.000000\n",
            "2023-12-24 22:51:12,038 epoch 35 - iter 57/199 - loss 0.36693849 - time (sec): 2.15 - samples/sec: 4287.96 - lr: 0.050000 - momentum: 0.000000\n",
            "2023-12-24 22:51:12,676 epoch 35 - iter 76/199 - loss 0.36918021 - time (sec): 2.79 - samples/sec: 4347.97 - lr: 0.050000 - momentum: 0.000000\n",
            "2023-12-24 22:51:13,322 epoch 35 - iter 95/199 - loss 0.36432746 - time (sec): 3.43 - samples/sec: 4399.37 - lr: 0.050000 - momentum: 0.000000\n",
            "2023-12-24 22:51:13,913 epoch 35 - iter 114/199 - loss 0.36857544 - time (sec): 4.02 - samples/sec: 4491.29 - lr: 0.050000 - momentum: 0.000000\n",
            "2023-12-24 22:51:14,536 epoch 35 - iter 133/199 - loss 0.37082207 - time (sec): 4.65 - samples/sec: 4540.71 - lr: 0.050000 - momentum: 0.000000\n",
            "2023-12-24 22:51:15,159 epoch 35 - iter 152/199 - loss 0.37176875 - time (sec): 5.27 - samples/sec: 4553.41 - lr: 0.050000 - momentum: 0.000000\n",
            "2023-12-24 22:51:15,722 epoch 35 - iter 171/199 - loss 0.37324409 - time (sec): 5.83 - samples/sec: 4610.50 - lr: 0.050000 - momentum: 0.000000\n",
            "2023-12-24 22:51:16,449 epoch 35 - iter 190/199 - loss 0.37006915 - time (sec): 6.56 - samples/sec: 4585.34 - lr: 0.050000 - momentum: 0.000000\n",
            "2023-12-24 22:51:16,790 ----------------------------------------------------------------------------------------------------\n",
            "2023-12-24 22:51:16,792 EPOCH 35 done: loss 0.3697 - lr: 0.050000\n"
          ]
        },
        {
          "output_type": "stream",
          "name": "stderr",
          "text": [
            "100%|██████████| 7/7 [00:01<00:00,  5.09it/s]"
          ]
        },
        {
          "output_type": "stream",
          "name": "stdout",
          "text": [
            "2023-12-24 22:51:18,232 DEV : loss 0.36040639877319336 - f1-score (micro avg)  0.8494\n",
            "2023-12-24 22:51:18,255  - 3 epochs without improvement\n",
            "2023-12-24 22:51:18,276 ----------------------------------------------------------------------------------------------------\n"
          ]
        },
        {
          "output_type": "stream",
          "name": "stderr",
          "text": [
            "\n"
          ]
        },
        {
          "output_type": "stream",
          "name": "stdout",
          "text": [
            "2023-12-24 22:51:19,217 epoch 36 - iter 19/199 - loss 0.37957377 - time (sec): 0.94 - samples/sec: 3157.82 - lr: 0.050000 - momentum: 0.000000\n",
            "2023-12-24 22:51:20,252 epoch 36 - iter 38/199 - loss 0.36906283 - time (sec): 1.97 - samples/sec: 3053.52 - lr: 0.050000 - momentum: 0.000000\n",
            "2023-12-24 22:51:21,351 epoch 36 - iter 57/199 - loss 0.38342827 - time (sec): 3.07 - samples/sec: 2920.49 - lr: 0.050000 - momentum: 0.000000\n",
            "2023-12-24 22:51:22,310 epoch 36 - iter 76/199 - loss 0.38544761 - time (sec): 4.03 - samples/sec: 2936.28 - lr: 0.050000 - momentum: 0.000000\n",
            "2023-12-24 22:51:23,770 epoch 36 - iter 95/199 - loss 0.37924344 - time (sec): 5.49 - samples/sec: 2722.40 - lr: 0.050000 - momentum: 0.000000\n",
            "2023-12-24 22:51:24,818 epoch 36 - iter 114/199 - loss 0.37722363 - time (sec): 6.54 - samples/sec: 2755.42 - lr: 0.050000 - momentum: 0.000000\n",
            "2023-12-24 22:51:25,936 epoch 36 - iter 133/199 - loss 0.37466869 - time (sec): 7.66 - samples/sec: 2750.50 - lr: 0.050000 - momentum: 0.000000\n",
            "2023-12-24 22:51:27,211 epoch 36 - iter 152/199 - loss 0.37232832 - time (sec): 8.93 - samples/sec: 2712.50 - lr: 0.050000 - momentum: 0.000000\n",
            "2023-12-24 22:51:28,406 epoch 36 - iter 171/199 - loss 0.37161988 - time (sec): 10.12 - samples/sec: 2697.13 - lr: 0.050000 - momentum: 0.000000\n",
            "2023-12-24 22:51:29,086 epoch 36 - iter 190/199 - loss 0.37248991 - time (sec): 10.80 - samples/sec: 2797.31 - lr: 0.050000 - momentum: 0.000000\n",
            "2023-12-24 22:51:29,361 ----------------------------------------------------------------------------------------------------\n",
            "2023-12-24 22:51:29,363 EPOCH 36 done: loss 0.3726 - lr: 0.050000\n"
          ]
        },
        {
          "output_type": "stream",
          "name": "stderr",
          "text": [
            "100%|██████████| 7/7 [00:00<00:00,  7.95it/s]"
          ]
        },
        {
          "output_type": "stream",
          "name": "stdout",
          "text": [
            "2023-12-24 22:51:30,305 DEV : loss 0.3493085205554962 - f1-score (micro avg)  0.853\n",
            "2023-12-24 22:51:30,324  - 4 epochs without improvement (above 'patience')-> annealing learning_rate to [0.025]\n",
            "2023-12-24 22:51:30,330 ----------------------------------------------------------------------------------------------------\n"
          ]
        },
        {
          "output_type": "stream",
          "name": "stderr",
          "text": [
            "\n"
          ]
        },
        {
          "output_type": "stream",
          "name": "stdout",
          "text": [
            "2023-12-24 22:51:31,014 epoch 37 - iter 19/199 - loss 0.34307581 - time (sec): 0.68 - samples/sec: 4574.50 - lr: 0.025000 - momentum: 0.000000\n",
            "2023-12-24 22:51:31,692 epoch 37 - iter 38/199 - loss 0.33940552 - time (sec): 1.36 - samples/sec: 4548.96 - lr: 0.025000 - momentum: 0.000000\n",
            "2023-12-24 22:51:32,376 epoch 37 - iter 57/199 - loss 0.34820890 - time (sec): 2.04 - samples/sec: 4494.58 - lr: 0.025000 - momentum: 0.000000\n",
            "2023-12-24 22:51:33,086 epoch 37 - iter 76/199 - loss 0.35112502 - time (sec): 2.75 - samples/sec: 4412.69 - lr: 0.025000 - momentum: 0.000000\n",
            "2023-12-24 22:51:33,650 epoch 37 - iter 95/199 - loss 0.35545619 - time (sec): 3.32 - samples/sec: 4536.63 - lr: 0.025000 - momentum: 0.000000\n",
            "2023-12-24 22:51:34,258 epoch 37 - iter 114/199 - loss 0.35608102 - time (sec): 3.92 - samples/sec: 4585.43 - lr: 0.025000 - momentum: 0.000000\n",
            "2023-12-24 22:51:35,059 epoch 37 - iter 133/199 - loss 0.35356636 - time (sec): 4.72 - samples/sec: 4489.31 - lr: 0.025000 - momentum: 0.000000\n",
            "2023-12-24 22:51:35,875 epoch 37 - iter 152/199 - loss 0.35110643 - time (sec): 5.54 - samples/sec: 4410.61 - lr: 0.025000 - momentum: 0.000000\n",
            "2023-12-24 22:51:36,509 epoch 37 - iter 171/199 - loss 0.35235117 - time (sec): 6.17 - samples/sec: 4434.27 - lr: 0.025000 - momentum: 0.000000\n",
            "2023-12-24 22:51:37,134 epoch 37 - iter 190/199 - loss 0.35355742 - time (sec): 6.80 - samples/sec: 4447.94 - lr: 0.025000 - momentum: 0.000000\n",
            "2023-12-24 22:51:37,402 ----------------------------------------------------------------------------------------------------\n",
            "2023-12-24 22:51:37,405 EPOCH 37 done: loss 0.3547 - lr: 0.025000\n"
          ]
        },
        {
          "output_type": "stream",
          "name": "stderr",
          "text": [
            "100%|██████████| 7/7 [00:00<00:00,  8.24it/s]"
          ]
        },
        {
          "output_type": "stream",
          "name": "stdout",
          "text": [
            "2023-12-24 22:51:38,310 DEV : loss 0.3388981819152832 - f1-score (micro avg)  0.8552\n",
            "2023-12-24 22:51:38,329  - 1 epochs without improvement\n",
            "2023-12-24 22:51:38,335 ----------------------------------------------------------------------------------------------------\n"
          ]
        },
        {
          "output_type": "stream",
          "name": "stderr",
          "text": [
            "\n"
          ]
        },
        {
          "output_type": "stream",
          "name": "stdout",
          "text": [
            "2023-12-24 22:51:39,301 epoch 38 - iter 19/199 - loss 0.34925075 - time (sec): 0.96 - samples/sec: 3168.54 - lr: 0.025000 - momentum: 0.000000\n",
            "2023-12-24 22:51:40,535 epoch 38 - iter 38/199 - loss 0.34127233 - time (sec): 2.19 - samples/sec: 2824.63 - lr: 0.025000 - momentum: 0.000000\n",
            "2023-12-24 22:51:41,648 epoch 38 - iter 57/199 - loss 0.34200943 - time (sec): 3.31 - samples/sec: 2831.65 - lr: 0.025000 - momentum: 0.000000\n",
            "2023-12-24 22:51:42,428 epoch 38 - iter 76/199 - loss 0.34958240 - time (sec): 4.09 - samples/sec: 2989.89 - lr: 0.025000 - momentum: 0.000000\n",
            "2023-12-24 22:51:43,437 epoch 38 - iter 95/199 - loss 0.35075950 - time (sec): 5.10 - samples/sec: 2999.51 - lr: 0.025000 - momentum: 0.000000\n",
            "2023-12-24 22:51:44,341 epoch 38 - iter 114/199 - loss 0.35160995 - time (sec): 6.00 - samples/sec: 3044.95 - lr: 0.025000 - momentum: 0.000000\n",
            "2023-12-24 22:51:44,925 epoch 38 - iter 133/199 - loss 0.35581888 - time (sec): 6.58 - samples/sec: 3226.32 - lr: 0.025000 - momentum: 0.000000\n",
            "2023-12-24 22:51:45,541 epoch 38 - iter 152/199 - loss 0.35456283 - time (sec): 7.20 - samples/sec: 3354.24 - lr: 0.025000 - momentum: 0.000000\n",
            "2023-12-24 22:51:46,170 epoch 38 - iter 171/199 - loss 0.35441333 - time (sec): 7.83 - samples/sec: 3472.39 - lr: 0.025000 - momentum: 0.000000\n",
            "2023-12-24 22:51:46,792 epoch 38 - iter 190/199 - loss 0.35577129 - time (sec): 8.45 - samples/sec: 3567.00 - lr: 0.025000 - momentum: 0.000000\n",
            "2023-12-24 22:51:47,114 ----------------------------------------------------------------------------------------------------\n",
            "2023-12-24 22:51:47,120 EPOCH 38 done: loss 0.3564 - lr: 0.025000\n"
          ]
        },
        {
          "output_type": "stream",
          "name": "stderr",
          "text": [
            "100%|██████████| 7/7 [00:00<00:00,  8.21it/s]\n"
          ]
        },
        {
          "output_type": "stream",
          "name": "stdout",
          "text": [
            "2023-12-24 22:51:48,033 DEV : loss 0.33932408690452576 - f1-score (micro avg)  0.8565\n",
            "2023-12-24 22:51:48,052  - 0 epochs without improvement\n",
            "2023-12-24 22:51:48,060 saving best model\n",
            "2023-12-24 22:51:59,387 ----------------------------------------------------------------------------------------------------\n",
            "2023-12-24 22:52:00,104 epoch 39 - iter 19/199 - loss 0.34874679 - time (sec): 0.71 - samples/sec: 4413.66 - lr: 0.025000 - momentum: 0.000000\n",
            "2023-12-24 22:52:00,691 epoch 39 - iter 38/199 - loss 0.36986832 - time (sec): 1.29 - samples/sec: 4612.42 - lr: 0.025000 - momentum: 0.000000\n",
            "2023-12-24 22:52:01,475 epoch 39 - iter 57/199 - loss 0.36277395 - time (sec): 2.08 - samples/sec: 4385.60 - lr: 0.025000 - momentum: 0.000000\n",
            "2023-12-24 22:52:02,129 epoch 39 - iter 76/199 - loss 0.36008641 - time (sec): 2.73 - samples/sec: 4417.92 - lr: 0.025000 - momentum: 0.000000\n",
            "2023-12-24 22:52:02,839 epoch 39 - iter 95/199 - loss 0.36153268 - time (sec): 3.44 - samples/sec: 4381.64 - lr: 0.025000 - momentum: 0.000000\n",
            "2023-12-24 22:52:03,582 epoch 39 - iter 114/199 - loss 0.35647419 - time (sec): 4.18 - samples/sec: 4335.42 - lr: 0.025000 - momentum: 0.000000\n",
            "2023-12-24 22:52:04,188 epoch 39 - iter 133/199 - loss 0.35599298 - time (sec): 4.79 - samples/sec: 4423.88 - lr: 0.025000 - momentum: 0.000000\n",
            "2023-12-24 22:52:04,777 epoch 39 - iter 152/199 - loss 0.35676154 - time (sec): 5.38 - samples/sec: 4483.29 - lr: 0.025000 - momentum: 0.000000\n",
            "2023-12-24 22:52:05,432 epoch 39 - iter 171/199 - loss 0.35427436 - time (sec): 6.03 - samples/sec: 4495.01 - lr: 0.025000 - momentum: 0.000000\n",
            "2023-12-24 22:52:06,073 epoch 39 - iter 190/199 - loss 0.35590452 - time (sec): 6.68 - samples/sec: 4504.53 - lr: 0.025000 - momentum: 0.000000\n",
            "2023-12-24 22:52:06,471 ----------------------------------------------------------------------------------------------------\n",
            "2023-12-24 22:52:06,474 EPOCH 39 done: loss 0.3549 - lr: 0.025000\n"
          ]
        },
        {
          "output_type": "stream",
          "name": "stderr",
          "text": [
            "100%|██████████| 7/7 [00:00<00:00,  8.31it/s]\n"
          ]
        },
        {
          "output_type": "stream",
          "name": "stdout",
          "text": [
            "2023-12-24 22:52:07,377 DEV : loss 0.3380328416824341 - f1-score (micro avg)  0.856\n",
            "2023-12-24 22:52:07,396  - 1 epochs without improvement\n",
            "2023-12-24 22:52:07,405 ----------------------------------------------------------------------------------------------------\n",
            "2023-12-24 22:52:08,058 epoch 40 - iter 19/199 - loss 0.35699844 - time (sec): 0.65 - samples/sec: 4570.97 - lr: 0.025000 - momentum: 0.000000\n",
            "2023-12-24 22:52:09,870 epoch 40 - iter 38/199 - loss 0.35230398 - time (sec): 2.46 - samples/sec: 2464.42 - lr: 0.025000 - momentum: 0.000000\n",
            "2023-12-24 22:52:11,866 epoch 40 - iter 57/199 - loss 0.35277310 - time (sec): 4.46 - samples/sec: 2027.17 - lr: 0.025000 - momentum: 0.000000\n",
            "2023-12-24 22:52:13,603 epoch 40 - iter 76/199 - loss 0.35619012 - time (sec): 6.19 - samples/sec: 1946.22 - lr: 0.025000 - momentum: 0.000000\n",
            "2023-12-24 22:52:15,108 epoch 40 - iter 95/199 - loss 0.35656760 - time (sec): 7.70 - samples/sec: 1942.13 - lr: 0.025000 - momentum: 0.000000\n",
            "2023-12-24 22:52:16,140 epoch 40 - iter 114/199 - loss 0.35586439 - time (sec): 8.73 - samples/sec: 2059.65 - lr: 0.025000 - momentum: 0.000000\n",
            "2023-12-24 22:52:17,141 epoch 40 - iter 133/199 - loss 0.35778780 - time (sec): 9.73 - samples/sec: 2151.32 - lr: 0.025000 - momentum: 0.000000\n",
            "2023-12-24 22:52:17,885 epoch 40 - iter 152/199 - loss 0.35531224 - time (sec): 10.48 - samples/sec: 2289.68 - lr: 0.025000 - momentum: 0.000000\n",
            "2023-12-24 22:52:18,599 epoch 40 - iter 171/199 - loss 0.35573521 - time (sec): 11.19 - samples/sec: 2414.17 - lr: 0.025000 - momentum: 0.000000\n",
            "2023-12-24 22:52:19,322 epoch 40 - iter 190/199 - loss 0.35581803 - time (sec): 11.91 - samples/sec: 2521.31 - lr: 0.025000 - momentum: 0.000000\n",
            "2023-12-24 22:52:19,745 ----------------------------------------------------------------------------------------------------\n",
            "2023-12-24 22:52:19,748 EPOCH 40 done: loss 0.3555 - lr: 0.025000\n"
          ]
        },
        {
          "output_type": "stream",
          "name": "stderr",
          "text": [
            "100%|██████████| 7/7 [00:00<00:00,  7.89it/s]\n"
          ]
        },
        {
          "output_type": "stream",
          "name": "stdout",
          "text": [
            "2023-12-24 22:52:20,695 DEV : loss 0.3376849591732025 - f1-score (micro avg)  0.8565\n",
            "2023-12-24 22:52:20,723  - 0 epochs without improvement\n",
            "2023-12-24 22:52:20,733 ----------------------------------------------------------------------------------------------------\n",
            "2023-12-24 22:52:21,488 epoch 41 - iter 19/199 - loss 0.33847120 - time (sec): 0.75 - samples/sec: 4173.74 - lr: 0.025000 - momentum: 0.000000\n",
            "2023-12-24 22:52:22,119 epoch 41 - iter 38/199 - loss 0.35000553 - time (sec): 1.38 - samples/sec: 4442.07 - lr: 0.025000 - momentum: 0.000000\n",
            "2023-12-24 22:52:22,749 epoch 41 - iter 57/199 - loss 0.35390900 - time (sec): 2.01 - samples/sec: 4514.50 - lr: 0.025000 - momentum: 0.000000\n",
            "2023-12-24 22:52:23,399 epoch 41 - iter 76/199 - loss 0.35905088 - time (sec): 2.66 - samples/sec: 4526.98 - lr: 0.025000 - momentum: 0.000000\n",
            "2023-12-24 22:52:24,040 epoch 41 - iter 95/199 - loss 0.35980100 - time (sec): 3.30 - samples/sec: 4518.84 - lr: 0.025000 - momentum: 0.000000\n",
            "2023-12-24 22:52:24,675 epoch 41 - iter 114/199 - loss 0.36077652 - time (sec): 3.94 - samples/sec: 4538.87 - lr: 0.025000 - momentum: 0.000000\n",
            "2023-12-24 22:52:25,546 epoch 41 - iter 133/199 - loss 0.35975854 - time (sec): 4.81 - samples/sec: 4340.67 - lr: 0.025000 - momentum: 0.000000\n",
            "2023-12-24 22:52:26,515 epoch 41 - iter 152/199 - loss 0.35876709 - time (sec): 5.78 - samples/sec: 4135.87 - lr: 0.025000 - momentum: 0.000000\n",
            "2023-12-24 22:52:27,553 epoch 41 - iter 171/199 - loss 0.35692075 - time (sec): 6.82 - samples/sec: 3963.09 - lr: 0.025000 - momentum: 0.000000\n",
            "2023-12-24 22:52:28,764 epoch 41 - iter 190/199 - loss 0.35464879 - time (sec): 8.03 - samples/sec: 3756.87 - lr: 0.025000 - momentum: 0.000000\n",
            "2023-12-24 22:52:29,176 ----------------------------------------------------------------------------------------------------\n",
            "2023-12-24 22:52:29,183 EPOCH 41 done: loss 0.3542 - lr: 0.025000\n"
          ]
        },
        {
          "output_type": "stream",
          "name": "stderr",
          "text": [
            "100%|██████████| 7/7 [00:01<00:00,  5.16it/s]"
          ]
        },
        {
          "output_type": "stream",
          "name": "stdout",
          "text": [
            "2023-12-24 22:52:30,603 DEV : loss 0.3415423631668091 - f1-score (micro avg)  0.8552\n",
            "2023-12-24 22:52:30,623  - 1 epochs without improvement\n",
            "2023-12-24 22:52:30,629 ----------------------------------------------------------------------------------------------------\n"
          ]
        },
        {
          "output_type": "stream",
          "name": "stderr",
          "text": [
            "\n"
          ]
        },
        {
          "output_type": "stream",
          "name": "stdout",
          "text": [
            "2023-12-24 22:52:31,251 epoch 42 - iter 19/199 - loss 0.35865566 - time (sec): 0.62 - samples/sec: 4939.36 - lr: 0.025000 - momentum: 0.000000\n",
            "2023-12-24 22:52:31,864 epoch 42 - iter 38/199 - loss 0.35874462 - time (sec): 1.23 - samples/sec: 4855.66 - lr: 0.025000 - momentum: 0.000000\n",
            "2023-12-24 22:52:32,573 epoch 42 - iter 57/199 - loss 0.35146131 - time (sec): 1.94 - samples/sec: 4656.78 - lr: 0.025000 - momentum: 0.000000\n",
            "2023-12-24 22:52:33,155 epoch 42 - iter 76/199 - loss 0.35115008 - time (sec): 2.52 - samples/sec: 4710.92 - lr: 0.025000 - momentum: 0.000000\n",
            "2023-12-24 22:52:33,841 epoch 42 - iter 95/199 - loss 0.35228497 - time (sec): 3.21 - samples/sec: 4633.48 - lr: 0.025000 - momentum: 0.000000\n",
            "2023-12-24 22:52:34,526 epoch 42 - iter 114/199 - loss 0.35564542 - time (sec): 3.89 - samples/sec: 4599.44 - lr: 0.025000 - momentum: 0.000000\n",
            "2023-12-24 22:52:35,122 epoch 42 - iter 133/199 - loss 0.35543669 - time (sec): 4.49 - samples/sec: 4625.62 - lr: 0.025000 - momentum: 0.000000\n",
            "2023-12-24 22:52:35,790 epoch 42 - iter 152/199 - loss 0.35688653 - time (sec): 5.15 - samples/sec: 4630.34 - lr: 0.025000 - momentum: 0.000000\n",
            "2023-12-24 22:52:36,458 epoch 42 - iter 171/199 - loss 0.35546990 - time (sec): 5.82 - samples/sec: 4625.58 - lr: 0.025000 - momentum: 0.000000\n",
            "2023-12-24 22:52:37,160 epoch 42 - iter 190/199 - loss 0.35537439 - time (sec): 6.52 - samples/sec: 4602.35 - lr: 0.025000 - momentum: 0.000000\n",
            "2023-12-24 22:52:37,560 ----------------------------------------------------------------------------------------------------\n",
            "2023-12-24 22:52:37,566 EPOCH 42 done: loss 0.3539 - lr: 0.025000\n"
          ]
        },
        {
          "output_type": "stream",
          "name": "stderr",
          "text": [
            "100%|██████████| 7/7 [00:00<00:00,  8.37it/s]"
          ]
        },
        {
          "output_type": "stream",
          "name": "stdout",
          "text": [
            "2023-12-24 22:52:38,457 DEV : loss 0.3401247560977936 - f1-score (micro avg)  0.855\n",
            "2023-12-24 22:52:38,477  - 2 epochs without improvement\n",
            "2023-12-24 22:52:38,483 ----------------------------------------------------------------------------------------------------\n"
          ]
        },
        {
          "output_type": "stream",
          "name": "stderr",
          "text": [
            "\n"
          ]
        },
        {
          "output_type": "stream",
          "name": "stdout",
          "text": [
            "2023-12-24 22:52:39,142 epoch 43 - iter 19/199 - loss 0.35755794 - time (sec): 0.65 - samples/sec: 4673.59 - lr: 0.025000 - momentum: 0.000000\n",
            "2023-12-24 22:52:39,744 epoch 43 - iter 38/199 - loss 0.35629124 - time (sec): 1.26 - samples/sec: 4787.09 - lr: 0.025000 - momentum: 0.000000\n",
            "2023-12-24 22:52:40,350 epoch 43 - iter 57/199 - loss 0.35941935 - time (sec): 1.86 - samples/sec: 4827.73 - lr: 0.025000 - momentum: 0.000000\n",
            "2023-12-24 22:52:41,362 epoch 43 - iter 76/199 - loss 0.35514680 - time (sec): 2.87 - samples/sec: 4192.80 - lr: 0.025000 - momentum: 0.000000\n",
            "2023-12-24 22:52:42,239 epoch 43 - iter 95/199 - loss 0.35543149 - time (sec): 3.75 - samples/sec: 3988.30 - lr: 0.025000 - momentum: 0.000000\n",
            "2023-12-24 22:52:43,206 epoch 43 - iter 114/199 - loss 0.35534206 - time (sec): 4.72 - samples/sec: 3803.66 - lr: 0.025000 - momentum: 0.000000\n",
            "2023-12-24 22:52:44,278 epoch 43 - iter 133/199 - loss 0.35421537 - time (sec): 5.79 - samples/sec: 3637.21 - lr: 0.025000 - momentum: 0.000000\n",
            "2023-12-24 22:52:45,375 epoch 43 - iter 152/199 - loss 0.35506811 - time (sec): 6.89 - samples/sec: 3504.93 - lr: 0.025000 - momentum: 0.000000\n",
            "2023-12-24 22:52:46,308 epoch 43 - iter 171/199 - loss 0.35698701 - time (sec): 7.82 - samples/sec: 3459.81 - lr: 0.025000 - momentum: 0.000000\n",
            "2023-12-24 22:52:47,050 epoch 43 - iter 190/199 - loss 0.35434763 - time (sec): 8.56 - samples/sec: 3520.10 - lr: 0.025000 - momentum: 0.000000\n",
            "2023-12-24 22:52:47,402 ----------------------------------------------------------------------------------------------------\n",
            "2023-12-24 22:52:47,405 EPOCH 43 done: loss 0.3551 - lr: 0.025000\n"
          ]
        },
        {
          "output_type": "stream",
          "name": "stderr",
          "text": [
            "100%|██████████| 7/7 [00:00<00:00,  8.05it/s]"
          ]
        },
        {
          "output_type": "stream",
          "name": "stdout",
          "text": [
            "2023-12-24 22:52:48,335 DEV : loss 0.3364883363246918 - f1-score (micro avg)  0.8565\n",
            "2023-12-24 22:52:48,354  - 0 epochs without improvement\n",
            "2023-12-24 22:52:48,360 ----------------------------------------------------------------------------------------------------\n"
          ]
        },
        {
          "output_type": "stream",
          "name": "stderr",
          "text": [
            "\n"
          ]
        },
        {
          "output_type": "stream",
          "name": "stdout",
          "text": [
            "2023-12-24 22:52:49,072 epoch 44 - iter 19/199 - loss 0.35862801 - time (sec): 0.71 - samples/sec: 4335.03 - lr: 0.025000 - momentum: 0.000000\n",
            "2023-12-24 22:52:49,622 epoch 44 - iter 38/199 - loss 0.36628969 - time (sec): 1.26 - samples/sec: 4725.77 - lr: 0.025000 - momentum: 0.000000\n",
            "2023-12-24 22:52:50,366 epoch 44 - iter 57/199 - loss 0.36299944 - time (sec): 2.00 - samples/sec: 4522.64 - lr: 0.025000 - momentum: 0.000000\n",
            "2023-12-24 22:52:51,090 epoch 44 - iter 76/199 - loss 0.35837173 - time (sec): 2.73 - samples/sec: 4464.60 - lr: 0.025000 - momentum: 0.000000\n",
            "2023-12-24 22:52:51,776 epoch 44 - iter 95/199 - loss 0.35875507 - time (sec): 3.41 - samples/sec: 4451.70 - lr: 0.025000 - momentum: 0.000000\n",
            "2023-12-24 22:52:52,309 epoch 44 - iter 114/199 - loss 0.35831779 - time (sec): 3.94 - samples/sec: 4567.42 - lr: 0.025000 - momentum: 0.000000\n",
            "2023-12-24 22:52:53,035 epoch 44 - iter 133/199 - loss 0.35683721 - time (sec): 4.67 - samples/sec: 4506.34 - lr: 0.025000 - momentum: 0.000000\n",
            "2023-12-24 22:52:53,720 epoch 44 - iter 152/199 - loss 0.35433269 - time (sec): 5.35 - samples/sec: 4499.06 - lr: 0.025000 - momentum: 0.000000\n",
            "2023-12-24 22:52:54,407 epoch 44 - iter 171/199 - loss 0.35610216 - time (sec): 6.04 - samples/sec: 4483.27 - lr: 0.025000 - momentum: 0.000000\n",
            "2023-12-24 22:52:55,036 epoch 44 - iter 190/199 - loss 0.35524300 - time (sec): 6.67 - samples/sec: 4519.50 - lr: 0.025000 - momentum: 0.000000\n",
            "2023-12-24 22:52:55,306 ----------------------------------------------------------------------------------------------------\n",
            "2023-12-24 22:52:55,308 EPOCH 44 done: loss 0.3562 - lr: 0.025000\n"
          ]
        },
        {
          "output_type": "stream",
          "name": "stderr",
          "text": [
            "100%|██████████| 7/7 [00:00<00:00,  8.41it/s]\n"
          ]
        },
        {
          "output_type": "stream",
          "name": "stdout",
          "text": [
            "2023-12-24 22:52:56,226 DEV : loss 0.3428173363208771 - f1-score (micro avg)  0.857\n",
            "2023-12-24 22:52:56,255  - 0 epochs without improvement\n",
            "2023-12-24 22:52:56,261 saving best model\n",
            "2023-12-24 22:53:05,095 ----------------------------------------------------------------------------------------------------\n",
            "2023-12-24 22:53:05,959 epoch 45 - iter 19/199 - loss 0.35891736 - time (sec): 0.86 - samples/sec: 3561.18 - lr: 0.025000 - momentum: 0.000000\n",
            "2023-12-24 22:53:06,549 epoch 45 - iter 38/199 - loss 0.36063977 - time (sec): 1.45 - samples/sec: 4098.33 - lr: 0.025000 - momentum: 0.000000\n",
            "2023-12-24 22:53:07,253 epoch 45 - iter 57/199 - loss 0.35300897 - time (sec): 2.15 - samples/sec: 4188.99 - lr: 0.025000 - momentum: 0.000000\n",
            "2023-12-24 22:53:07,904 epoch 45 - iter 76/199 - loss 0.35396703 - time (sec): 2.80 - samples/sec: 4296.32 - lr: 0.025000 - momentum: 0.000000\n",
            "2023-12-24 22:53:08,520 epoch 45 - iter 95/199 - loss 0.35493958 - time (sec): 3.42 - samples/sec: 4382.09 - lr: 0.025000 - momentum: 0.000000\n",
            "2023-12-24 22:53:09,285 epoch 45 - iter 114/199 - loss 0.35538244 - time (sec): 4.19 - samples/sec: 4308.74 - lr: 0.025000 - momentum: 0.000000\n",
            "2023-12-24 22:53:10,036 epoch 45 - iter 133/199 - loss 0.35807515 - time (sec): 4.94 - samples/sec: 4232.40 - lr: 0.025000 - momentum: 0.000000\n",
            "2023-12-24 22:53:10,827 epoch 45 - iter 152/199 - loss 0.35454583 - time (sec): 5.73 - samples/sec: 4221.46 - lr: 0.025000 - momentum: 0.000000\n",
            "2023-12-24 22:53:11,722 epoch 45 - iter 171/199 - loss 0.35263087 - time (sec): 6.62 - samples/sec: 4099.89 - lr: 0.025000 - momentum: 0.000000\n",
            "2023-12-24 22:53:12,743 epoch 45 - iter 190/199 - loss 0.35236734 - time (sec): 7.64 - samples/sec: 3954.24 - lr: 0.025000 - momentum: 0.000000\n",
            "2023-12-24 22:53:13,136 ----------------------------------------------------------------------------------------------------\n",
            "2023-12-24 22:53:13,144 EPOCH 45 done: loss 0.3532 - lr: 0.025000\n"
          ]
        },
        {
          "output_type": "stream",
          "name": "stderr",
          "text": [
            "100%|██████████| 7/7 [00:01<00:00,  3.72it/s]"
          ]
        },
        {
          "output_type": "stream",
          "name": "stdout",
          "text": [
            "2023-12-24 22:53:15,121 DEV : loss 0.33828088641166687 - f1-score (micro avg)  0.857\n",
            "2023-12-24 22:53:15,155  - 0 epochs without improvement\n",
            "2023-12-24 22:53:15,174 ----------------------------------------------------------------------------------------------------\n"
          ]
        },
        {
          "output_type": "stream",
          "name": "stderr",
          "text": [
            "\n"
          ]
        },
        {
          "output_type": "stream",
          "name": "stdout",
          "text": [
            "2023-12-24 22:53:16,003 epoch 46 - iter 19/199 - loss 0.34318232 - time (sec): 0.82 - samples/sec: 3421.58 - lr: 0.025000 - momentum: 0.000000\n",
            "2023-12-24 22:53:16,971 epoch 46 - iter 38/199 - loss 0.34130397 - time (sec): 1.79 - samples/sec: 3296.27 - lr: 0.025000 - momentum: 0.000000\n",
            "2023-12-24 22:53:17,579 epoch 46 - iter 57/199 - loss 0.35543804 - time (sec): 2.40 - samples/sec: 3676.33 - lr: 0.025000 - momentum: 0.000000\n",
            "2023-12-24 22:53:18,204 epoch 46 - iter 76/199 - loss 0.35423887 - time (sec): 3.02 - samples/sec: 3896.84 - lr: 0.025000 - momentum: 0.000000\n",
            "2023-12-24 22:53:18,885 epoch 46 - iter 95/199 - loss 0.35636806 - time (sec): 3.71 - samples/sec: 3998.39 - lr: 0.025000 - momentum: 0.000000\n",
            "2023-12-24 22:53:19,488 epoch 46 - iter 114/199 - loss 0.35740673 - time (sec): 4.31 - samples/sec: 4129.63 - lr: 0.025000 - momentum: 0.000000\n",
            "2023-12-24 22:53:20,166 epoch 46 - iter 133/199 - loss 0.35661708 - time (sec): 4.99 - samples/sec: 4171.35 - lr: 0.025000 - momentum: 0.000000\n",
            "2023-12-24 22:53:20,932 epoch 46 - iter 152/199 - loss 0.35417455 - time (sec): 5.75 - samples/sec: 4161.88 - lr: 0.025000 - momentum: 0.000000\n",
            "2023-12-24 22:53:21,707 epoch 46 - iter 171/199 - loss 0.35274676 - time (sec): 6.53 - samples/sec: 4167.28 - lr: 0.025000 - momentum: 0.000000\n",
            "2023-12-24 22:53:22,388 epoch 46 - iter 190/199 - loss 0.35222753 - time (sec): 7.21 - samples/sec: 4179.04 - lr: 0.025000 - momentum: 0.000000\n",
            "2023-12-24 22:53:22,678 ----------------------------------------------------------------------------------------------------\n",
            "2023-12-24 22:53:22,679 EPOCH 46 done: loss 0.3527 - lr: 0.025000\n"
          ]
        },
        {
          "output_type": "stream",
          "name": "stderr",
          "text": [
            "100%|██████████| 7/7 [00:00<00:00,  8.22it/s]"
          ]
        },
        {
          "output_type": "stream",
          "name": "stdout",
          "text": [
            "2023-12-24 22:53:23,589 DEV : loss 0.3629091680049896 - f1-score (micro avg)  0.8578\n",
            "2023-12-24 22:53:23,609  - 0 epochs without improvement\n",
            "2023-12-24 22:53:23,616 saving best model\n"
          ]
        },
        {
          "output_type": "stream",
          "name": "stderr",
          "text": [
            "\n"
          ]
        },
        {
          "output_type": "stream",
          "name": "stdout",
          "text": [
            "2023-12-24 22:53:28,579 ----------------------------------------------------------------------------------------------------\n",
            "2023-12-24 22:53:29,678 epoch 47 - iter 19/199 - loss 0.35518725 - time (sec): 1.09 - samples/sec: 2846.01 - lr: 0.025000 - momentum: 0.000000\n",
            "2023-12-24 22:53:30,633 epoch 47 - iter 38/199 - loss 0.34749010 - time (sec): 2.05 - samples/sec: 2992.58 - lr: 0.025000 - momentum: 0.000000\n",
            "2023-12-24 22:53:31,598 epoch 47 - iter 57/199 - loss 0.35331731 - time (sec): 3.01 - samples/sec: 3027.71 - lr: 0.025000 - momentum: 0.000000\n",
            "2023-12-24 22:53:32,532 epoch 47 - iter 76/199 - loss 0.35015503 - time (sec): 3.95 - samples/sec: 3069.60 - lr: 0.025000 - momentum: 0.000000\n",
            "2023-12-24 22:53:33,205 epoch 47 - iter 95/199 - loss 0.35277662 - time (sec): 4.62 - samples/sec: 3284.57 - lr: 0.025000 - momentum: 0.000000\n",
            "2023-12-24 22:53:33,917 epoch 47 - iter 114/199 - loss 0.35273523 - time (sec): 5.33 - samples/sec: 3409.00 - lr: 0.025000 - momentum: 0.000000\n",
            "2023-12-24 22:53:34,537 epoch 47 - iter 133/199 - loss 0.35549193 - time (sec): 5.95 - samples/sec: 3551.94 - lr: 0.025000 - momentum: 0.000000\n",
            "2023-12-24 22:53:35,198 epoch 47 - iter 152/199 - loss 0.35800771 - time (sec): 6.61 - samples/sec: 3652.20 - lr: 0.025000 - momentum: 0.000000\n",
            "2023-12-24 22:53:35,803 epoch 47 - iter 171/199 - loss 0.35583304 - time (sec): 7.22 - samples/sec: 3762.28 - lr: 0.025000 - momentum: 0.000000\n",
            "2023-12-24 22:53:36,484 epoch 47 - iter 190/199 - loss 0.35574185 - time (sec): 7.90 - samples/sec: 3808.82 - lr: 0.025000 - momentum: 0.000000\n",
            "2023-12-24 22:53:36,772 ----------------------------------------------------------------------------------------------------\n",
            "2023-12-24 22:53:36,773 EPOCH 47 done: loss 0.3557 - lr: 0.025000\n"
          ]
        },
        {
          "output_type": "stream",
          "name": "stderr",
          "text": [
            "100%|██████████| 7/7 [00:00<00:00,  8.30it/s]\n"
          ]
        },
        {
          "output_type": "stream",
          "name": "stdout",
          "text": [
            "2023-12-24 22:53:37,675 DEV : loss 0.3380570113658905 - f1-score (micro avg)  0.8555\n",
            "2023-12-24 22:53:37,698  - 1 epochs without improvement\n",
            "2023-12-24 22:53:37,704 ----------------------------------------------------------------------------------------------------\n",
            "2023-12-24 22:53:38,345 epoch 48 - iter 19/199 - loss 0.36287643 - time (sec): 0.63 - samples/sec: 4772.77 - lr: 0.025000 - momentum: 0.000000\n",
            "2023-12-24 22:53:39,081 epoch 48 - iter 38/199 - loss 0.35694924 - time (sec): 1.37 - samples/sec: 4400.81 - lr: 0.025000 - momentum: 0.000000\n",
            "2023-12-24 22:53:39,743 epoch 48 - iter 57/199 - loss 0.35123969 - time (sec): 2.03 - samples/sec: 4476.97 - lr: 0.025000 - momentum: 0.000000\n",
            "2023-12-24 22:53:40,459 epoch 48 - iter 76/199 - loss 0.34668350 - time (sec): 2.75 - samples/sec: 4403.50 - lr: 0.025000 - momentum: 0.000000\n",
            "2023-12-24 22:53:41,167 epoch 48 - iter 95/199 - loss 0.34518339 - time (sec): 3.46 - samples/sec: 4413.31 - lr: 0.025000 - momentum: 0.000000\n",
            "2023-12-24 22:53:41,777 epoch 48 - iter 114/199 - loss 0.34713217 - time (sec): 4.07 - samples/sec: 4485.94 - lr: 0.025000 - momentum: 0.000000\n",
            "2023-12-24 22:53:42,600 epoch 48 - iter 133/199 - loss 0.35053387 - time (sec): 4.89 - samples/sec: 4327.53 - lr: 0.025000 - momentum: 0.000000\n",
            "2023-12-24 22:53:43,599 epoch 48 - iter 152/199 - loss 0.35192278 - time (sec): 5.89 - samples/sec: 4100.42 - lr: 0.025000 - momentum: 0.000000\n",
            "2023-12-24 22:53:44,606 epoch 48 - iter 171/199 - loss 0.35194476 - time (sec): 6.90 - samples/sec: 3938.39 - lr: 0.025000 - momentum: 0.000000\n",
            "2023-12-24 22:53:45,447 epoch 48 - iter 190/199 - loss 0.35214084 - time (sec): 7.74 - samples/sec: 3889.74 - lr: 0.025000 - momentum: 0.000000\n",
            "2023-12-24 22:53:45,931 ----------------------------------------------------------------------------------------------------\n",
            "2023-12-24 22:53:45,938 EPOCH 48 done: loss 0.3525 - lr: 0.025000\n"
          ]
        },
        {
          "output_type": "stream",
          "name": "stderr",
          "text": [
            "100%|██████████| 7/7 [00:01<00:00,  5.24it/s]"
          ]
        },
        {
          "output_type": "stream",
          "name": "stdout",
          "text": [
            "2023-12-24 22:53:47,361 DEV : loss 0.33636674284935 - f1-score (micro avg)  0.8567\n",
            "2023-12-24 22:53:47,399  - 2 epochs without improvement\n",
            "2023-12-24 22:53:47,408 ----------------------------------------------------------------------------------------------------\n"
          ]
        },
        {
          "output_type": "stream",
          "name": "stderr",
          "text": [
            "\n"
          ]
        },
        {
          "output_type": "stream",
          "name": "stdout",
          "text": [
            "2023-12-24 22:53:48,179 epoch 49 - iter 19/199 - loss 0.35181891 - time (sec): 0.77 - samples/sec: 3912.19 - lr: 0.025000 - momentum: 0.000000\n",
            "2023-12-24 22:53:48,915 epoch 49 - iter 38/199 - loss 0.34775777 - time (sec): 1.50 - samples/sec: 4068.22 - lr: 0.025000 - momentum: 0.000000\n",
            "2023-12-24 22:53:49,553 epoch 49 - iter 57/199 - loss 0.35347714 - time (sec): 2.14 - samples/sec: 4242.44 - lr: 0.025000 - momentum: 0.000000\n",
            "2023-12-24 22:53:50,207 epoch 49 - iter 76/199 - loss 0.34956185 - time (sec): 2.79 - samples/sec: 4317.52 - lr: 0.025000 - momentum: 0.000000\n",
            "2023-12-24 22:53:50,930 epoch 49 - iter 95/199 - loss 0.34871975 - time (sec): 3.52 - samples/sec: 4293.58 - lr: 0.025000 - momentum: 0.000000\n",
            "2023-12-24 22:53:51,573 epoch 49 - iter 114/199 - loss 0.34901233 - time (sec): 4.16 - samples/sec: 4357.04 - lr: 0.025000 - momentum: 0.000000\n",
            "2023-12-24 22:53:52,264 epoch 49 - iter 133/199 - loss 0.34919774 - time (sec): 4.85 - samples/sec: 4371.11 - lr: 0.025000 - momentum: 0.000000\n",
            "2023-12-24 22:53:52,967 epoch 49 - iter 152/199 - loss 0.34869363 - time (sec): 5.55 - samples/sec: 4372.38 - lr: 0.025000 - momentum: 0.000000\n",
            "2023-12-24 22:53:53,628 epoch 49 - iter 171/199 - loss 0.34932305 - time (sec): 6.21 - samples/sec: 4399.41 - lr: 0.025000 - momentum: 0.000000\n",
            "2023-12-24 22:53:54,246 epoch 49 - iter 190/199 - loss 0.35129944 - time (sec): 6.83 - samples/sec: 4423.47 - lr: 0.025000 - momentum: 0.000000\n",
            "2023-12-24 22:53:54,481 ----------------------------------------------------------------------------------------------------\n",
            "2023-12-24 22:53:54,484 EPOCH 49 done: loss 0.3526 - lr: 0.025000\n"
          ]
        },
        {
          "output_type": "stream",
          "name": "stderr",
          "text": [
            "100%|██████████| 7/7 [00:00<00:00,  8.10it/s]"
          ]
        },
        {
          "output_type": "stream",
          "name": "stdout",
          "text": [
            "2023-12-24 22:53:55,406 DEV : loss 0.3365080952644348 - f1-score (micro avg)  0.8565\n",
            "2023-12-24 22:53:55,425  - 3 epochs without improvement\n",
            "2023-12-24 22:53:55,431 ----------------------------------------------------------------------------------------------------\n"
          ]
        },
        {
          "output_type": "stream",
          "name": "stderr",
          "text": [
            "\n"
          ]
        },
        {
          "output_type": "stream",
          "name": "stdout",
          "text": [
            "2023-12-24 22:53:56,076 epoch 50 - iter 19/199 - loss 0.35815245 - time (sec): 0.64 - samples/sec: 4643.35 - lr: 0.025000 - momentum: 0.000000\n",
            "2023-12-24 22:53:56,884 epoch 50 - iter 38/199 - loss 0.34577185 - time (sec): 1.45 - samples/sec: 4264.44 - lr: 0.025000 - momentum: 0.000000\n",
            "2023-12-24 22:53:57,651 epoch 50 - iter 57/199 - loss 0.34168588 - time (sec): 2.21 - samples/sec: 4218.07 - lr: 0.025000 - momentum: 0.000000\n",
            "2023-12-24 22:53:58,529 epoch 50 - iter 76/199 - loss 0.34822538 - time (sec): 3.09 - samples/sec: 3962.54 - lr: 0.025000 - momentum: 0.000000\n",
            "2023-12-24 22:53:59,507 epoch 50 - iter 95/199 - loss 0.34956847 - time (sec): 4.07 - samples/sec: 3771.25 - lr: 0.025000 - momentum: 0.000000\n",
            "2023-12-24 22:54:00,353 epoch 50 - iter 114/199 - loss 0.35193266 - time (sec): 4.92 - samples/sec: 3713.16 - lr: 0.025000 - momentum: 0.000000\n",
            "2023-12-24 22:54:01,245 epoch 50 - iter 133/199 - loss 0.35305254 - time (sec): 5.81 - samples/sec: 3647.22 - lr: 0.025000 - momentum: 0.000000\n",
            "2023-12-24 22:54:02,332 epoch 50 - iter 152/199 - loss 0.35061761 - time (sec): 6.90 - samples/sec: 3510.03 - lr: 0.025000 - momentum: 0.000000\n",
            "2023-12-24 22:54:03,366 epoch 50 - iter 171/199 - loss 0.34756837 - time (sec): 7.93 - samples/sec: 3440.61 - lr: 0.025000 - momentum: 0.000000\n",
            "2023-12-24 22:54:04,000 epoch 50 - iter 190/199 - loss 0.34890231 - time (sec): 8.56 - samples/sec: 3526.52 - lr: 0.025000 - momentum: 0.000000\n",
            "2023-12-24 22:54:04,296 ----------------------------------------------------------------------------------------------------\n",
            "2023-12-24 22:54:04,299 EPOCH 50 done: loss 0.3493 - lr: 0.025000\n"
          ]
        },
        {
          "output_type": "stream",
          "name": "stderr",
          "text": [
            "100%|██████████| 7/7 [00:00<00:00,  8.33it/s]"
          ]
        },
        {
          "output_type": "stream",
          "name": "stdout",
          "text": [
            "2023-12-24 22:54:05,194 DEV : loss 0.35117822885513306 - f1-score (micro avg)  0.8542\n",
            "2023-12-24 22:54:05,218  - 4 epochs without improvement (above 'patience')-> annealing learning_rate to [0.0125]\n",
            "2023-12-24 22:54:05,223 ----------------------------------------------------------------------------------------------------\n"
          ]
        },
        {
          "output_type": "stream",
          "name": "stderr",
          "text": [
            "\n"
          ]
        },
        {
          "output_type": "stream",
          "name": "stdout",
          "text": [
            "2023-12-24 22:54:05,959 epoch 51 - iter 19/199 - loss 0.34717932 - time (sec): 0.73 - samples/sec: 4216.97 - lr: 0.012500 - momentum: 0.000000\n",
            "2023-12-24 22:54:06,601 epoch 51 - iter 38/199 - loss 0.35246420 - time (sec): 1.37 - samples/sec: 4365.35 - lr: 0.012500 - momentum: 0.000000\n",
            "2023-12-24 22:54:07,191 epoch 51 - iter 57/199 - loss 0.35564535 - time (sec): 1.96 - samples/sec: 4564.94 - lr: 0.012500 - momentum: 0.000000\n",
            "2023-12-24 22:54:07,772 epoch 51 - iter 76/199 - loss 0.35709524 - time (sec): 2.54 - samples/sec: 4669.37 - lr: 0.012500 - momentum: 0.000000\n",
            "2023-12-24 22:54:08,469 epoch 51 - iter 95/199 - loss 0.35331755 - time (sec): 3.24 - samples/sec: 4598.80 - lr: 0.012500 - momentum: 0.000000\n",
            "2023-12-24 22:54:09,217 epoch 51 - iter 114/199 - loss 0.35427575 - time (sec): 3.99 - samples/sec: 4509.49 - lr: 0.012500 - momentum: 0.000000\n",
            "2023-12-24 22:54:09,868 epoch 51 - iter 133/199 - loss 0.35059465 - time (sec): 4.64 - samples/sec: 4510.69 - lr: 0.012500 - momentum: 0.000000\n",
            "2023-12-24 22:54:10,661 epoch 51 - iter 152/199 - loss 0.34740454 - time (sec): 5.43 - samples/sec: 4445.18 - lr: 0.012500 - momentum: 0.000000\n",
            "2023-12-24 22:54:11,341 epoch 51 - iter 171/199 - loss 0.34706309 - time (sec): 6.11 - samples/sec: 4443.21 - lr: 0.012500 - momentum: 0.000000\n",
            "2023-12-24 22:54:11,953 epoch 51 - iter 190/199 - loss 0.34881175 - time (sec): 6.72 - samples/sec: 4475.85 - lr: 0.012500 - momentum: 0.000000\n",
            "2023-12-24 22:54:12,274 ----------------------------------------------------------------------------------------------------\n",
            "2023-12-24 22:54:12,277 EPOCH 51 done: loss 0.3479 - lr: 0.012500\n"
          ]
        },
        {
          "output_type": "stream",
          "name": "stderr",
          "text": [
            "100%|██████████| 7/7 [00:00<00:00,  7.50it/s]\n"
          ]
        },
        {
          "output_type": "stream",
          "name": "stdout",
          "text": [
            "2023-12-24 22:54:13,269 DEV : loss 0.3347201347351074 - f1-score (micro avg)  0.857\n",
            "2023-12-24 22:54:13,288  - 1 epochs without improvement\n",
            "2023-12-24 22:54:13,293 ----------------------------------------------------------------------------------------------------\n",
            "2023-12-24 22:54:14,222 epoch 52 - iter 19/199 - loss 0.36666411 - time (sec): 0.92 - samples/sec: 3219.91 - lr: 0.012500 - momentum: 0.000000\n",
            "2023-12-24 22:54:15,146 epoch 52 - iter 38/199 - loss 0.35487304 - time (sec): 1.85 - samples/sec: 3193.68 - lr: 0.012500 - momentum: 0.000000\n",
            "2023-12-24 22:54:16,101 epoch 52 - iter 57/199 - loss 0.35440154 - time (sec): 2.80 - samples/sec: 3188.35 - lr: 0.012500 - momentum: 0.000000\n",
            "2023-12-24 22:54:17,108 epoch 52 - iter 76/199 - loss 0.35496530 - time (sec): 3.81 - samples/sec: 3149.71 - lr: 0.012500 - momentum: 0.000000\n",
            "2023-12-24 22:54:18,021 epoch 52 - iter 95/199 - loss 0.35657615 - time (sec): 4.72 - samples/sec: 3165.79 - lr: 0.012500 - momentum: 0.000000\n",
            "2023-12-24 22:54:19,205 epoch 52 - iter 114/199 - loss 0.35573298 - time (sec): 5.91 - samples/sec: 3029.02 - lr: 0.012500 - momentum: 0.000000\n",
            "2023-12-24 22:54:20,759 epoch 52 - iter 133/199 - loss 0.35174731 - time (sec): 7.46 - samples/sec: 2834.18 - lr: 0.012500 - momentum: 0.000000\n",
            "2023-12-24 22:54:22,355 epoch 52 - iter 152/199 - loss 0.34974404 - time (sec): 9.06 - samples/sec: 2682.88 - lr: 0.012500 - momentum: 0.000000\n",
            "2023-12-24 22:54:23,457 epoch 52 - iter 171/199 - loss 0.34931759 - time (sec): 10.16 - samples/sec: 2685.70 - lr: 0.012500 - momentum: 0.000000\n",
            "2023-12-24 22:54:24,500 epoch 52 - iter 190/199 - loss 0.34781160 - time (sec): 11.20 - samples/sec: 2684.22 - lr: 0.012500 - momentum: 0.000000\n",
            "2023-12-24 22:54:25,107 ----------------------------------------------------------------------------------------------------\n",
            "2023-12-24 22:54:25,111 EPOCH 52 done: loss 0.3475 - lr: 0.012500\n"
          ]
        },
        {
          "output_type": "stream",
          "name": "stderr",
          "text": [
            "100%|██████████| 7/7 [00:01<00:00,  4.46it/s]"
          ]
        },
        {
          "output_type": "stream",
          "name": "stdout",
          "text": [
            "2023-12-24 22:54:26,783 DEV : loss 0.3367938995361328 - f1-score (micro avg)  0.8567\n",
            "2023-12-24 22:54:26,819  - 2 epochs without improvement\n",
            "2023-12-24 22:54:26,829 ----------------------------------------------------------------------------------------------------\n"
          ]
        },
        {
          "output_type": "stream",
          "name": "stderr",
          "text": [
            "\n"
          ]
        },
        {
          "output_type": "stream",
          "name": "stdout",
          "text": [
            "2023-12-24 22:54:27,643 epoch 53 - iter 19/199 - loss 0.34136714 - time (sec): 0.81 - samples/sec: 3862.64 - lr: 0.012500 - momentum: 0.000000\n",
            "2023-12-24 22:54:28,370 epoch 53 - iter 38/199 - loss 0.33972973 - time (sec): 1.53 - samples/sec: 4037.30 - lr: 0.012500 - momentum: 0.000000\n",
            "2023-12-24 22:54:29,014 epoch 53 - iter 57/199 - loss 0.34425012 - time (sec): 2.18 - samples/sec: 4264.56 - lr: 0.012500 - momentum: 0.000000\n",
            "2023-12-24 22:54:30,010 epoch 53 - iter 76/199 - loss 0.34155983 - time (sec): 3.17 - samples/sec: 3885.95 - lr: 0.012500 - momentum: 0.000000\n",
            "2023-12-24 22:54:30,881 epoch 53 - iter 95/199 - loss 0.34807195 - time (sec): 4.04 - samples/sec: 3760.51 - lr: 0.012500 - momentum: 0.000000\n",
            "2023-12-24 22:54:31,947 epoch 53 - iter 114/199 - loss 0.34704872 - time (sec): 5.11 - samples/sec: 3572.16 - lr: 0.012500 - momentum: 0.000000\n",
            "2023-12-24 22:54:33,027 epoch 53 - iter 133/199 - loss 0.34748451 - time (sec): 6.19 - samples/sec: 3434.65 - lr: 0.012500 - momentum: 0.000000\n",
            "2023-12-24 22:54:34,078 epoch 53 - iter 152/199 - loss 0.35023022 - time (sec): 7.24 - samples/sec: 3329.30 - lr: 0.012500 - momentum: 0.000000\n",
            "2023-12-24 22:54:35,334 epoch 53 - iter 171/199 - loss 0.34929386 - time (sec): 8.50 - samples/sec: 3198.96 - lr: 0.012500 - momentum: 0.000000\n",
            "2023-12-24 22:54:36,603 epoch 53 - iter 190/199 - loss 0.34784089 - time (sec): 9.77 - samples/sec: 3085.39 - lr: 0.012500 - momentum: 0.000000\n",
            "2023-12-24 22:54:37,100 ----------------------------------------------------------------------------------------------------\n",
            "2023-12-24 22:54:37,102 EPOCH 53 done: loss 0.3479 - lr: 0.012500\n"
          ]
        },
        {
          "output_type": "stream",
          "name": "stderr",
          "text": [
            "100%|██████████| 7/7 [00:01<00:00,  5.08it/s]"
          ]
        },
        {
          "output_type": "stream",
          "name": "stdout",
          "text": [
            "2023-12-24 22:54:38,575 DEV : loss 0.3335303068161011 - f1-score (micro avg)  0.8573\n",
            "2023-12-24 22:54:38,611  - 3 epochs without improvement\n",
            "2023-12-24 22:54:38,620 ----------------------------------------------------------------------------------------------------\n"
          ]
        },
        {
          "output_type": "stream",
          "name": "stderr",
          "text": [
            "\n"
          ]
        },
        {
          "output_type": "stream",
          "name": "stdout",
          "text": [
            "2023-12-24 22:54:39,571 epoch 54 - iter 19/199 - loss 0.33514637 - time (sec): 0.95 - samples/sec: 3173.23 - lr: 0.012500 - momentum: 0.000000\n",
            "2023-12-24 22:54:40,649 epoch 54 - iter 38/199 - loss 0.33570160 - time (sec): 2.02 - samples/sec: 2975.08 - lr: 0.012500 - momentum: 0.000000\n",
            "2023-12-24 22:54:41,512 epoch 54 - iter 57/199 - loss 0.34451909 - time (sec): 2.89 - samples/sec: 3083.55 - lr: 0.012500 - momentum: 0.000000\n",
            "2023-12-24 22:54:42,317 epoch 54 - iter 76/199 - loss 0.34761759 - time (sec): 3.69 - samples/sec: 3237.07 - lr: 0.012500 - momentum: 0.000000\n",
            "2023-12-24 22:54:42,953 epoch 54 - iter 95/199 - loss 0.34718857 - time (sec): 4.33 - samples/sec: 3455.00 - lr: 0.012500 - momentum: 0.000000\n",
            "2023-12-24 22:54:43,586 epoch 54 - iter 114/199 - loss 0.34791893 - time (sec): 4.96 - samples/sec: 3616.37 - lr: 0.012500 - momentum: 0.000000\n",
            "2023-12-24 22:54:44,244 epoch 54 - iter 133/199 - loss 0.34945135 - time (sec): 5.62 - samples/sec: 3728.84 - lr: 0.012500 - momentum: 0.000000\n",
            "2023-12-24 22:54:44,877 epoch 54 - iter 152/199 - loss 0.35094271 - time (sec): 6.25 - samples/sec: 3815.19 - lr: 0.012500 - momentum: 0.000000\n",
            "2023-12-24 22:54:45,631 epoch 54 - iter 171/199 - loss 0.34955372 - time (sec): 7.01 - samples/sec: 3857.65 - lr: 0.012500 - momentum: 0.000000\n",
            "2023-12-24 22:54:46,439 epoch 54 - iter 190/199 - loss 0.34728522 - time (sec): 7.81 - samples/sec: 3859.33 - lr: 0.012500 - momentum: 0.000000\n",
            "2023-12-24 22:54:46,766 ----------------------------------------------------------------------------------------------------\n",
            "2023-12-24 22:54:46,769 EPOCH 54 done: loss 0.3468 - lr: 0.012500\n"
          ]
        },
        {
          "output_type": "stream",
          "name": "stderr",
          "text": [
            "100%|██████████| 7/7 [00:00<00:00,  7.45it/s]"
          ]
        },
        {
          "output_type": "stream",
          "name": "stdout",
          "text": [
            "2023-12-24 22:54:47,796 DEV : loss 0.33429110050201416 - f1-score (micro avg)  0.857\n",
            "2023-12-24 22:54:47,824  - 4 epochs without improvement (above 'patience')-> annealing learning_rate to [0.00625]\n",
            "2023-12-24 22:54:47,836 ----------------------------------------------------------------------------------------------------\n"
          ]
        },
        {
          "output_type": "stream",
          "name": "stderr",
          "text": [
            "\n"
          ]
        },
        {
          "output_type": "stream",
          "name": "stdout",
          "text": [
            "2023-12-24 22:54:48,841 epoch 55 - iter 19/199 - loss 0.34925267 - time (sec): 1.00 - samples/sec: 2983.16 - lr: 0.006250 - momentum: 0.000000\n",
            "2023-12-24 22:54:49,664 epoch 55 - iter 38/199 - loss 0.35963687 - time (sec): 1.82 - samples/sec: 3198.08 - lr: 0.006250 - momentum: 0.000000\n",
            "2023-12-24 22:54:50,616 epoch 55 - iter 57/199 - loss 0.35377866 - time (sec): 2.78 - samples/sec: 3176.07 - lr: 0.006250 - momentum: 0.000000\n",
            "2023-12-24 22:54:51,795 epoch 55 - iter 76/199 - loss 0.34865637 - time (sec): 3.95 - samples/sec: 3013.96 - lr: 0.006250 - momentum: 0.000000\n",
            "2023-12-24 22:54:52,809 epoch 55 - iter 95/199 - loss 0.34740228 - time (sec): 4.97 - samples/sec: 3004.59 - lr: 0.006250 - momentum: 0.000000\n",
            "2023-12-24 22:54:53,601 epoch 55 - iter 114/199 - loss 0.34498990 - time (sec): 5.76 - samples/sec: 3137.39 - lr: 0.006250 - momentum: 0.000000\n",
            "2023-12-24 22:54:54,245 epoch 55 - iter 133/199 - loss 0.34426493 - time (sec): 6.40 - samples/sec: 3298.66 - lr: 0.006250 - momentum: 0.000000\n",
            "2023-12-24 22:54:54,965 epoch 55 - iter 152/199 - loss 0.34553640 - time (sec): 7.12 - samples/sec: 3389.48 - lr: 0.006250 - momentum: 0.000000\n",
            "2023-12-24 22:54:55,659 epoch 55 - iter 171/199 - loss 0.34429433 - time (sec): 7.82 - samples/sec: 3478.18 - lr: 0.006250 - momentum: 0.000000\n",
            "2023-12-24 22:54:56,314 epoch 55 - iter 190/199 - loss 0.34563010 - time (sec): 8.47 - samples/sec: 3558.21 - lr: 0.006250 - momentum: 0.000000\n",
            "2023-12-24 22:54:56,616 ----------------------------------------------------------------------------------------------------\n",
            "2023-12-24 22:54:56,619 EPOCH 55 done: loss 0.3457 - lr: 0.006250\n"
          ]
        },
        {
          "output_type": "stream",
          "name": "stderr",
          "text": [
            "100%|██████████| 7/7 [00:00<00:00,  8.44it/s]\n"
          ]
        },
        {
          "output_type": "stream",
          "name": "stdout",
          "text": [
            "2023-12-24 22:54:57,520 DEV : loss 0.3334907591342926 - f1-score (micro avg)  0.8588\n",
            "2023-12-24 22:54:57,551  - 0 epochs without improvement\n",
            "2023-12-24 22:54:57,556 saving best model\n",
            "2023-12-24 22:55:01,944 ----------------------------------------------------------------------------------------------------\n",
            "2023-12-24 22:55:02,660 epoch 56 - iter 19/199 - loss 0.33588581 - time (sec): 0.71 - samples/sec: 4174.61 - lr: 0.006250 - momentum: 0.000000\n",
            "2023-12-24 22:55:03,573 epoch 56 - iter 38/199 - loss 0.33672929 - time (sec): 1.62 - samples/sec: 3720.98 - lr: 0.006250 - momentum: 0.000000\n",
            "2023-12-24 22:55:04,504 epoch 56 - iter 57/199 - loss 0.34718253 - time (sec): 2.55 - samples/sec: 3470.86 - lr: 0.006250 - momentum: 0.000000\n",
            "2023-12-24 22:55:05,491 epoch 56 - iter 76/199 - loss 0.34401516 - time (sec): 3.54 - samples/sec: 3363.52 - lr: 0.006250 - momentum: 0.000000\n",
            "2023-12-24 22:55:06,474 epoch 56 - iter 95/199 - loss 0.34334914 - time (sec): 4.52 - samples/sec: 3309.18 - lr: 0.006250 - momentum: 0.000000\n",
            "2023-12-24 22:55:07,466 epoch 56 - iter 114/199 - loss 0.34335339 - time (sec): 5.51 - samples/sec: 3252.68 - lr: 0.006250 - momentum: 0.000000\n",
            "2023-12-24 22:55:08,643 epoch 56 - iter 133/199 - loss 0.34015335 - time (sec): 6.69 - samples/sec: 3136.28 - lr: 0.006250 - momentum: 0.000000\n",
            "2023-12-24 22:55:09,324 epoch 56 - iter 152/199 - loss 0.33998286 - time (sec): 7.37 - samples/sec: 3264.99 - lr: 0.006250 - momentum: 0.000000\n",
            "2023-12-24 22:55:09,987 epoch 56 - iter 171/199 - loss 0.34020451 - time (sec): 8.04 - samples/sec: 3370.84 - lr: 0.006250 - momentum: 0.000000\n",
            "2023-12-24 22:55:10,720 epoch 56 - iter 190/199 - loss 0.34275440 - time (sec): 8.77 - samples/sec: 3439.88 - lr: 0.006250 - momentum: 0.000000\n",
            "2023-12-24 22:55:11,017 ----------------------------------------------------------------------------------------------------\n",
            "2023-12-24 22:55:11,019 EPOCH 56 done: loss 0.3435 - lr: 0.006250\n"
          ]
        },
        {
          "output_type": "stream",
          "name": "stderr",
          "text": [
            "100%|██████████| 7/7 [00:01<00:00,  5.18it/s]"
          ]
        },
        {
          "output_type": "stream",
          "name": "stdout",
          "text": [
            "2023-12-24 22:55:12,444 DEV : loss 0.33404481410980225 - f1-score (micro avg)  0.8567\n",
            "2023-12-24 22:55:12,463  - 1 epochs without improvement\n",
            "2023-12-24 22:55:12,469 ----------------------------------------------------------------------------------------------------\n"
          ]
        },
        {
          "output_type": "stream",
          "name": "stderr",
          "text": [
            "\n"
          ]
        },
        {
          "output_type": "stream",
          "name": "stdout",
          "text": [
            "2023-12-24 22:55:13,106 epoch 57 - iter 19/199 - loss 0.36224115 - time (sec): 0.63 - samples/sec: 4769.91 - lr: 0.006250 - momentum: 0.000000\n",
            "2023-12-24 22:55:13,806 epoch 57 - iter 38/199 - loss 0.35179266 - time (sec): 1.33 - samples/sec: 4562.57 - lr: 0.006250 - momentum: 0.000000\n",
            "2023-12-24 22:55:14,471 epoch 57 - iter 57/199 - loss 0.35126862 - time (sec): 2.00 - samples/sec: 4529.84 - lr: 0.006250 - momentum: 0.000000\n",
            "2023-12-24 22:55:15,066 epoch 57 - iter 76/199 - loss 0.35312164 - time (sec): 2.59 - samples/sec: 4575.73 - lr: 0.006250 - momentum: 0.000000\n",
            "2023-12-24 22:55:15,939 epoch 57 - iter 95/199 - loss 0.34600199 - time (sec): 3.47 - samples/sec: 4313.56 - lr: 0.006250 - momentum: 0.000000\n",
            "2023-12-24 22:55:16,580 epoch 57 - iter 114/199 - loss 0.34715831 - time (sec): 4.11 - samples/sec: 4349.59 - lr: 0.006250 - momentum: 0.000000\n",
            "2023-12-24 22:55:17,383 epoch 57 - iter 133/199 - loss 0.34508023 - time (sec): 4.91 - samples/sec: 4279.78 - lr: 0.006250 - momentum: 0.000000\n",
            "2023-12-24 22:55:18,055 epoch 57 - iter 152/199 - loss 0.34490917 - time (sec): 5.58 - samples/sec: 4302.51 - lr: 0.006250 - momentum: 0.000000\n",
            "2023-12-24 22:55:18,875 epoch 57 - iter 171/199 - loss 0.34293101 - time (sec): 6.40 - samples/sec: 4244.69 - lr: 0.006250 - momentum: 0.000000\n",
            "2023-12-24 22:55:19,822 epoch 57 - iter 190/199 - loss 0.34404311 - time (sec): 7.35 - samples/sec: 4099.35 - lr: 0.006250 - momentum: 0.000000\n",
            "2023-12-24 22:55:20,301 ----------------------------------------------------------------------------------------------------\n",
            "2023-12-24 22:55:20,304 EPOCH 57 done: loss 0.3439 - lr: 0.006250\n"
          ]
        },
        {
          "output_type": "stream",
          "name": "stderr",
          "text": [
            "100%|██████████| 7/7 [00:01<00:00,  4.75it/s]"
          ]
        },
        {
          "output_type": "stream",
          "name": "stdout",
          "text": [
            "2023-12-24 22:55:21,865 DEV : loss 0.33249399065971375 - f1-score (micro avg)  0.859\n",
            "2023-12-24 22:55:21,897  - 0 epochs without improvement\n",
            "2023-12-24 22:55:21,912 saving best model\n"
          ]
        },
        {
          "output_type": "stream",
          "name": "stderr",
          "text": [
            "\n"
          ]
        },
        {
          "output_type": "stream",
          "name": "stdout",
          "text": [
            "2023-12-24 22:55:29,667 ----------------------------------------------------------------------------------------------------\n",
            "2023-12-24 22:55:30,385 epoch 58 - iter 19/199 - loss 0.34101353 - time (sec): 0.71 - samples/sec: 4253.21 - lr: 0.006250 - momentum: 0.000000\n",
            "2023-12-24 22:55:31,165 epoch 58 - iter 38/199 - loss 0.33183272 - time (sec): 1.49 - samples/sec: 4121.04 - lr: 0.006250 - momentum: 0.000000\n",
            "2023-12-24 22:55:31,807 epoch 58 - iter 57/199 - loss 0.34037392 - time (sec): 2.14 - samples/sec: 4286.96 - lr: 0.006250 - momentum: 0.000000\n",
            "2023-12-24 22:55:32,413 epoch 58 - iter 76/199 - loss 0.34540092 - time (sec): 2.74 - samples/sec: 4374.53 - lr: 0.006250 - momentum: 0.000000\n",
            "2023-12-24 22:55:33,092 epoch 58 - iter 95/199 - loss 0.34646402 - time (sec): 3.42 - samples/sec: 4377.60 - lr: 0.006250 - momentum: 0.000000\n",
            "2023-12-24 22:55:33,752 epoch 58 - iter 114/199 - loss 0.34615521 - time (sec): 4.08 - samples/sec: 4383.87 - lr: 0.006250 - momentum: 0.000000\n",
            "2023-12-24 22:55:34,524 epoch 58 - iter 133/199 - loss 0.34598791 - time (sec): 4.85 - samples/sec: 4323.28 - lr: 0.006250 - momentum: 0.000000\n",
            "2023-12-24 22:55:35,484 epoch 58 - iter 152/199 - loss 0.34467459 - time (sec): 5.81 - samples/sec: 4140.99 - lr: 0.006250 - momentum: 0.000000\n",
            "2023-12-24 22:55:36,411 epoch 58 - iter 171/199 - loss 0.34393476 - time (sec): 6.74 - samples/sec: 4018.61 - lr: 0.006250 - momentum: 0.000000\n",
            "2023-12-24 22:55:37,440 epoch 58 - iter 190/199 - loss 0.34231323 - time (sec): 7.77 - samples/sec: 3877.10 - lr: 0.006250 - momentum: 0.000000\n",
            "2023-12-24 22:55:37,920 ----------------------------------------------------------------------------------------------------\n",
            "2023-12-24 22:55:37,929 EPOCH 58 done: loss 0.3422 - lr: 0.006250\n"
          ]
        },
        {
          "output_type": "stream",
          "name": "stderr",
          "text": [
            "100%|██████████| 7/7 [00:01<00:00,  5.30it/s]"
          ]
        },
        {
          "output_type": "stream",
          "name": "stdout",
          "text": [
            "2023-12-24 22:55:39,336 DEV : loss 0.33347997069358826 - f1-score (micro avg)  0.8567\n",
            "2023-12-24 22:55:39,365  - 1 epochs without improvement\n",
            "2023-12-24 22:55:39,374 ----------------------------------------------------------------------------------------------------\n"
          ]
        },
        {
          "output_type": "stream",
          "name": "stderr",
          "text": [
            "\n"
          ]
        },
        {
          "output_type": "stream",
          "name": "stdout",
          "text": [
            "2023-12-24 22:55:40,230 epoch 59 - iter 19/199 - loss 0.33792312 - time (sec): 0.85 - samples/sec: 3485.43 - lr: 0.006250 - momentum: 0.000000\n",
            "2023-12-24 22:55:40,970 epoch 59 - iter 38/199 - loss 0.33604332 - time (sec): 1.59 - samples/sec: 3804.91 - lr: 0.006250 - momentum: 0.000000\n",
            "2023-12-24 22:55:41,621 epoch 59 - iter 57/199 - loss 0.34158852 - time (sec): 2.24 - samples/sec: 4033.13 - lr: 0.006250 - momentum: 0.000000\n",
            "2023-12-24 22:55:42,434 epoch 59 - iter 76/199 - loss 0.34017391 - time (sec): 3.05 - samples/sec: 3981.12 - lr: 0.006250 - momentum: 0.000000\n",
            "2023-12-24 22:55:43,167 epoch 59 - iter 95/199 - loss 0.33752941 - time (sec): 3.79 - samples/sec: 4043.65 - lr: 0.006250 - momentum: 0.000000\n",
            "2023-12-24 22:55:43,814 epoch 59 - iter 114/199 - loss 0.34169445 - time (sec): 4.43 - samples/sec: 4119.44 - lr: 0.006250 - momentum: 0.000000\n",
            "2023-12-24 22:55:44,479 epoch 59 - iter 133/199 - loss 0.34072098 - time (sec): 5.10 - samples/sec: 4188.59 - lr: 0.006250 - momentum: 0.000000\n",
            "2023-12-24 22:55:45,091 epoch 59 - iter 152/199 - loss 0.34146877 - time (sec): 5.71 - samples/sec: 4258.27 - lr: 0.006250 - momentum: 0.000000\n",
            "2023-12-24 22:55:45,730 epoch 59 - iter 171/199 - loss 0.34250103 - time (sec): 6.35 - samples/sec: 4286.10 - lr: 0.006250 - momentum: 0.000000\n",
            "2023-12-24 22:55:46,357 epoch 59 - iter 190/199 - loss 0.34366024 - time (sec): 6.98 - samples/sec: 4324.56 - lr: 0.006250 - momentum: 0.000000\n",
            "2023-12-24 22:55:46,655 ----------------------------------------------------------------------------------------------------\n",
            "2023-12-24 22:55:46,660 EPOCH 59 done: loss 0.3444 - lr: 0.006250\n"
          ]
        },
        {
          "output_type": "stream",
          "name": "stderr",
          "text": [
            "100%|██████████| 7/7 [00:00<00:00,  8.02it/s]\n"
          ]
        },
        {
          "output_type": "stream",
          "name": "stdout",
          "text": [
            "2023-12-24 22:55:47,605 DEV : loss 0.33261382579803467 - f1-score (micro avg)  0.8588\n",
            "2023-12-24 22:55:47,625  - 2 epochs without improvement\n",
            "2023-12-24 22:55:47,630 ----------------------------------------------------------------------------------------------------\n",
            "2023-12-24 22:55:48,298 epoch 60 - iter 19/199 - loss 0.34475845 - time (sec): 0.66 - samples/sec: 4479.11 - lr: 0.006250 - momentum: 0.000000\n",
            "2023-12-24 22:55:48,984 epoch 60 - iter 38/199 - loss 0.34985464 - time (sec): 1.35 - samples/sec: 4447.13 - lr: 0.006250 - momentum: 0.000000\n",
            "2023-12-24 22:55:49,647 epoch 60 - iter 57/199 - loss 0.34551410 - time (sec): 2.01 - samples/sec: 4449.70 - lr: 0.006250 - momentum: 0.000000\n",
            "2023-12-24 22:55:50,397 epoch 60 - iter 76/199 - loss 0.34762904 - time (sec): 2.76 - samples/sec: 4318.59 - lr: 0.006250 - momentum: 0.000000\n",
            "2023-12-24 22:55:51,344 epoch 60 - iter 95/199 - loss 0.34852549 - time (sec): 3.71 - samples/sec: 4024.45 - lr: 0.006250 - momentum: 0.000000\n",
            "2023-12-24 22:55:52,548 epoch 60 - iter 114/199 - loss 0.34533214 - time (sec): 4.91 - samples/sec: 3682.27 - lr: 0.006250 - momentum: 0.000000\n",
            "2023-12-24 22:55:53,447 epoch 60 - iter 133/199 - loss 0.34648451 - time (sec): 5.81 - samples/sec: 3624.03 - lr: 0.006250 - momentum: 0.000000\n",
            "2023-12-24 22:55:54,504 epoch 60 - iter 152/199 - loss 0.34495414 - time (sec): 6.87 - samples/sec: 3519.63 - lr: 0.006250 - momentum: 0.000000\n",
            "2023-12-24 22:55:55,439 epoch 60 - iter 171/199 - loss 0.34410584 - time (sec): 7.80 - samples/sec: 3473.78 - lr: 0.006250 - momentum: 0.000000\n",
            "2023-12-24 22:55:56,189 epoch 60 - iter 190/199 - loss 0.34398739 - time (sec): 8.55 - samples/sec: 3513.11 - lr: 0.006250 - momentum: 0.000000\n",
            "2023-12-24 22:55:56,568 ----------------------------------------------------------------------------------------------------\n",
            "2023-12-24 22:55:56,571 EPOCH 60 done: loss 0.3431 - lr: 0.006250\n"
          ]
        },
        {
          "output_type": "stream",
          "name": "stderr",
          "text": [
            "100%|██████████| 7/7 [00:00<00:00,  8.04it/s]"
          ]
        },
        {
          "output_type": "stream",
          "name": "stdout",
          "text": [
            "2023-12-24 22:55:57,495 DEV : loss 0.3320372700691223 - f1-score (micro avg)  0.8588\n",
            "2023-12-24 22:55:57,519  - 3 epochs without improvement\n",
            "2023-12-24 22:55:57,526 ----------------------------------------------------------------------------------------------------\n"
          ]
        },
        {
          "output_type": "stream",
          "name": "stderr",
          "text": [
            "\n"
          ]
        },
        {
          "output_type": "stream",
          "name": "stdout",
          "text": [
            "2023-12-24 22:55:58,120 epoch 61 - iter 19/199 - loss 0.34324937 - time (sec): 0.59 - samples/sec: 4976.25 - lr: 0.006250 - momentum: 0.000000\n",
            "2023-12-24 22:55:58,866 epoch 61 - iter 38/199 - loss 0.33389375 - time (sec): 1.34 - samples/sec: 4532.66 - lr: 0.006250 - momentum: 0.000000\n",
            "2023-12-24 22:55:59,449 epoch 61 - iter 57/199 - loss 0.34214079 - time (sec): 1.92 - samples/sec: 4696.56 - lr: 0.006250 - momentum: 0.000000\n",
            "2023-12-24 22:56:00,155 epoch 61 - iter 76/199 - loss 0.34505129 - time (sec): 2.62 - samples/sec: 4563.15 - lr: 0.006250 - momentum: 0.000000\n",
            "2023-12-24 22:56:00,978 epoch 61 - iter 95/199 - loss 0.34273234 - time (sec): 3.45 - samples/sec: 4407.78 - lr: 0.006250 - momentum: 0.000000\n",
            "2023-12-24 22:56:01,696 epoch 61 - iter 114/199 - loss 0.34218310 - time (sec): 4.17 - samples/sec: 4369.03 - lr: 0.006250 - momentum: 0.000000\n",
            "2023-12-24 22:56:02,342 epoch 61 - iter 133/199 - loss 0.34503312 - time (sec): 4.81 - samples/sec: 4393.62 - lr: 0.006250 - momentum: 0.000000\n",
            "2023-12-24 22:56:03,026 epoch 61 - iter 152/199 - loss 0.34664029 - time (sec): 5.50 - samples/sec: 4403.68 - lr: 0.006250 - momentum: 0.000000\n",
            "2023-12-24 22:56:03,662 epoch 61 - iter 171/199 - loss 0.34571620 - time (sec): 6.13 - samples/sec: 4430.24 - lr: 0.006250 - momentum: 0.000000\n",
            "2023-12-24 22:56:04,366 epoch 61 - iter 190/199 - loss 0.34500749 - time (sec): 6.84 - samples/sec: 4413.63 - lr: 0.006250 - momentum: 0.000000\n",
            "2023-12-24 22:56:04,655 ----------------------------------------------------------------------------------------------------\n",
            "2023-12-24 22:56:04,657 EPOCH 61 done: loss 0.3444 - lr: 0.006250\n"
          ]
        },
        {
          "output_type": "stream",
          "name": "stderr",
          "text": [
            "100%|██████████| 7/7 [00:00<00:00,  8.22it/s]\n"
          ]
        },
        {
          "output_type": "stream",
          "name": "stdout",
          "text": [
            "2023-12-24 22:56:05,566 DEV : loss 0.33460626006126404 - f1-score (micro avg)  0.8575\n",
            "2023-12-24 22:56:05,586  - 4 epochs without improvement (above 'patience')-> annealing learning_rate to [0.003125]\n",
            "2023-12-24 22:56:05,593 ----------------------------------------------------------------------------------------------------\n",
            "2023-12-24 22:56:06,505 epoch 62 - iter 19/199 - loss 0.34718524 - time (sec): 0.91 - samples/sec: 3246.18 - lr: 0.003125 - momentum: 0.000000\n",
            "2023-12-24 22:56:07,577 epoch 62 - iter 38/199 - loss 0.34464752 - time (sec): 1.98 - samples/sec: 3073.98 - lr: 0.003125 - momentum: 0.000000\n",
            "2023-12-24 22:56:08,514 epoch 62 - iter 57/199 - loss 0.34629339 - time (sec): 2.92 - samples/sec: 3092.11 - lr: 0.003125 - momentum: 0.000000\n",
            "2023-12-24 22:56:09,374 epoch 62 - iter 76/199 - loss 0.34866358 - time (sec): 3.78 - samples/sec: 3147.30 - lr: 0.003125 - momentum: 0.000000\n",
            "2023-12-24 22:56:10,363 epoch 62 - iter 95/199 - loss 0.34413004 - time (sec): 4.76 - samples/sec: 3141.19 - lr: 0.003125 - momentum: 0.000000\n",
            "2023-12-24 22:56:11,391 epoch 62 - iter 114/199 - loss 0.34449357 - time (sec): 5.79 - samples/sec: 3111.01 - lr: 0.003125 - momentum: 0.000000\n",
            "2023-12-24 22:56:12,123 epoch 62 - iter 133/199 - loss 0.34442424 - time (sec): 6.53 - samples/sec: 3218.03 - lr: 0.003125 - momentum: 0.000000\n",
            "2023-12-24 22:56:12,814 epoch 62 - iter 152/199 - loss 0.34252286 - time (sec): 7.22 - samples/sec: 3323.98 - lr: 0.003125 - momentum: 0.000000\n",
            "2023-12-24 22:56:13,535 epoch 62 - iter 171/199 - loss 0.34103540 - time (sec): 7.94 - samples/sec: 3402.32 - lr: 0.003125 - momentum: 0.000000\n",
            "2023-12-24 22:56:14,316 epoch 62 - iter 190/199 - loss 0.33998459 - time (sec): 8.72 - samples/sec: 3453.04 - lr: 0.003125 - momentum: 0.000000\n",
            "2023-12-24 22:56:14,600 ----------------------------------------------------------------------------------------------------\n",
            "2023-12-24 22:56:14,602 EPOCH 62 done: loss 0.3417 - lr: 0.003125\n"
          ]
        },
        {
          "output_type": "stream",
          "name": "stderr",
          "text": [
            "100%|██████████| 7/7 [00:00<00:00,  8.06it/s]\n"
          ]
        },
        {
          "output_type": "stream",
          "name": "stdout",
          "text": [
            "2023-12-24 22:56:15,535 DEV : loss 0.3350558578968048 - f1-score (micro avg)  0.8593\n",
            "2023-12-24 22:56:15,556  - 0 epochs without improvement\n",
            "2023-12-24 22:56:15,564 saving best model\n",
            "2023-12-24 22:56:20,508 ----------------------------------------------------------------------------------------------------\n",
            "2023-12-24 22:56:21,190 epoch 63 - iter 19/199 - loss 0.34589582 - time (sec): 0.67 - samples/sec: 4354.57 - lr: 0.003125 - momentum: 0.000000\n",
            "2023-12-24 22:56:21,968 epoch 63 - iter 38/199 - loss 0.35152478 - time (sec): 1.45 - samples/sec: 4002.91 - lr: 0.003125 - momentum: 0.000000\n",
            "2023-12-24 22:56:22,889 epoch 63 - iter 57/199 - loss 0.35097337 - time (sec): 2.37 - samples/sec: 3692.66 - lr: 0.003125 - momentum: 0.000000\n",
            "2023-12-24 22:56:23,950 epoch 63 - iter 76/199 - loss 0.34637075 - time (sec): 3.43 - samples/sec: 3413.76 - lr: 0.003125 - momentum: 0.000000\n",
            "2023-12-24 22:56:24,924 epoch 63 - iter 95/199 - loss 0.34551591 - time (sec): 4.40 - samples/sec: 3345.96 - lr: 0.003125 - momentum: 0.000000\n",
            "2023-12-24 22:56:25,830 epoch 63 - iter 114/199 - loss 0.34510498 - time (sec): 5.31 - samples/sec: 3337.31 - lr: 0.003125 - momentum: 0.000000\n",
            "2023-12-24 22:56:26,788 epoch 63 - iter 133/199 - loss 0.34675753 - time (sec): 6.27 - samples/sec: 3304.01 - lr: 0.003125 - momentum: 0.000000\n",
            "2023-12-24 22:56:27,610 epoch 63 - iter 152/199 - loss 0.34533945 - time (sec): 7.09 - samples/sec: 3363.15 - lr: 0.003125 - momentum: 0.000000\n",
            "2023-12-24 22:56:28,389 epoch 63 - iter 171/199 - loss 0.34388273 - time (sec): 7.87 - samples/sec: 3434.24 - lr: 0.003125 - momentum: 0.000000\n",
            "2023-12-24 22:56:29,224 epoch 63 - iter 190/199 - loss 0.34309647 - time (sec): 8.70 - samples/sec: 3459.16 - lr: 0.003125 - momentum: 0.000000\n",
            "2023-12-24 22:56:29,689 ----------------------------------------------------------------------------------------------------\n",
            "2023-12-24 22:56:29,692 EPOCH 63 done: loss 0.3425 - lr: 0.003125\n"
          ]
        },
        {
          "output_type": "stream",
          "name": "stderr",
          "text": [
            "100%|██████████| 7/7 [00:01<00:00,  5.28it/s]"
          ]
        },
        {
          "output_type": "stream",
          "name": "stdout",
          "text": [
            "2023-12-24 22:56:31,104 DEV : loss 0.3317132890224457 - f1-score (micro avg)  0.8593\n",
            "2023-12-24 22:56:31,131  - 0 epochs without improvement\n",
            "2023-12-24 22:56:31,140 ----------------------------------------------------------------------------------------------------\n"
          ]
        },
        {
          "output_type": "stream",
          "name": "stderr",
          "text": [
            "\n"
          ]
        },
        {
          "output_type": "stream",
          "name": "stdout",
          "text": [
            "2023-12-24 22:56:31,970 epoch 64 - iter 19/199 - loss 0.35933795 - time (sec): 0.83 - samples/sec: 3484.73 - lr: 0.003125 - momentum: 0.000000\n",
            "2023-12-24 22:56:33,155 epoch 64 - iter 38/199 - loss 0.33543790 - time (sec): 2.01 - samples/sec: 3008.89 - lr: 0.003125 - momentum: 0.000000\n",
            "2023-12-24 22:56:34,292 epoch 64 - iter 57/199 - loss 0.33301659 - time (sec): 3.15 - samples/sec: 2913.48 - lr: 0.003125 - momentum: 0.000000\n",
            "2023-12-24 22:56:34,975 epoch 64 - iter 76/199 - loss 0.33743444 - time (sec): 3.83 - samples/sec: 3183.54 - lr: 0.003125 - momentum: 0.000000\n",
            "2023-12-24 22:56:35,864 epoch 64 - iter 95/199 - loss 0.34220610 - time (sec): 4.72 - samples/sec: 3186.76 - lr: 0.003125 - momentum: 0.000000\n",
            "2023-12-24 22:56:37,161 epoch 64 - iter 114/199 - loss 0.34026174 - time (sec): 6.02 - samples/sec: 3027.08 - lr: 0.003125 - momentum: 0.000000\n",
            "2023-12-24 22:56:38,296 epoch 64 - iter 133/199 - loss 0.34377490 - time (sec): 7.15 - samples/sec: 2972.12 - lr: 0.003125 - momentum: 0.000000\n",
            "2023-12-24 22:56:39,347 epoch 64 - iter 152/199 - loss 0.34415123 - time (sec): 8.20 - samples/sec: 2954.05 - lr: 0.003125 - momentum: 0.000000\n",
            "2023-12-24 22:56:40,205 epoch 64 - iter 171/199 - loss 0.34534064 - time (sec): 9.06 - samples/sec: 2994.08 - lr: 0.003125 - momentum: 0.000000\n",
            "2023-12-24 22:56:41,367 epoch 64 - iter 190/199 - loss 0.34426984 - time (sec): 10.22 - samples/sec: 2950.67 - lr: 0.003125 - momentum: 0.000000\n",
            "2023-12-24 22:56:41,796 ----------------------------------------------------------------------------------------------------\n",
            "2023-12-24 22:56:41,805 EPOCH 64 done: loss 0.3436 - lr: 0.003125\n"
          ]
        },
        {
          "output_type": "stream",
          "name": "stderr",
          "text": [
            "100%|██████████| 7/7 [00:01<00:00,  5.89it/s]"
          ]
        },
        {
          "output_type": "stream",
          "name": "stdout",
          "text": [
            "2023-12-24 22:56:43,051 DEV : loss 0.33223047852516174 - f1-score (micro avg)  0.8588\n",
            "2023-12-24 22:56:43,071  - 1 epochs without improvement\n",
            "2023-12-24 22:56:43,078 ----------------------------------------------------------------------------------------------------\n"
          ]
        },
        {
          "output_type": "stream",
          "name": "stderr",
          "text": [
            "\n"
          ]
        },
        {
          "output_type": "stream",
          "name": "stdout",
          "text": [
            "2023-12-24 22:56:43,766 epoch 65 - iter 19/199 - loss 0.33260880 - time (sec): 0.68 - samples/sec: 4539.76 - lr: 0.003125 - momentum: 0.000000\n",
            "2023-12-24 22:56:44,329 epoch 65 - iter 38/199 - loss 0.34429145 - time (sec): 1.25 - samples/sec: 4808.78 - lr: 0.003125 - momentum: 0.000000\n",
            "2023-12-24 22:56:45,076 epoch 65 - iter 57/199 - loss 0.33673590 - time (sec): 1.99 - samples/sec: 4543.23 - lr: 0.003125 - momentum: 0.000000\n",
            "2023-12-24 22:56:45,762 epoch 65 - iter 76/199 - loss 0.33341761 - time (sec): 2.68 - samples/sec: 4502.54 - lr: 0.003125 - momentum: 0.000000\n",
            "2023-12-24 22:56:46,343 epoch 65 - iter 95/199 - loss 0.33649139 - time (sec): 3.26 - samples/sec: 4601.39 - lr: 0.003125 - momentum: 0.000000\n",
            "2023-12-24 22:56:47,105 epoch 65 - iter 114/199 - loss 0.33746878 - time (sec): 4.02 - samples/sec: 4507.27 - lr: 0.003125 - momentum: 0.000000\n",
            "2023-12-24 22:56:47,793 epoch 65 - iter 133/199 - loss 0.33564759 - time (sec): 4.71 - samples/sec: 4498.26 - lr: 0.003125 - momentum: 0.000000\n",
            "2023-12-24 22:56:48,469 epoch 65 - iter 152/199 - loss 0.33529881 - time (sec): 5.39 - samples/sec: 4475.15 - lr: 0.003125 - momentum: 0.000000\n",
            "2023-12-24 22:56:49,140 epoch 65 - iter 171/199 - loss 0.33665858 - time (sec): 6.06 - samples/sec: 4475.82 - lr: 0.003125 - momentum: 0.000000\n",
            "2023-12-24 22:56:49,749 epoch 65 - iter 190/199 - loss 0.33864747 - time (sec): 6.67 - samples/sec: 4523.18 - lr: 0.003125 - momentum: 0.000000\n",
            "2023-12-24 22:56:50,052 ----------------------------------------------------------------------------------------------------\n",
            "2023-12-24 22:56:50,054 EPOCH 65 done: loss 0.3403 - lr: 0.003125\n"
          ]
        },
        {
          "output_type": "stream",
          "name": "stderr",
          "text": [
            "100%|██████████| 7/7 [00:00<00:00,  8.24it/s]\n"
          ]
        },
        {
          "output_type": "stream",
          "name": "stdout",
          "text": [
            "2023-12-24 22:56:50,968 DEV : loss 0.33135032653808594 - f1-score (micro avg)  0.8595\n",
            "2023-12-24 22:56:50,988  - 0 epochs without improvement\n",
            "2023-12-24 22:56:50,994 saving best model\n",
            "2023-12-24 22:56:56,889 ----------------------------------------------------------------------------------------------------\n",
            "2023-12-24 22:56:58,189 epoch 66 - iter 19/199 - loss 0.33379845 - time (sec): 1.29 - samples/sec: 2402.86 - lr: 0.003125 - momentum: 0.000000\n",
            "2023-12-24 22:56:58,936 epoch 66 - iter 38/199 - loss 0.33483992 - time (sec): 2.03 - samples/sec: 2972.67 - lr: 0.003125 - momentum: 0.000000\n",
            "2023-12-24 22:56:59,606 epoch 66 - iter 57/199 - loss 0.33617570 - time (sec): 2.70 - samples/sec: 3341.46 - lr: 0.003125 - momentum: 0.000000\n",
            "2023-12-24 22:57:00,295 epoch 66 - iter 76/199 - loss 0.33540722 - time (sec): 3.39 - samples/sec: 3572.20 - lr: 0.003125 - momentum: 0.000000\n",
            "2023-12-24 22:57:01,009 epoch 66 - iter 95/199 - loss 0.33426467 - time (sec): 4.11 - samples/sec: 3683.28 - lr: 0.003125 - momentum: 0.000000\n",
            "2023-12-24 22:57:01,631 epoch 66 - iter 114/199 - loss 0.33716985 - time (sec): 4.73 - samples/sec: 3805.33 - lr: 0.003125 - momentum: 0.000000\n",
            "2023-12-24 22:57:02,276 epoch 66 - iter 133/199 - loss 0.33872844 - time (sec): 5.37 - samples/sec: 3898.41 - lr: 0.003125 - momentum: 0.000000\n",
            "2023-12-24 22:57:02,947 epoch 66 - iter 152/199 - loss 0.33964240 - time (sec): 6.04 - samples/sec: 3967.11 - lr: 0.003125 - momentum: 0.000000\n",
            "2023-12-24 22:57:03,663 epoch 66 - iter 171/199 - loss 0.34007135 - time (sec): 6.76 - samples/sec: 3996.09 - lr: 0.003125 - momentum: 0.000000\n",
            "2023-12-24 22:57:04,315 epoch 66 - iter 190/199 - loss 0.34028552 - time (sec): 7.41 - samples/sec: 4063.58 - lr: 0.003125 - momentum: 0.000000\n",
            "2023-12-24 22:57:04,597 ----------------------------------------------------------------------------------------------------\n",
            "2023-12-24 22:57:04,599 EPOCH 66 done: loss 0.3418 - lr: 0.003125\n"
          ]
        },
        {
          "output_type": "stream",
          "name": "stderr",
          "text": [
            "100%|██████████| 7/7 [00:00<00:00,  8.26it/s]\n"
          ]
        },
        {
          "output_type": "stream",
          "name": "stdout",
          "text": [
            "2023-12-24 22:57:05,507 DEV : loss 0.33130937814712524 - f1-score (micro avg)  0.859\n",
            "2023-12-24 22:57:05,528  - 1 epochs without improvement\n",
            "2023-12-24 22:57:05,534 ----------------------------------------------------------------------------------------------------\n",
            "2023-12-24 22:57:06,224 epoch 67 - iter 19/199 - loss 0.32342059 - time (sec): 0.68 - samples/sec: 4463.21 - lr: 0.003125 - momentum: 0.000000\n",
            "2023-12-24 22:57:06,821 epoch 67 - iter 38/199 - loss 0.33407280 - time (sec): 1.28 - samples/sec: 4663.78 - lr: 0.003125 - momentum: 0.000000\n",
            "2023-12-24 22:57:07,481 epoch 67 - iter 57/199 - loss 0.33839982 - time (sec): 1.94 - samples/sec: 4618.23 - lr: 0.003125 - momentum: 0.000000\n",
            "2023-12-24 22:57:08,118 epoch 67 - iter 76/199 - loss 0.33833864 - time (sec): 2.58 - samples/sec: 4659.61 - lr: 0.003125 - momentum: 0.000000\n",
            "2023-12-24 22:57:08,930 epoch 67 - iter 95/199 - loss 0.34210897 - time (sec): 3.39 - samples/sec: 4427.40 - lr: 0.003125 - momentum: 0.000000\n",
            "2023-12-24 22:57:09,767 epoch 67 - iter 114/199 - loss 0.34670531 - time (sec): 4.23 - samples/sec: 4236.82 - lr: 0.003125 - momentum: 0.000000\n",
            "2023-12-24 22:57:10,820 epoch 67 - iter 133/199 - loss 0.34504274 - time (sec): 5.28 - samples/sec: 3963.61 - lr: 0.003125 - momentum: 0.000000\n",
            "2023-12-24 22:57:11,934 epoch 67 - iter 152/199 - loss 0.34457719 - time (sec): 6.39 - samples/sec: 3751.31 - lr: 0.003125 - momentum: 0.000000\n",
            "2023-12-24 22:57:13,013 epoch 67 - iter 171/199 - loss 0.34432859 - time (sec): 7.47 - samples/sec: 3618.63 - lr: 0.003125 - momentum: 0.000000\n",
            "2023-12-24 22:57:14,029 epoch 67 - iter 190/199 - loss 0.34366905 - time (sec): 8.49 - samples/sec: 3544.43 - lr: 0.003125 - momentum: 0.000000\n",
            "2023-12-24 22:57:14,397 ----------------------------------------------------------------------------------------------------\n",
            "2023-12-24 22:57:14,398 EPOCH 67 done: loss 0.3435 - lr: 0.003125\n"
          ]
        },
        {
          "output_type": "stream",
          "name": "stderr",
          "text": [
            "100%|██████████| 7/7 [00:01<00:00,  5.31it/s]\n"
          ]
        },
        {
          "output_type": "stream",
          "name": "stdout",
          "text": [
            "2023-12-24 22:57:15,781 DEV : loss 0.3311786949634552 - f1-score (micro avg)  0.8593\n",
            "2023-12-24 22:57:15,804  - 2 epochs without improvement\n",
            "2023-12-24 22:57:15,810 ----------------------------------------------------------------------------------------------------\n",
            "2023-12-24 22:57:16,506 epoch 68 - iter 19/199 - loss 0.33443521 - time (sec): 0.69 - samples/sec: 4381.86 - lr: 0.003125 - momentum: 0.000000\n",
            "2023-12-24 22:57:17,213 epoch 68 - iter 38/199 - loss 0.34454664 - time (sec): 1.40 - samples/sec: 4348.60 - lr: 0.003125 - momentum: 0.000000\n",
            "2023-12-24 22:57:17,858 epoch 68 - iter 57/199 - loss 0.34783447 - time (sec): 2.04 - samples/sec: 4444.90 - lr: 0.003125 - momentum: 0.000000\n",
            "2023-12-24 22:57:18,472 epoch 68 - iter 76/199 - loss 0.34592563 - time (sec): 2.66 - samples/sec: 4550.76 - lr: 0.003125 - momentum: 0.000000\n",
            "2023-12-24 22:57:19,044 epoch 68 - iter 95/199 - loss 0.34835432 - time (sec): 3.23 - samples/sec: 4636.44 - lr: 0.003125 - momentum: 0.000000\n",
            "2023-12-24 22:57:19,675 epoch 68 - iter 114/199 - loss 0.34818301 - time (sec): 3.86 - samples/sec: 4658.13 - lr: 0.003125 - momentum: 0.000000\n",
            "2023-12-24 22:57:20,331 epoch 68 - iter 133/199 - loss 0.34651804 - time (sec): 4.52 - samples/sec: 4665.92 - lr: 0.003125 - momentum: 0.000000\n",
            "2023-12-24 22:57:21,017 epoch 68 - iter 152/199 - loss 0.34610593 - time (sec): 5.20 - samples/sec: 4623.41 - lr: 0.003125 - momentum: 0.000000\n",
            "2023-12-24 22:57:21,772 epoch 68 - iter 171/199 - loss 0.34448526 - time (sec): 5.96 - samples/sec: 4546.93 - lr: 0.003125 - momentum: 0.000000\n",
            "2023-12-24 22:57:22,457 epoch 68 - iter 190/199 - loss 0.34431874 - time (sec): 6.64 - samples/sec: 4545.05 - lr: 0.003125 - momentum: 0.000000\n",
            "2023-12-24 22:57:22,735 ----------------------------------------------------------------------------------------------------\n",
            "2023-12-24 22:57:22,737 EPOCH 68 done: loss 0.3438 - lr: 0.003125\n"
          ]
        },
        {
          "output_type": "stream",
          "name": "stderr",
          "text": [
            "100%|██████████| 7/7 [00:00<00:00,  7.58it/s]"
          ]
        },
        {
          "output_type": "stream",
          "name": "stdout",
          "text": [
            "2023-12-24 22:57:23,718 DEV : loss 0.33135828375816345 - f1-score (micro avg)  0.859\n",
            "2023-12-24 22:57:23,743  - 3 epochs without improvement\n",
            "2023-12-24 22:57:23,749 ----------------------------------------------------------------------------------------------------\n"
          ]
        },
        {
          "output_type": "stream",
          "name": "stderr",
          "text": [
            "\n"
          ]
        },
        {
          "output_type": "stream",
          "name": "stdout",
          "text": [
            "2023-12-24 22:57:24,663 epoch 69 - iter 19/199 - loss 0.36372947 - time (sec): 0.91 - samples/sec: 3188.83 - lr: 0.003125 - momentum: 0.000000\n",
            "2023-12-24 22:57:25,676 epoch 69 - iter 38/199 - loss 0.34487102 - time (sec): 1.92 - samples/sec: 3172.63 - lr: 0.003125 - momentum: 0.000000\n",
            "2023-12-24 22:57:26,640 epoch 69 - iter 57/199 - loss 0.34569170 - time (sec): 2.88 - samples/sec: 3149.19 - lr: 0.003125 - momentum: 0.000000\n",
            "2023-12-24 22:57:27,824 epoch 69 - iter 76/199 - loss 0.34065426 - time (sec): 4.07 - samples/sec: 3020.24 - lr: 0.003125 - momentum: 0.000000\n",
            "2023-12-24 22:57:28,818 epoch 69 - iter 95/199 - loss 0.33971588 - time (sec): 5.06 - samples/sec: 3039.66 - lr: 0.003125 - momentum: 0.000000\n",
            "2023-12-24 22:57:29,704 epoch 69 - iter 114/199 - loss 0.34129827 - time (sec): 5.95 - samples/sec: 3085.90 - lr: 0.003125 - momentum: 0.000000\n",
            "2023-12-24 22:57:30,324 epoch 69 - iter 133/199 - loss 0.34492314 - time (sec): 6.57 - samples/sec: 3234.68 - lr: 0.003125 - momentum: 0.000000\n",
            "2023-12-24 22:57:30,970 epoch 69 - iter 152/199 - loss 0.34546308 - time (sec): 7.22 - samples/sec: 3367.18 - lr: 0.003125 - momentum: 0.000000\n",
            "2023-12-24 22:57:31,591 epoch 69 - iter 171/199 - loss 0.34447450 - time (sec): 7.84 - samples/sec: 3470.31 - lr: 0.003125 - momentum: 0.000000\n",
            "2023-12-24 22:57:32,254 epoch 69 - iter 190/199 - loss 0.34389623 - time (sec): 8.50 - samples/sec: 3548.90 - lr: 0.003125 - momentum: 0.000000\n",
            "2023-12-24 22:57:32,558 ----------------------------------------------------------------------------------------------------\n",
            "2023-12-24 22:57:32,559 EPOCH 69 done: loss 0.3439 - lr: 0.003125\n"
          ]
        },
        {
          "output_type": "stream",
          "name": "stderr",
          "text": [
            "100%|██████████| 7/7 [00:00<00:00,  8.00it/s]\n"
          ]
        },
        {
          "output_type": "stream",
          "name": "stdout",
          "text": [
            "2023-12-24 22:57:33,497 DEV : loss 0.33135879039764404 - f1-score (micro avg)  0.8593\n",
            "2023-12-24 22:57:33,518  - 4 epochs without improvement (above 'patience')-> annealing learning_rate to [0.0015625]\n",
            "2023-12-24 22:57:33,525 ----------------------------------------------------------------------------------------------------\n",
            "2023-12-24 22:57:34,233 epoch 70 - iter 19/199 - loss 0.33235371 - time (sec): 0.70 - samples/sec: 4224.51 - lr: 0.001563 - momentum: 0.000000\n",
            "2023-12-24 22:57:34,900 epoch 70 - iter 38/199 - loss 0.32879812 - time (sec): 1.37 - samples/sec: 4458.34 - lr: 0.001563 - momentum: 0.000000\n",
            "2023-12-24 22:57:35,526 epoch 70 - iter 57/199 - loss 0.33756092 - time (sec): 2.00 - samples/sec: 4556.23 - lr: 0.001563 - momentum: 0.000000\n",
            "2023-12-24 22:57:36,241 epoch 70 - iter 76/199 - loss 0.33959547 - time (sec): 2.71 - samples/sec: 4479.61 - lr: 0.001563 - momentum: 0.000000\n",
            "2023-12-24 22:57:36,971 epoch 70 - iter 95/199 - loss 0.34019894 - time (sec): 3.44 - samples/sec: 4414.09 - lr: 0.001563 - momentum: 0.000000\n",
            "2023-12-24 22:57:37,653 epoch 70 - iter 114/199 - loss 0.33888266 - time (sec): 4.12 - samples/sec: 4412.67 - lr: 0.001563 - momentum: 0.000000\n",
            "2023-12-24 22:57:38,346 epoch 70 - iter 133/199 - loss 0.33979199 - time (sec): 4.82 - samples/sec: 4403.10 - lr: 0.001563 - momentum: 0.000000\n",
            "2023-12-24 22:57:38,963 epoch 70 - iter 152/199 - loss 0.34038148 - time (sec): 5.43 - samples/sec: 4461.02 - lr: 0.001563 - momentum: 0.000000\n",
            "2023-12-24 22:57:39,586 epoch 70 - iter 171/199 - loss 0.34144766 - time (sec): 6.06 - samples/sec: 4481.56 - lr: 0.001563 - momentum: 0.000000\n",
            "2023-12-24 22:57:40,574 epoch 70 - iter 190/199 - loss 0.34211998 - time (sec): 7.04 - samples/sec: 4272.46 - lr: 0.001563 - momentum: 0.000000\n",
            "2023-12-24 22:57:41,023 ----------------------------------------------------------------------------------------------------\n",
            "2023-12-24 22:57:41,026 EPOCH 70 done: loss 0.3418 - lr: 0.001563\n"
          ]
        },
        {
          "output_type": "stream",
          "name": "stderr",
          "text": [
            "100%|██████████| 7/7 [00:01<00:00,  5.28it/s]"
          ]
        },
        {
          "output_type": "stream",
          "name": "stdout",
          "text": [
            "2023-12-24 22:57:42,438 DEV : loss 0.33151257038116455 - f1-score (micro avg)  0.8588\n",
            "2023-12-24 22:57:42,467  - 1 epochs without improvement\n",
            "2023-12-24 22:57:42,475 ----------------------------------------------------------------------------------------------------\n"
          ]
        },
        {
          "output_type": "stream",
          "name": "stderr",
          "text": [
            "\n"
          ]
        },
        {
          "output_type": "stream",
          "name": "stdout",
          "text": [
            "2023-12-24 22:57:43,605 epoch 71 - iter 19/199 - loss 0.33738824 - time (sec): 1.12 - samples/sec: 2670.57 - lr: 0.001563 - momentum: 0.000000\n",
            "2023-12-24 22:57:44,548 epoch 71 - iter 38/199 - loss 0.34810723 - time (sec): 2.07 - samples/sec: 2922.74 - lr: 0.001563 - momentum: 0.000000\n",
            "2023-12-24 22:57:45,464 epoch 71 - iter 57/199 - loss 0.34587470 - time (sec): 2.98 - samples/sec: 3046.22 - lr: 0.001563 - momentum: 0.000000\n",
            "2023-12-24 22:57:46,163 epoch 71 - iter 76/199 - loss 0.34779451 - time (sec): 3.68 - samples/sec: 3265.65 - lr: 0.001563 - momentum: 0.000000\n",
            "2023-12-24 22:57:46,903 epoch 71 - iter 95/199 - loss 0.34478653 - time (sec): 4.42 - samples/sec: 3412.95 - lr: 0.001563 - momentum: 0.000000\n",
            "2023-12-24 22:57:47,816 epoch 71 - iter 114/199 - loss 0.34670953 - time (sec): 5.33 - samples/sec: 3402.09 - lr: 0.001563 - momentum: 0.000000\n",
            "2023-12-24 22:57:48,993 epoch 71 - iter 133/199 - loss 0.34495915 - time (sec): 6.51 - samples/sec: 3257.59 - lr: 0.001563 - momentum: 0.000000\n",
            "2023-12-24 22:57:50,159 epoch 71 - iter 152/199 - loss 0.34457717 - time (sec): 7.68 - samples/sec: 3171.38 - lr: 0.001563 - momentum: 0.000000\n",
            "2023-12-24 22:57:51,016 epoch 71 - iter 171/199 - loss 0.34391080 - time (sec): 8.53 - samples/sec: 3182.94 - lr: 0.001563 - momentum: 0.000000\n",
            "2023-12-24 22:57:52,055 epoch 71 - iter 190/199 - loss 0.34256119 - time (sec): 9.57 - samples/sec: 3149.18 - lr: 0.001563 - momentum: 0.000000\n",
            "2023-12-24 22:57:52,460 ----------------------------------------------------------------------------------------------------\n",
            "2023-12-24 22:57:52,465 EPOCH 71 done: loss 0.3434 - lr: 0.001563\n"
          ]
        },
        {
          "output_type": "stream",
          "name": "stderr",
          "text": [
            "100%|██████████| 7/7 [00:01<00:00,  5.05it/s]"
          ]
        },
        {
          "output_type": "stream",
          "name": "stdout",
          "text": [
            "2023-12-24 22:57:53,948 DEV : loss 0.33133018016815186 - f1-score (micro avg)  0.8593\n",
            "2023-12-24 22:57:53,985  - 2 epochs without improvement\n",
            "2023-12-24 22:57:53,999 ----------------------------------------------------------------------------------------------------\n"
          ]
        },
        {
          "output_type": "stream",
          "name": "stderr",
          "text": [
            "\n"
          ]
        },
        {
          "output_type": "stream",
          "name": "stdout",
          "text": [
            "2023-12-24 22:57:54,797 epoch 72 - iter 19/199 - loss 0.36087537 - time (sec): 0.79 - samples/sec: 3783.64 - lr: 0.001563 - momentum: 0.000000\n",
            "2023-12-24 22:57:55,744 epoch 72 - iter 38/199 - loss 0.33875010 - time (sec): 1.74 - samples/sec: 3642.51 - lr: 0.001563 - momentum: 0.000000\n",
            "2023-12-24 22:57:56,766 epoch 72 - iter 57/199 - loss 0.33720498 - time (sec): 2.76 - samples/sec: 3401.48 - lr: 0.001563 - momentum: 0.000000\n",
            "2023-12-24 22:57:57,812 epoch 72 - iter 76/199 - loss 0.33399523 - time (sec): 3.81 - samples/sec: 3286.11 - lr: 0.001563 - momentum: 0.000000\n",
            "2023-12-24 22:57:58,910 epoch 72 - iter 95/199 - loss 0.33208008 - time (sec): 4.91 - samples/sec: 3189.51 - lr: 0.001563 - momentum: 0.000000\n",
            "2023-12-24 22:57:59,998 epoch 72 - iter 114/199 - loss 0.33307329 - time (sec): 5.99 - samples/sec: 3120.09 - lr: 0.001563 - momentum: 0.000000\n",
            "2023-12-24 22:58:00,845 epoch 72 - iter 133/199 - loss 0.33633762 - time (sec): 6.84 - samples/sec: 3153.06 - lr: 0.001563 - momentum: 0.000000\n",
            "2023-12-24 22:58:01,430 epoch 72 - iter 152/199 - loss 0.33931034 - time (sec): 7.43 - samples/sec: 3290.64 - lr: 0.001563 - momentum: 0.000000\n",
            "2023-12-24 22:58:02,054 epoch 72 - iter 171/199 - loss 0.33980141 - time (sec): 8.05 - samples/sec: 3389.76 - lr: 0.001563 - momentum: 0.000000\n",
            "2023-12-24 22:58:02,659 epoch 72 - iter 190/199 - loss 0.34205191 - time (sec): 8.65 - samples/sec: 3489.12 - lr: 0.001563 - momentum: 0.000000\n",
            "2023-12-24 22:58:02,936 ----------------------------------------------------------------------------------------------------\n",
            "2023-12-24 22:58:02,939 EPOCH 72 done: loss 0.3413 - lr: 0.001563\n"
          ]
        },
        {
          "output_type": "stream",
          "name": "stderr",
          "text": [
            "100%|██████████| 7/7 [00:00<00:00,  8.25it/s]\n"
          ]
        },
        {
          "output_type": "stream",
          "name": "stdout",
          "text": [
            "2023-12-24 22:58:03,844 DEV : loss 0.33166590332984924 - f1-score (micro avg)  0.859\n",
            "2023-12-24 22:58:03,864  - 3 epochs without improvement\n",
            "2023-12-24 22:58:03,872 ----------------------------------------------------------------------------------------------------\n",
            "2023-12-24 22:58:04,520 epoch 73 - iter 19/199 - loss 0.32007616 - time (sec): 0.64 - samples/sec: 4720.03 - lr: 0.001563 - momentum: 0.000000\n",
            "2023-12-24 22:58:05,109 epoch 73 - iter 38/199 - loss 0.34242633 - time (sec): 1.23 - samples/sec: 4782.18 - lr: 0.001563 - momentum: 0.000000\n",
            "2023-12-24 22:58:05,897 epoch 73 - iter 57/199 - loss 0.34069023 - time (sec): 2.02 - samples/sec: 4525.46 - lr: 0.001563 - momentum: 0.000000\n",
            "2023-12-24 22:58:06,581 epoch 73 - iter 76/199 - loss 0.34258742 - time (sec): 2.70 - samples/sec: 4489.09 - lr: 0.001563 - momentum: 0.000000\n",
            "2023-12-24 22:58:07,180 epoch 73 - iter 95/199 - loss 0.34375110 - time (sec): 3.30 - samples/sec: 4563.75 - lr: 0.001563 - momentum: 0.000000\n",
            "2023-12-24 22:58:08,002 epoch 73 - iter 114/199 - loss 0.34025426 - time (sec): 4.13 - samples/sec: 4428.01 - lr: 0.001563 - momentum: 0.000000\n",
            "2023-12-24 22:58:08,653 epoch 73 - iter 133/199 - loss 0.34226818 - time (sec): 4.78 - samples/sec: 4450.25 - lr: 0.001563 - momentum: 0.000000\n",
            "2023-12-24 22:58:09,245 epoch 73 - iter 152/199 - loss 0.34279314 - time (sec): 5.37 - samples/sec: 4500.28 - lr: 0.001563 - momentum: 0.000000\n",
            "2023-12-24 22:58:09,900 epoch 73 - iter 171/199 - loss 0.34347710 - time (sec): 6.02 - samples/sec: 4495.45 - lr: 0.001563 - momentum: 0.000000\n",
            "2023-12-24 22:58:10,545 epoch 73 - iter 190/199 - loss 0.34286458 - time (sec): 6.67 - samples/sec: 4516.99 - lr: 0.001563 - momentum: 0.000000\n",
            "2023-12-24 22:58:10,936 ----------------------------------------------------------------------------------------------------\n",
            "2023-12-24 22:58:10,940 EPOCH 73 done: loss 0.3421 - lr: 0.001563\n"
          ]
        },
        {
          "output_type": "stream",
          "name": "stderr",
          "text": [
            "100%|██████████| 7/7 [00:01<00:00,  5.25it/s]"
          ]
        },
        {
          "output_type": "stream",
          "name": "stdout",
          "text": [
            "2023-12-24 22:58:12,362 DEV : loss 0.33130112290382385 - f1-score (micro avg)  0.859\n",
            "2023-12-24 22:58:12,387  - 4 epochs without improvement (above 'patience')-> annealing learning_rate to [0.00078125]\n",
            "2023-12-24 22:58:12,397 ----------------------------------------------------------------------------------------------------\n"
          ]
        },
        {
          "output_type": "stream",
          "name": "stderr",
          "text": [
            "\n"
          ]
        },
        {
          "output_type": "stream",
          "name": "stdout",
          "text": [
            "2023-12-24 22:58:13,419 epoch 74 - iter 19/199 - loss 0.34160540 - time (sec): 1.02 - samples/sec: 2988.38 - lr: 0.000781 - momentum: 0.000000\n",
            "2023-12-24 22:58:14,280 epoch 74 - iter 38/199 - loss 0.34994613 - time (sec): 1.88 - samples/sec: 3147.50 - lr: 0.000781 - momentum: 0.000000\n",
            "2023-12-24 22:58:15,271 epoch 74 - iter 57/199 - loss 0.34946220 - time (sec): 2.87 - samples/sec: 3106.19 - lr: 0.000781 - momentum: 0.000000\n",
            "2023-12-24 22:58:16,255 epoch 74 - iter 76/199 - loss 0.34867613 - time (sec): 3.85 - samples/sec: 3095.12 - lr: 0.000781 - momentum: 0.000000\n",
            "2023-12-24 22:58:16,999 epoch 74 - iter 95/199 - loss 0.34754215 - time (sec): 4.60 - samples/sec: 3242.08 - lr: 0.000781 - momentum: 0.000000\n",
            "2023-12-24 22:58:17,670 epoch 74 - iter 114/199 - loss 0.34738511 - time (sec): 5.27 - samples/sec: 3392.66 - lr: 0.000781 - momentum: 0.000000\n",
            "2023-12-24 22:58:18,278 epoch 74 - iter 133/199 - loss 0.34853133 - time (sec): 5.88 - samples/sec: 3537.80 - lr: 0.000781 - momentum: 0.000000\n",
            "2023-12-24 22:58:19,030 epoch 74 - iter 152/199 - loss 0.34590958 - time (sec): 6.63 - samples/sec: 3603.50 - lr: 0.000781 - momentum: 0.000000\n",
            "2023-12-24 22:58:19,764 epoch 74 - iter 171/199 - loss 0.34330243 - time (sec): 7.36 - samples/sec: 3672.01 - lr: 0.000781 - momentum: 0.000000\n",
            "2023-12-24 22:58:20,436 epoch 74 - iter 190/199 - loss 0.34228672 - time (sec): 8.03 - samples/sec: 3733.57 - lr: 0.000781 - momentum: 0.000000\n",
            "2023-12-24 22:58:20,795 ----------------------------------------------------------------------------------------------------\n",
            "2023-12-24 22:58:20,797 EPOCH 74 done: loss 0.3424 - lr: 0.000781\n"
          ]
        },
        {
          "output_type": "stream",
          "name": "stderr",
          "text": [
            "100%|██████████| 7/7 [00:00<00:00,  8.16it/s]\n"
          ]
        },
        {
          "output_type": "stream",
          "name": "stdout",
          "text": [
            "2023-12-24 22:58:21,715 DEV : loss 0.3314719796180725 - f1-score (micro avg)  0.859\n",
            "2023-12-24 22:58:21,736  - 1 epochs without improvement\n",
            "2023-12-24 22:58:21,742 ----------------------------------------------------------------------------------------------------\n",
            "2023-12-24 22:58:22,493 epoch 75 - iter 19/199 - loss 0.33194344 - time (sec): 0.75 - samples/sec: 4213.05 - lr: 0.000781 - momentum: 0.000000\n",
            "2023-12-24 22:58:23,173 epoch 75 - iter 38/199 - loss 0.33721406 - time (sec): 1.43 - samples/sec: 4322.40 - lr: 0.000781 - momentum: 0.000000\n",
            "2023-12-24 22:58:23,916 epoch 75 - iter 57/199 - loss 0.33740411 - time (sec): 2.17 - samples/sec: 4248.88 - lr: 0.000781 - momentum: 0.000000\n",
            "2023-12-24 22:58:24,642 epoch 75 - iter 76/199 - loss 0.33744362 - time (sec): 2.89 - samples/sec: 4257.19 - lr: 0.000781 - momentum: 0.000000\n",
            "2023-12-24 22:58:25,277 epoch 75 - iter 95/199 - loss 0.34029319 - time (sec): 3.53 - samples/sec: 4320.81 - lr: 0.000781 - momentum: 0.000000\n",
            "2023-12-24 22:58:25,927 epoch 75 - iter 114/199 - loss 0.33975212 - time (sec): 4.18 - samples/sec: 4395.62 - lr: 0.000781 - momentum: 0.000000\n",
            "2023-12-24 22:58:26,516 epoch 75 - iter 133/199 - loss 0.34226158 - time (sec): 4.77 - samples/sec: 4465.56 - lr: 0.000781 - momentum: 0.000000\n",
            "2023-12-24 22:58:27,616 epoch 75 - iter 152/199 - loss 0.34187730 - time (sec): 5.87 - samples/sec: 4139.45 - lr: 0.000781 - momentum: 0.000000\n",
            "2023-12-24 22:58:28,531 epoch 75 - iter 171/199 - loss 0.34112179 - time (sec): 6.78 - samples/sec: 4016.20 - lr: 0.000781 - momentum: 0.000000\n",
            "2023-12-24 22:58:29,473 epoch 75 - iter 190/199 - loss 0.34182463 - time (sec): 7.73 - samples/sec: 3910.90 - lr: 0.000781 - momentum: 0.000000\n",
            "2023-12-24 22:58:29,842 ----------------------------------------------------------------------------------------------------\n",
            "2023-12-24 22:58:29,847 EPOCH 75 done: loss 0.3417 - lr: 0.000781\n"
          ]
        },
        {
          "output_type": "stream",
          "name": "stderr",
          "text": [
            "100%|██████████| 7/7 [00:01<00:00,  5.12it/s]"
          ]
        },
        {
          "output_type": "stream",
          "name": "stdout",
          "text": [
            "2023-12-24 22:58:31,304 DEV : loss 0.33120250701904297 - f1-score (micro avg)  0.8593\n",
            "2023-12-24 22:58:31,332  - 2 epochs without improvement\n",
            "2023-12-24 22:58:31,338 ----------------------------------------------------------------------------------------------------\n"
          ]
        },
        {
          "output_type": "stream",
          "name": "stderr",
          "text": [
            "\n"
          ]
        },
        {
          "output_type": "stream",
          "name": "stdout",
          "text": [
            "2023-12-24 22:58:32,305 epoch 76 - iter 19/199 - loss 0.33705840 - time (sec): 0.96 - samples/sec: 3109.59 - lr: 0.000781 - momentum: 0.000000\n",
            "2023-12-24 22:58:32,887 epoch 76 - iter 38/199 - loss 0.35040023 - time (sec): 1.54 - samples/sec: 3864.75 - lr: 0.000781 - momentum: 0.000000\n",
            "2023-12-24 22:58:33,526 epoch 76 - iter 57/199 - loss 0.34630232 - time (sec): 2.18 - samples/sec: 4112.53 - lr: 0.000781 - momentum: 0.000000\n",
            "2023-12-24 22:58:34,243 epoch 76 - iter 76/199 - loss 0.34515248 - time (sec): 2.90 - samples/sec: 4183.36 - lr: 0.000781 - momentum: 0.000000\n",
            "2023-12-24 22:58:34,897 epoch 76 - iter 95/199 - loss 0.34323105 - time (sec): 3.55 - samples/sec: 4273.90 - lr: 0.000781 - momentum: 0.000000\n",
            "2023-12-24 22:58:35,645 epoch 76 - iter 114/199 - loss 0.34146047 - time (sec): 4.30 - samples/sec: 4218.40 - lr: 0.000781 - momentum: 0.000000\n",
            "2023-12-24 22:58:36,203 epoch 76 - iter 133/199 - loss 0.34227643 - time (sec): 4.86 - samples/sec: 4317.65 - lr: 0.000781 - momentum: 0.000000\n",
            "2023-12-24 22:58:36,848 epoch 76 - iter 152/199 - loss 0.34346047 - time (sec): 5.50 - samples/sec: 4350.58 - lr: 0.000781 - momentum: 0.000000\n",
            "2023-12-24 22:58:37,546 epoch 76 - iter 171/199 - loss 0.34105991 - time (sec): 6.20 - samples/sec: 4354.80 - lr: 0.000781 - momentum: 0.000000\n",
            "2023-12-24 22:58:38,292 epoch 76 - iter 190/199 - loss 0.34303573 - time (sec): 6.95 - samples/sec: 4329.47 - lr: 0.000781 - momentum: 0.000000\n",
            "2023-12-24 22:58:38,620 ----------------------------------------------------------------------------------------------------\n",
            "2023-12-24 22:58:38,622 EPOCH 76 done: loss 0.3434 - lr: 0.000781\n"
          ]
        },
        {
          "output_type": "stream",
          "name": "stderr",
          "text": [
            "100%|██████████| 7/7 [00:00<00:00,  8.21it/s]"
          ]
        },
        {
          "output_type": "stream",
          "name": "stdout",
          "text": [
            "2023-12-24 22:58:39,532 DEV : loss 0.3312363624572754 - f1-score (micro avg)  0.8593\n",
            "2023-12-24 22:58:39,551  - 3 epochs without improvement\n",
            "2023-12-24 22:58:39,557 ----------------------------------------------------------------------------------------------------\n"
          ]
        },
        {
          "output_type": "stream",
          "name": "stderr",
          "text": [
            "\n"
          ]
        },
        {
          "output_type": "stream",
          "name": "stdout",
          "text": [
            "2023-12-24 22:58:40,312 epoch 77 - iter 19/199 - loss 0.33250892 - time (sec): 0.75 - samples/sec: 4128.83 - lr: 0.000781 - momentum: 0.000000\n",
            "2023-12-24 22:58:40,945 epoch 77 - iter 38/199 - loss 0.33360867 - time (sec): 1.38 - samples/sec: 4420.14 - lr: 0.000781 - momentum: 0.000000\n",
            "2023-12-24 22:58:41,579 epoch 77 - iter 57/199 - loss 0.33988997 - time (sec): 2.02 - samples/sec: 4510.45 - lr: 0.000781 - momentum: 0.000000\n",
            "2023-12-24 22:58:42,358 epoch 77 - iter 76/199 - loss 0.34043448 - time (sec): 2.79 - samples/sec: 4372.21 - lr: 0.000781 - momentum: 0.000000\n",
            "2023-12-24 22:58:43,215 epoch 77 - iter 95/199 - loss 0.34382964 - time (sec): 3.65 - samples/sec: 4133.67 - lr: 0.000781 - momentum: 0.000000\n",
            "2023-12-24 22:58:44,636 epoch 77 - iter 114/199 - loss 0.34286079 - time (sec): 5.07 - samples/sec: 3582.19 - lr: 0.000781 - momentum: 0.000000\n",
            "2023-12-24 22:58:45,834 epoch 77 - iter 133/199 - loss 0.34320864 - time (sec): 6.27 - samples/sec: 3370.36 - lr: 0.000781 - momentum: 0.000000\n",
            "2023-12-24 22:58:47,325 epoch 77 - iter 152/199 - loss 0.34499383 - time (sec): 7.76 - samples/sec: 3110.97 - lr: 0.000781 - momentum: 0.000000\n",
            "2023-12-24 22:58:48,747 epoch 77 - iter 171/199 - loss 0.34267185 - time (sec): 9.18 - samples/sec: 2954.90 - lr: 0.000781 - momentum: 0.000000\n",
            "2023-12-24 22:58:49,669 epoch 77 - iter 190/199 - loss 0.34213420 - time (sec): 10.11 - samples/sec: 2982.89 - lr: 0.000781 - momentum: 0.000000\n",
            "2023-12-24 22:58:50,051 ----------------------------------------------------------------------------------------------------\n",
            "2023-12-24 22:58:50,054 EPOCH 77 done: loss 0.3422 - lr: 0.000781\n"
          ]
        },
        {
          "output_type": "stream",
          "name": "stderr",
          "text": [
            "100%|██████████| 7/7 [00:01<00:00,  4.19it/s]"
          ]
        },
        {
          "output_type": "stream",
          "name": "stdout",
          "text": [
            "2023-12-24 22:58:51,808 DEV : loss 0.33138275146484375 - f1-score (micro avg)  0.8588\n",
            "2023-12-24 22:58:51,834  - 4 epochs without improvement (above 'patience')-> annealing learning_rate to [0.000390625]\n",
            "2023-12-24 22:58:51,853 ----------------------------------------------------------------------------------------------------\n"
          ]
        },
        {
          "output_type": "stream",
          "name": "stderr",
          "text": [
            "\n"
          ]
        },
        {
          "output_type": "stream",
          "name": "stdout",
          "text": [
            "2023-12-24 22:58:52,787 epoch 78 - iter 19/199 - loss 0.33378358 - time (sec): 0.93 - samples/sec: 3279.45 - lr: 0.000391 - momentum: 0.000000\n",
            "2023-12-24 22:58:53,640 epoch 78 - iter 38/199 - loss 0.34663061 - time (sec): 1.78 - samples/sec: 3358.15 - lr: 0.000391 - momentum: 0.000000\n",
            "2023-12-24 22:58:54,674 epoch 78 - iter 57/199 - loss 0.33865129 - time (sec): 2.82 - samples/sec: 3214.50 - lr: 0.000391 - momentum: 0.000000\n",
            "2023-12-24 22:58:55,504 epoch 78 - iter 76/199 - loss 0.33863073 - time (sec): 3.65 - samples/sec: 3312.83 - lr: 0.000391 - momentum: 0.000000\n",
            "2023-12-24 22:58:56,124 epoch 78 - iter 95/199 - loss 0.34444978 - time (sec): 4.27 - samples/sec: 3539.87 - lr: 0.000391 - momentum: 0.000000\n",
            "2023-12-24 22:58:56,743 epoch 78 - iter 114/199 - loss 0.34622708 - time (sec): 4.88 - samples/sec: 3700.56 - lr: 0.000391 - momentum: 0.000000\n",
            "2023-12-24 22:58:57,434 epoch 78 - iter 133/199 - loss 0.34287179 - time (sec): 5.58 - samples/sec: 3782.19 - lr: 0.000391 - momentum: 0.000000\n",
            "2023-12-24 22:58:58,187 epoch 78 - iter 152/199 - loss 0.34193762 - time (sec): 6.33 - samples/sec: 3816.94 - lr: 0.000391 - momentum: 0.000000\n",
            "2023-12-24 22:58:59,205 epoch 78 - iter 171/199 - loss 0.34043880 - time (sec): 7.35 - samples/sec: 3708.63 - lr: 0.000391 - momentum: 0.000000\n",
            "2023-12-24 22:59:00,121 epoch 78 - iter 190/199 - loss 0.34152426 - time (sec): 8.26 - samples/sec: 3651.46 - lr: 0.000391 - momentum: 0.000000\n",
            "2023-12-24 22:59:00,594 ----------------------------------------------------------------------------------------------------\n",
            "2023-12-24 22:59:00,597 EPOCH 78 done: loss 0.3410 - lr: 0.000391\n"
          ]
        },
        {
          "output_type": "stream",
          "name": "stderr",
          "text": [
            "100%|██████████| 7/7 [00:01<00:00,  5.16it/s]"
          ]
        },
        {
          "output_type": "stream",
          "name": "stdout",
          "text": [
            "2023-12-24 22:59:02,040 DEV : loss 0.33118200302124023 - f1-score (micro avg)  0.8593\n",
            "2023-12-24 22:59:02,067  - 1 epochs without improvement\n",
            "2023-12-24 22:59:02,074 ----------------------------------------------------------------------------------------------------\n"
          ]
        },
        {
          "output_type": "stream",
          "name": "stderr",
          "text": [
            "\n"
          ]
        },
        {
          "output_type": "stream",
          "name": "stdout",
          "text": [
            "2023-12-24 22:59:03,086 epoch 79 - iter 19/199 - loss 0.33831289 - time (sec): 1.01 - samples/sec: 3104.31 - lr: 0.000391 - momentum: 0.000000\n",
            "2023-12-24 22:59:04,166 epoch 79 - iter 38/199 - loss 0.33612971 - time (sec): 2.09 - samples/sec: 2988.84 - lr: 0.000391 - momentum: 0.000000\n",
            "2023-12-24 22:59:04,760 epoch 79 - iter 57/199 - loss 0.34295462 - time (sec): 2.68 - samples/sec: 3446.47 - lr: 0.000391 - momentum: 0.000000\n",
            "2023-12-24 22:59:05,461 epoch 79 - iter 76/199 - loss 0.34578926 - time (sec): 3.38 - samples/sec: 3588.40 - lr: 0.000391 - momentum: 0.000000\n",
            "2023-12-24 22:59:06,090 epoch 79 - iter 95/199 - loss 0.34614362 - time (sec): 4.01 - samples/sec: 3751.21 - lr: 0.000391 - momentum: 0.000000\n",
            "2023-12-24 22:59:06,793 epoch 79 - iter 114/199 - loss 0.34271311 - time (sec): 4.71 - samples/sec: 3871.35 - lr: 0.000391 - momentum: 0.000000\n",
            "2023-12-24 22:59:07,458 epoch 79 - iter 133/199 - loss 0.34324068 - time (sec): 5.38 - samples/sec: 3956.67 - lr: 0.000391 - momentum: 0.000000\n",
            "2023-12-24 22:59:08,146 epoch 79 - iter 152/199 - loss 0.34228595 - time (sec): 6.07 - samples/sec: 4002.48 - lr: 0.000391 - momentum: 0.000000\n",
            "2023-12-24 22:59:08,667 epoch 79 - iter 171/199 - loss 0.34303071 - time (sec): 6.59 - samples/sec: 4110.71 - lr: 0.000391 - momentum: 0.000000\n",
            "2023-12-24 22:59:09,316 epoch 79 - iter 190/199 - loss 0.34379077 - time (sec): 7.24 - samples/sec: 4153.00 - lr: 0.000391 - momentum: 0.000000\n",
            "2023-12-24 22:59:09,696 ----------------------------------------------------------------------------------------------------\n",
            "2023-12-24 22:59:09,698 EPOCH 79 done: loss 0.3427 - lr: 0.000391\n"
          ]
        },
        {
          "output_type": "stream",
          "name": "stderr",
          "text": [
            "100%|██████████| 7/7 [00:00<00:00,  8.15it/s]"
          ]
        },
        {
          "output_type": "stream",
          "name": "stdout",
          "text": [
            "2023-12-24 22:59:10,618 DEV : loss 0.3314318060874939 - f1-score (micro avg)  0.859\n",
            "2023-12-24 22:59:10,641  - 2 epochs without improvement\n",
            "2023-12-24 22:59:10,648 ----------------------------------------------------------------------------------------------------\n"
          ]
        },
        {
          "output_type": "stream",
          "name": "stderr",
          "text": [
            "\n"
          ]
        },
        {
          "output_type": "stream",
          "name": "stdout",
          "text": [
            "2023-12-24 22:59:11,379 epoch 80 - iter 19/199 - loss 0.32321643 - time (sec): 0.73 - samples/sec: 4137.15 - lr: 0.000391 - momentum: 0.000000\n",
            "2023-12-24 22:59:12,072 epoch 80 - iter 38/199 - loss 0.33736391 - time (sec): 1.42 - samples/sec: 4197.36 - lr: 0.000391 - momentum: 0.000000\n",
            "2023-12-24 22:59:12,834 epoch 80 - iter 57/199 - loss 0.33398653 - time (sec): 2.18 - samples/sec: 4196.56 - lr: 0.000391 - momentum: 0.000000\n",
            "2023-12-24 22:59:13,451 epoch 80 - iter 76/199 - loss 0.33611042 - time (sec): 2.80 - samples/sec: 4328.05 - lr: 0.000391 - momentum: 0.000000\n",
            "2023-12-24 22:59:14,025 epoch 80 - iter 95/199 - loss 0.34041333 - time (sec): 3.37 - samples/sec: 4431.51 - lr: 0.000391 - momentum: 0.000000\n",
            "2023-12-24 22:59:14,938 epoch 80 - iter 114/199 - loss 0.33804467 - time (sec): 4.29 - samples/sec: 4187.42 - lr: 0.000391 - momentum: 0.000000\n",
            "2023-12-24 22:59:15,884 epoch 80 - iter 133/199 - loss 0.33899354 - time (sec): 5.23 - samples/sec: 4026.70 - lr: 0.000391 - momentum: 0.000000\n",
            "2023-12-24 22:59:16,869 epoch 80 - iter 152/199 - loss 0.33836028 - time (sec): 6.22 - samples/sec: 3859.05 - lr: 0.000391 - momentum: 0.000000\n",
            "2023-12-24 22:59:17,898 epoch 80 - iter 171/199 - loss 0.34078123 - time (sec): 7.25 - samples/sec: 3725.88 - lr: 0.000391 - momentum: 0.000000\n",
            "2023-12-24 22:59:18,940 epoch 80 - iter 190/199 - loss 0.33996305 - time (sec): 8.29 - samples/sec: 3636.45 - lr: 0.000391 - momentum: 0.000000\n",
            "2023-12-24 22:59:19,426 ----------------------------------------------------------------------------------------------------\n",
            "2023-12-24 22:59:19,429 EPOCH 80 done: loss 0.3405 - lr: 0.000391\n"
          ]
        },
        {
          "output_type": "stream",
          "name": "stderr",
          "text": [
            "100%|██████████| 7/7 [00:01<00:00,  6.69it/s]\n"
          ]
        },
        {
          "output_type": "stream",
          "name": "stdout",
          "text": [
            "2023-12-24 22:59:20,538 DEV : loss 0.33115237951278687 - f1-score (micro avg)  0.8593\n",
            "2023-12-24 22:59:20,558  - 3 epochs without improvement\n",
            "2023-12-24 22:59:20,563 ----------------------------------------------------------------------------------------------------\n",
            "2023-12-24 22:59:21,354 epoch 81 - iter 19/199 - loss 0.34207879 - time (sec): 0.79 - samples/sec: 3905.70 - lr: 0.000391 - momentum: 0.000000\n",
            "2023-12-24 22:59:22,002 epoch 81 - iter 38/199 - loss 0.34434007 - time (sec): 1.43 - samples/sec: 4162.05 - lr: 0.000391 - momentum: 0.000000\n",
            "2023-12-24 22:59:22,678 epoch 81 - iter 57/199 - loss 0.34525117 - time (sec): 2.11 - samples/sec: 4239.57 - lr: 0.000391 - momentum: 0.000000\n",
            "2023-12-24 22:59:23,405 epoch 81 - iter 76/199 - loss 0.34170202 - time (sec): 2.84 - samples/sec: 4244.74 - lr: 0.000391 - momentum: 0.000000\n",
            "2023-12-24 22:59:24,067 epoch 81 - iter 95/199 - loss 0.34173897 - time (sec): 3.50 - samples/sec: 4308.02 - lr: 0.000391 - momentum: 0.000000\n",
            "2023-12-24 22:59:24,672 epoch 81 - iter 114/199 - loss 0.34502508 - time (sec): 4.10 - samples/sec: 4387.34 - lr: 0.000391 - momentum: 0.000000\n",
            "2023-12-24 22:59:25,331 epoch 81 - iter 133/199 - loss 0.34601537 - time (sec): 4.76 - samples/sec: 4399.51 - lr: 0.000391 - momentum: 0.000000\n",
            "2023-12-24 22:59:26,099 epoch 81 - iter 152/199 - loss 0.34392977 - time (sec): 5.53 - samples/sec: 4352.30 - lr: 0.000391 - momentum: 0.000000\n",
            "2023-12-24 22:59:26,724 epoch 81 - iter 171/199 - loss 0.34229938 - time (sec): 6.16 - samples/sec: 4399.01 - lr: 0.000391 - momentum: 0.000000\n",
            "2023-12-24 22:59:27,348 epoch 81 - iter 190/199 - loss 0.34340653 - time (sec): 6.78 - samples/sec: 4447.72 - lr: 0.000391 - momentum: 0.000000\n",
            "2023-12-24 22:59:27,626 ----------------------------------------------------------------------------------------------------\n",
            "2023-12-24 22:59:27,628 EPOCH 81 done: loss 0.3421 - lr: 0.000391\n"
          ]
        },
        {
          "output_type": "stream",
          "name": "stderr",
          "text": [
            "100%|██████████| 7/7 [00:00<00:00,  8.21it/s]\n"
          ]
        },
        {
          "output_type": "stream",
          "name": "stdout",
          "text": [
            "2023-12-24 22:59:28,544 DEV : loss 0.3313446640968323 - f1-score (micro avg)  0.8588\n",
            "2023-12-24 22:59:28,564  - 4 epochs without improvement (above 'patience')-> annealing learning_rate to [0.0001953125]\n",
            "2023-12-24 22:59:28,571 ----------------------------------------------------------------------------------------------------\n",
            "2023-12-24 22:59:29,295 epoch 82 - iter 19/199 - loss 0.34582838 - time (sec): 0.72 - samples/sec: 4131.32 - lr: 0.000195 - momentum: 0.000000\n",
            "2023-12-24 22:59:29,963 epoch 82 - iter 38/199 - loss 0.35179414 - time (sec): 1.39 - samples/sec: 4287.27 - lr: 0.000195 - momentum: 0.000000\n",
            "2023-12-24 22:59:30,901 epoch 82 - iter 57/199 - loss 0.34818640 - time (sec): 2.33 - samples/sec: 3830.97 - lr: 0.000195 - momentum: 0.000000\n",
            "2023-12-24 22:59:32,093 epoch 82 - iter 76/199 - loss 0.34434243 - time (sec): 3.52 - samples/sec: 3424.39 - lr: 0.000195 - momentum: 0.000000\n",
            "2023-12-24 22:59:33,089 epoch 82 - iter 95/199 - loss 0.34190871 - time (sec): 4.51 - samples/sec: 3346.35 - lr: 0.000195 - momentum: 0.000000\n",
            "2023-12-24 22:59:33,937 epoch 82 - iter 114/199 - loss 0.34673335 - time (sec): 5.36 - samples/sec: 3367.64 - lr: 0.000195 - momentum: 0.000000\n",
            "2023-12-24 22:59:34,836 epoch 82 - iter 133/199 - loss 0.34851221 - time (sec): 6.26 - samples/sec: 3346.40 - lr: 0.000195 - momentum: 0.000000\n",
            "2023-12-24 22:59:35,668 epoch 82 - iter 152/199 - loss 0.34609226 - time (sec): 7.09 - samples/sec: 3364.37 - lr: 0.000195 - momentum: 0.000000\n",
            "2023-12-24 22:59:36,360 epoch 82 - iter 171/199 - loss 0.34448331 - time (sec): 7.79 - samples/sec: 3459.98 - lr: 0.000195 - momentum: 0.000000\n",
            "2023-12-24 22:59:37,220 epoch 82 - iter 190/199 - loss 0.34295269 - time (sec): 8.64 - samples/sec: 3487.59 - lr: 0.000195 - momentum: 0.000000\n",
            "2023-12-24 22:59:37,538 ----------------------------------------------------------------------------------------------------\n",
            "2023-12-24 22:59:37,540 EPOCH 82 done: loss 0.3433 - lr: 0.000195\n"
          ]
        },
        {
          "output_type": "stream",
          "name": "stderr",
          "text": [
            "100%|██████████| 7/7 [00:00<00:00,  8.18it/s]"
          ]
        },
        {
          "output_type": "stream",
          "name": "stdout",
          "text": [
            "2023-12-24 22:59:38,453 DEV : loss 0.3312589228153229 - f1-score (micro avg)  0.859\n",
            "2023-12-24 22:59:38,473  - 1 epochs without improvement\n",
            "2023-12-24 22:59:38,477 ----------------------------------------------------------------------------------------------------\n"
          ]
        },
        {
          "output_type": "stream",
          "name": "stderr",
          "text": [
            "\n"
          ]
        },
        {
          "output_type": "stream",
          "name": "stdout",
          "text": [
            "2023-12-24 22:59:39,215 epoch 83 - iter 19/199 - loss 0.30976704 - time (sec): 0.73 - samples/sec: 4312.06 - lr: 0.000195 - momentum: 0.000000\n",
            "2023-12-24 22:59:39,824 epoch 83 - iter 38/199 - loss 0.33898840 - time (sec): 1.34 - samples/sec: 4532.41 - lr: 0.000195 - momentum: 0.000000\n",
            "2023-12-24 22:59:40,455 epoch 83 - iter 57/199 - loss 0.34908752 - time (sec): 1.97 - samples/sec: 4561.47 - lr: 0.000195 - momentum: 0.000000\n",
            "2023-12-24 22:59:41,078 epoch 83 - iter 76/199 - loss 0.34653225 - time (sec): 2.59 - samples/sec: 4631.66 - lr: 0.000195 - momentum: 0.000000\n",
            "2023-12-24 22:59:41,900 epoch 83 - iter 95/199 - loss 0.34466819 - time (sec): 3.42 - samples/sec: 4435.73 - lr: 0.000195 - momentum: 0.000000\n",
            "2023-12-24 22:59:42,534 epoch 83 - iter 114/199 - loss 0.34318607 - time (sec): 4.05 - samples/sec: 4480.36 - lr: 0.000195 - momentum: 0.000000\n",
            "2023-12-24 22:59:43,227 epoch 83 - iter 133/199 - loss 0.34299536 - time (sec): 4.74 - samples/sec: 4443.05 - lr: 0.000195 - momentum: 0.000000\n",
            "2023-12-24 22:59:43,876 epoch 83 - iter 152/199 - loss 0.34334108 - time (sec): 5.39 - samples/sec: 4460.28 - lr: 0.000195 - momentum: 0.000000\n",
            "2023-12-24 22:59:44,597 epoch 83 - iter 171/199 - loss 0.34316156 - time (sec): 6.11 - samples/sec: 4429.35 - lr: 0.000195 - momentum: 0.000000\n",
            "2023-12-24 22:59:45,326 epoch 83 - iter 190/199 - loss 0.34166137 - time (sec): 6.84 - samples/sec: 4413.29 - lr: 0.000195 - momentum: 0.000000\n",
            "2023-12-24 22:59:45,663 ----------------------------------------------------------------------------------------------------\n",
            "2023-12-24 22:59:45,667 EPOCH 83 done: loss 0.3413 - lr: 0.000195\n"
          ]
        },
        {
          "output_type": "stream",
          "name": "stderr",
          "text": [
            "100%|██████████| 7/7 [00:01<00:00,  5.20it/s]"
          ]
        },
        {
          "output_type": "stream",
          "name": "stdout",
          "text": [
            "2023-12-24 22:59:47,103 DEV : loss 0.33118385076522827 - f1-score (micro avg)  0.8593\n",
            "2023-12-24 22:59:47,133  - 2 epochs without improvement\n",
            "2023-12-24 22:59:47,143 ----------------------------------------------------------------------------------------------------\n"
          ]
        },
        {
          "output_type": "stream",
          "name": "stderr",
          "text": [
            "\n"
          ]
        },
        {
          "output_type": "stream",
          "name": "stdout",
          "text": [
            "2023-12-24 22:59:48,356 epoch 84 - iter 19/199 - loss 0.33697967 - time (sec): 1.21 - samples/sec: 2533.13 - lr: 0.000195 - momentum: 0.000000\n",
            "2023-12-24 22:59:49,435 epoch 84 - iter 38/199 - loss 0.33340671 - time (sec): 2.29 - samples/sec: 2693.67 - lr: 0.000195 - momentum: 0.000000\n",
            "2023-12-24 22:59:50,328 epoch 84 - iter 57/199 - loss 0.33687616 - time (sec): 3.18 - samples/sec: 2834.72 - lr: 0.000195 - momentum: 0.000000\n",
            "2023-12-24 22:59:51,310 epoch 84 - iter 76/199 - loss 0.33546239 - time (sec): 4.16 - samples/sec: 2919.08 - lr: 0.000195 - momentum: 0.000000\n",
            "2023-12-24 22:59:51,958 epoch 84 - iter 95/199 - loss 0.33631384 - time (sec): 4.81 - samples/sec: 3168.69 - lr: 0.000195 - momentum: 0.000000\n",
            "2023-12-24 22:59:52,646 epoch 84 - iter 114/199 - loss 0.33605405 - time (sec): 5.50 - samples/sec: 3328.75 - lr: 0.000195 - momentum: 0.000000\n",
            "2023-12-24 22:59:53,305 epoch 84 - iter 133/199 - loss 0.33609112 - time (sec): 6.16 - samples/sec: 3469.15 - lr: 0.000195 - momentum: 0.000000\n",
            "2023-12-24 22:59:53,987 epoch 84 - iter 152/199 - loss 0.33837432 - time (sec): 6.84 - samples/sec: 3567.99 - lr: 0.000195 - momentum: 0.000000\n",
            "2023-12-24 22:59:54,640 epoch 84 - iter 171/199 - loss 0.34003180 - time (sec): 7.49 - samples/sec: 3651.04 - lr: 0.000195 - momentum: 0.000000\n",
            "2023-12-24 22:59:55,196 epoch 84 - iter 190/199 - loss 0.34187206 - time (sec): 8.05 - samples/sec: 3755.45 - lr: 0.000195 - momentum: 0.000000\n",
            "2023-12-24 22:59:55,469 ----------------------------------------------------------------------------------------------------\n",
            "2023-12-24 22:59:55,471 EPOCH 84 done: loss 0.3423 - lr: 0.000195\n"
          ]
        },
        {
          "output_type": "stream",
          "name": "stderr",
          "text": [
            "100%|██████████| 7/7 [00:00<00:00,  8.17it/s]"
          ]
        },
        {
          "output_type": "stream",
          "name": "stdout",
          "text": [
            "2023-12-24 22:59:56,386 DEV : loss 0.3311495780944824 - f1-score (micro avg)  0.8593\n",
            "2023-12-24 22:59:56,407  - 3 epochs without improvement\n",
            "2023-12-24 22:59:56,414 ----------------------------------------------------------------------------------------------------\n"
          ]
        },
        {
          "output_type": "stream",
          "name": "stderr",
          "text": [
            "\n"
          ]
        },
        {
          "output_type": "stream",
          "name": "stdout",
          "text": [
            "2023-12-24 22:59:57,269 epoch 85 - iter 19/199 - loss 0.32126130 - time (sec): 0.85 - samples/sec: 3780.87 - lr: 0.000195 - momentum: 0.000000\n",
            "2023-12-24 22:59:57,844 epoch 85 - iter 38/199 - loss 0.33100320 - time (sec): 1.42 - samples/sec: 4307.08 - lr: 0.000195 - momentum: 0.000000\n",
            "2023-12-24 22:59:58,427 epoch 85 - iter 57/199 - loss 0.34274081 - time (sec): 2.01 - samples/sec: 4497.12 - lr: 0.000195 - momentum: 0.000000\n",
            "2023-12-24 22:59:59,098 epoch 85 - iter 76/199 - loss 0.34661624 - time (sec): 2.68 - samples/sec: 4484.40 - lr: 0.000195 - momentum: 0.000000\n",
            "2023-12-24 22:59:59,753 epoch 85 - iter 95/199 - loss 0.34417822 - time (sec): 3.33 - samples/sec: 4511.29 - lr: 0.000195 - momentum: 0.000000\n",
            "2023-12-24 23:00:00,393 epoch 85 - iter 114/199 - loss 0.34492920 - time (sec): 3.97 - samples/sec: 4502.41 - lr: 0.000195 - momentum: 0.000000\n",
            "2023-12-24 23:00:01,103 epoch 85 - iter 133/199 - loss 0.34119144 - time (sec): 4.68 - samples/sec: 4486.94 - lr: 0.000195 - momentum: 0.000000\n",
            "2023-12-24 23:00:01,999 epoch 85 - iter 152/199 - loss 0.34440719 - time (sec): 5.58 - samples/sec: 4303.81 - lr: 0.000195 - momentum: 0.000000\n",
            "2023-12-24 23:00:02,917 epoch 85 - iter 171/199 - loss 0.34458794 - time (sec): 6.50 - samples/sec: 4146.13 - lr: 0.000195 - momentum: 0.000000\n",
            "2023-12-24 23:00:04,156 epoch 85 - iter 190/199 - loss 0.34267317 - time (sec): 7.74 - samples/sec: 3895.72 - lr: 0.000195 - momentum: 0.000000\n",
            "2023-12-24 23:00:04,624 ----------------------------------------------------------------------------------------------------\n",
            "2023-12-24 23:00:04,630 EPOCH 85 done: loss 0.3426 - lr: 0.000195\n"
          ]
        },
        {
          "output_type": "stream",
          "name": "stderr",
          "text": [
            "100%|██████████| 7/7 [00:01<00:00,  5.07it/s]"
          ]
        },
        {
          "output_type": "stream",
          "name": "stdout",
          "text": [
            "2023-12-24 23:00:06,090 DEV : loss 0.33115994930267334 - f1-score (micro avg)  0.8593\n",
            "2023-12-24 23:00:06,120  - 4 epochs without improvement (above 'patience')-> annealing learning_rate to [9.765625e-05]\n",
            "2023-12-24 23:00:06,123 ----------------------------------------------------------------------------------------------------\n",
            "2023-12-24 23:00:06,126 learning rate too small - quitting training!\n",
            "2023-12-24 23:00:06,128 ----------------------------------------------------------------------------------------------------\n",
            "2023-12-24 23:00:06,130 Saving model ...\n"
          ]
        },
        {
          "output_type": "stream",
          "name": "stderr",
          "text": [
            "\n"
          ]
        },
        {
          "output_type": "stream",
          "name": "stdout",
          "text": [
            "2023-12-24 23:00:10,426 Done.\n",
            "2023-12-24 23:00:10,428 ----------------------------------------------------------------------------------------------------\n",
            "2023-12-24 23:00:10,552 Loading model from best epoch ...\n",
            "2023-12-24 23:00:17,954 SequenceTagger predicts: Dictionary with 4 tags: 0, 1, <START>, <STOP>\n"
          ]
        },
        {
          "output_type": "stream",
          "name": "stderr",
          "text": [
            "100%|██████████| 7/7 [05:55<00:00, 50.79s/it]"
          ]
        },
        {
          "output_type": "stream",
          "name": "stdout",
          "text": [
            "2023-12-24 23:06:14,294 \n",
            "Results:\n",
            "- F-score (micro) 0.8691\n",
            "- F-score (macro) 0.5683\n",
            "- Accuracy 0.8691\n",
            "\n",
            "By class:\n",
            "              precision    recall  f1-score   support\n",
            "\n",
            "           0     0.8687    0.9975    0.9287      3530\n",
            "           1     0.8875    0.1177    0.2079       603\n",
            "\n",
            "    accuracy                         0.8691      4133\n",
            "   macro avg     0.8781    0.5576    0.5683      4133\n",
            "weighted avg     0.8715    0.8691    0.8235      4133\n",
            "\n",
            "2023-12-24 23:06:14,296 ----------------------------------------------------------------------------------------------------\n"
          ]
        },
        {
          "output_type": "stream",
          "name": "stderr",
          "text": [
            "\n"
          ]
        },
        {
          "output_type": "execute_result",
          "data": {
            "text/plain": [
              "{'test_score': 0.8691023469634648}"
            ]
          },
          "metadata": {},
          "execution_count": 16
        }
      ]
    },
    {
      "cell_type": "code",
      "source": [
        "sent1 = \"Add sandwich ooh sandwich for lunch.\"\n",
        "sent2 = \"Add 700 calories a umm calorie protein hhhhhhhhhhhhh shake for breakfast.\"\n",
        "sent3 = \"The medium mmh medium burger I ate had 600 calories.\"\n",
        "#sent4 = \"मेरे द्वारा खाई गई कैलोरी को रिकॉर्ड करें\"\n",
        "#sent5 = \"अब तक का मेरा वोह क्या कहते हैं कैलोरी सेवन है २१०० रिकॉर्ड करो\"\n",
        "sentences = []\n",
        "sentences.append(sent1)\n",
        "sentences.append(sent2)\n",
        "sentences.append(sent3)\n",
        "#sentences.append(sent4)\n",
        "#sentences.append(sent5)"
      ],
      "metadata": {
        "id": "M30moW_FuQLY"
      },
      "execution_count": null,
      "outputs": []
    },
    {
      "cell_type": "code",
      "source": [
        "sentences"
      ],
      "metadata": {
        "colab": {
          "base_uri": "https://localhost:8080/"
        },
        "id": "kUk5UHU1vjG0",
        "outputId": "4f1a13fe-6259-4eb7-9631-26dad936f205"
      },
      "execution_count": null,
      "outputs": [
        {
          "output_type": "execute_result",
          "data": {
            "text/plain": [
              "['Add sandwich ooh sandwich for lunch.',\n",
              " 'Add 700 calories a umm calorie protein hhhhhhhhhhhhh shake for breakfast.',\n",
              " 'The medium mmh medium burger I ate had 600 calories.']"
            ]
          },
          "metadata": {},
          "execution_count": 18
        }
      ]
    },
    {
      "cell_type": "code",
      "source": [
        "from flair.data import Sentence\n",
        "from flair.models import SequenceTagger\n",
        "# load the trained model\n",
        "model = SequenceTagger.load(save_dir+'/best-model.pt')\n",
        "# create example sentence\n",
        "for x in sentences:\n",
        "  sentence = Sentence(x)\n",
        "  # predict the tags\n",
        "  model.predict(sentence)\n",
        "  print(sentence.to_tagged_string())"
      ],
      "metadata": {
        "colab": {
          "base_uri": "https://localhost:8080/"
        },
        "id": "_AtBjiR1vl-6",
        "outputId": "b5f57376-5ae7-4d65-a12d-4b29db01846f"
      },
      "execution_count": null,
      "outputs": [
        {
          "output_type": "stream",
          "name": "stdout",
          "text": [
            "2023-12-24 23:09:54,735 SequenceTagger predicts: Dictionary with 4 tags: 0, 1, <START>, <STOP>\n",
            "Sentence[7]: \"Add sandwich ooh sandwich for lunch.\" → [\"Add\"/0, \"sandwich\"/0, \"ooh\"/0, \"sandwich\"/0, \"for\"/0, \"lunch\"/0, \".\"/0]\n",
            "Sentence[12]: \"Add 700 calories a umm calorie protein hhhhhhhhhhhhh shake for breakfast.\" → [\"Add\"/0, \"700\"/0, \"calories\"/0, \"a\"/0, \"umm\"/0, \"calorie\"/0, \"protein\"/0, \"hhhhhhhhhhhhh\"/0, \"shake\"/0, \"for\"/0, \"breakfast\"/0, \".\"/0]\n",
            "Sentence[11]: \"The medium mmh medium burger I ate had 600 calories.\" → [\"The\"/0, \"medium\"/0, \"mmh\"/0, \"medium\"/0, \"burger\"/0, \"I\"/0, \"ate\"/0, \"had\"/0, \"600\"/0, \"calories\"/0, \".\"/0]\n"
          ]
        }
      ]
    }
  ]
}