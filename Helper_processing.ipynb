{
  "nbformat": 4,
  "nbformat_minor": 0,
  "metadata": {
    "colab": {
      "provenance": []
    },
    "kernelspec": {
      "name": "python3",
      "display_name": "Python 3"
    },
    "language_info": {
      "name": "python"
    }
  },
  "cells": [
    {
      "cell_type": "code",
      "source": [
        "file_path = \"/content/drive/MyDrive/4thProject/data/40percentData/data1.csv\""
      ],
      "metadata": {
        "id": "n1JgWO2PYID-"
      },
      "execution_count": null,
      "outputs": []
    },
    {
      "cell_type": "code",
      "source": [
        "import csv\n",
        "\n",
        "def count_rows(csv_file):\n",
        "    with open(csv_file, 'r') as file:\n",
        "        reader = csv.reader(file)\n",
        "        row_count = sum(1 for row in reader)\n",
        "    return row_count\n",
        "\n",
        "\n",
        "    # Replace 'your_file.csv' with the actual file path\n",
        "\n",
        "\n",
        "total_rows = count_rows(file_path)\n",
        "\n",
        "print(f\"Total number of rows in the CSV file: {total_rows}\")\n"
      ],
      "metadata": {
        "colab": {
          "base_uri": "https://localhost:8080/"
        },
        "id": "PEmWDGJNWri9",
        "outputId": "55a94a7b-fb5d-451e-a0d3-2af3454f7fa8"
      },
      "execution_count": null,
      "outputs": [
        {
          "output_type": "stream",
          "name": "stdout",
          "text": [
            "Total number of rows in the CSV file: 3980\n"
          ]
        }
      ]
    },
    {
      "cell_type": "code",
      "source": [
        "import csv\n",
        "  # Download the required data for sentence tokenization\n",
        "import nltk\n",
        "nltk.download('punkt')\n",
        "def calculate_mean_sentence_length(csv_file, column_index):\n",
        "    total_length = 0\n",
        "    total_sentences = 0\n",
        "\n",
        "    with open(csv_file, 'r') as file:\n",
        "        reader = csv.reader(file)\n",
        "        for row in reader:\n",
        "            # Make sure the column_index is within the range of columns in the row\n",
        "            if column_index < len(row):\n",
        "                sentences = nltk.sent_tokenize(row[column_index])\n",
        "                total_length += sum(len(nltk.word_tokenize(sentence)) for sentence in sentences)\n",
        "                total_sentences += len(sentences)\n",
        "\n",
        "    if total_sentences == 0:\n",
        "        return 0  # Avoid division by zero if there are no sentences\n",
        "\n",
        "    mean_length = total_length / total_sentences\n",
        "    return mean_length\n",
        "\n",
        "\n",
        "\n",
        "mean_length = calculate_mean_sentence_length(file_path,1) #1 for column 1\n",
        "\n",
        "print(f\"Mean sentence length in column disf_sentence: {mean_length:.2f} words\")\n",
        "\n",
        "\n",
        "mean_length1 = calculate_mean_sentence_length(file_path,2) #1 for column 2\n",
        "\n",
        "print(f\"Mean sentence length in column flu_sentence: {mean_length1:.2f} words\")\n"
      ],
      "metadata": {
        "colab": {
          "base_uri": "https://localhost:8080/"
        },
        "id": "5_EN2M8iX48z",
        "outputId": "d3b8dcff-6abb-45a6-9398-0b36a3bed8fc"
      },
      "execution_count": null,
      "outputs": [
        {
          "output_type": "stream",
          "name": "stderr",
          "text": [
            "[nltk_data] Downloading package punkt to /root/nltk_data...\n",
            "[nltk_data]   Unzipping tokenizers/punkt.zip.\n"
          ]
        },
        {
          "output_type": "stream",
          "name": "stdout",
          "text": [
            "Mean sentence length in column disf_sentence: 11.24 words\n",
            "Mean sentence length in column flu_sentence: 9.61 words\n"
          ]
        }
      ]
    },
    {
      "cell_type": "code",
      "source": [
        "import csv\n",
        "from collections import Counter\n",
        "\n",
        "def count_words_in_column(csv_file, column_index):\n",
        "    word_counter = Counter()\n",
        "\n",
        "    with open(csv_file, 'r') as file:\n",
        "        reader = csv.reader(file)\n",
        "        for row in reader:\n",
        "            # Make sure the column_index is within the range of columns in the row\n",
        "            if column_index < len(row):\n",
        "                words = row[column_index].split()\n",
        "                word_counter.update(words)\n",
        "\n",
        "    return word_counter\n",
        "\n",
        "\n",
        "# Replace 'your_file.csv' with the actual file path and adjust the column index (0-based) as needed\n",
        "file_path = \"/content/drive/MyDrive/4thProject/data/Disf_Data/data1.csv\"\n",
        "column_index =1  # Replace 1 with the column index you want to count words in\n",
        "\n",
        "result = count_words_in_column(file_path, column_index)\n",
        "t=-2\n",
        "for word, count in result.items():\n",
        "       t=t+int(f\"{count}\")\n",
        "print(t)\n"
      ],
      "metadata": {
        "colab": {
          "base_uri": "https://localhost:8080/"
        },
        "id": "pRl_Dq7KNi8d",
        "outputId": "836cac40-0b83-4b8d-8183-ae6b5b1bb37c"
      },
      "execution_count": null,
      "outputs": [
        {
          "output_type": "stream",
          "name": "stdout",
          "text": [
            "39690\n"
          ]
        }
      ]
    },
    {
      "cell_type": "code",
      "source": [
        "\n",
        "column_index =1  # Replace 1 with the column index you want to count words in\n",
        "\n",
        "result = count_words_in_column(file_path, column_index)\n",
        "total_word=-2\n",
        "for word, count in result.items():\n",
        "       total_word=total_word+int(f\"{count}\")\n",
        "print(total_word)"
      ],
      "metadata": {
        "colab": {
          "base_uri": "https://localhost:8080/"
        },
        "id": "oZp7Uj0bRt0N",
        "outputId": "ee80411e-e650-4b54-d0c5-70f25d5ed4d4"
      },
      "execution_count": null,
      "outputs": [
        {
          "output_type": "stream",
          "name": "stdout",
          "text": [
            "39690\n"
          ]
        }
      ]
    },
    {
      "cell_type": "code",
      "source": [
        "\n",
        "column_index =2  # Replace 1 with the column index you want to count words in\n",
        "\n",
        "result = count_words_in_column(file_path, column_index)\n",
        "flu_word=-2\n",
        "for word, count in result.items():\n",
        "       flu_word=flu_word+int(f\"{count}\")\n",
        "print(flu_word)"
      ],
      "metadata": {
        "colab": {
          "base_uri": "https://localhost:8080/"
        },
        "id": "u96zGgzVSToB",
        "outputId": "f202fc84-f192-4082-f1ed-97586f05bb53"
      },
      "execution_count": null,
      "outputs": [
        {
          "output_type": "stream",
          "name": "stdout",
          "text": [
            "33616\n"
          ]
        }
      ]
    },
    {
      "cell_type": "code",
      "source": [
        "disf_words=total_word-flu_word\n",
        "#disf_words\n",
        "pdisf_words=(disf_words/total_word)*100\n",
        "pdisf_words"
      ],
      "metadata": {
        "colab": {
          "base_uri": "https://localhost:8080/"
        },
        "id": "NImbDNrdSwg8",
        "outputId": "b0dc270c-46e3-4adb-f3e6-3b8d67d3b5b0"
      },
      "execution_count": null,
      "outputs": [
        {
          "output_type": "execute_result",
          "data": {
            "text/plain": [
              "15.303602922650542"
            ]
          },
          "metadata": {},
          "execution_count": 7
        }
      ]
    },
    {
      "cell_type": "code",
      "source": [
        "import csv\n",
        "\n",
        "def count_type_entries(csv_file, type_column_index, target_type):\n",
        "    type_c_count = 0\n",
        "\n",
        "    with open(csv_file, 'r') as file:\n",
        "        reader = csv.reader(file)\n",
        "        for row in reader:\n",
        "            # Make sure the type_column_index is within the range of columns in the row\n",
        "            if type_column_index < len(row):\n",
        "                entry_type = row[type_column_index]\n",
        "\n",
        "                # Assuming that the type is an exact match\n",
        "                if entry_type == target_type:\n",
        "                    type_c_count += 1\n",
        "\n",
        "    return type_c_count\n",
        "\n",
        "\n",
        "\n",
        "type_c_count = count_type_entries(file_path,3,'C')#3 for column no and C for type of disf\n",
        "type_f_count = count_type_entries(file_path,3,'F')\n",
        "type_r_count=count_type_entries(file_path,3,'R')\n",
        "type_fs_count=count_type_entries(file_path,3,'FS')\n",
        "type_fl_count=count_type_entries(file_path,3,'FL')\n",
        "print(f\"Number of entries with type F: {type_f_count}\")\n",
        "print(f\"Number of entries with type R: {type_r_count}\")\n",
        "print(f\"Number of entries with type C: {type_c_count}\")\n",
        "print(f\"Number of entries with type FS: {type_fs_count}\")\n",
        "print(f\"Number of entries with type FL: {type_fl_count}\")\n"
      ],
      "metadata": {
        "colab": {
          "base_uri": "https://localhost:8080/"
        },
        "id": "ClOxUhfwb_Zy",
        "outputId": "9b948508-7afb-44bb-a332-43e2bd453a08"
      },
      "execution_count": null,
      "outputs": [
        {
          "output_type": "stream",
          "name": "stdout",
          "text": [
            "Number of entries with type F: 1748\n",
            "Number of entries with type R: 1064\n",
            "Number of entries with type C: 391\n",
            "Number of entries with type FS: 252\n",
            "Number of entries with type FL: 524\n"
          ]
        }
      ]
    },
    {
      "cell_type": "code",
      "source": [
        "import numpy as np\n",
        "import matplotlib.pyplot as plt\n",
        "\n",
        "\n",
        "# creating the dataset\n",
        "data = {'Filler':type_f_count, 'Repetition':type_r_count, 'Correction':type_c_count,\n",
        "        'False Start':type_fs_count, 'Fluent':type_fl_count}\n",
        "courses = list(data.keys())\n",
        "values = list(data.values())\n",
        "\n",
        "fig = plt.figure(figsize = (8, 5))\n",
        "\n",
        "# creating the bar plot\n",
        "plt.bar(courses, values, color ='red',\n",
        "        width = 0.4)\n",
        "\n",
        "plt.xlabel(\"Disfluency Type\")\n",
        "plt.ylabel(\"Frequency\")\n",
        "plt.title(\"Distribution of Disfluency Sentences in English\")\n",
        "plt.show()"
      ],
      "metadata": {
        "colab": {
          "base_uri": "https://localhost:8080/",
          "height": 464
        },
        "id": "jr8prT8beLQ_",
        "outputId": "a3d106e0-c072-44bf-f9ad-eb1a78294333"
      },
      "execution_count": null,
      "outputs": [
        {
          "output_type": "display_data",
          "data": {
            "text/plain": [
              "<Figure size 800x500 with 1 Axes>"
            ],
            "image/png": "[encoded data removed]"
          },
          "metadata": {}
        }
      ]
    }
  ]
}